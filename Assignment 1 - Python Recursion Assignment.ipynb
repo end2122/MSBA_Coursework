{
 "cells": [
  {
   "cell_type": "markdown",
   "metadata": {},
   "source": [
    "Write a tail recursive function length that returns the total length of all the strings contained in a list of strings. \n",
    "\n",
    "For example:\n",
    "\n",
    "x=[\"John\",\"Jill\",\"Billy\"]\n",
    "\n",
    "length(x) \n",
    "\n",
    "should return 13. \n",
    "\n",
    "if \n",
    "\n",
    "x=[]\n",
    "\n",
    "length(x) should return 0.\n"
   ]
  },
  {
   "cell_type": "code",
   "execution_count": 45,
   "metadata": {},
   "outputs": [],
   "source": [
    "#SOLUTION\n",
    "\n",
    "def length(list_):\n",
    "    total_length=0\n",
    "    def trecursion(x,total_length):\n",
    "        if len(x)>0:\n",
    "            return trecursion(x[0:-1],total_length+len(x[len(x)-1]))\n",
    "        else:\n",
    "            return total_length\n",
    "    return trecursion(x,total_length)"
   ]
  },
  {
   "cell_type": "code",
   "execution_count": 46,
   "metadata": {},
   "outputs": [
    {
     "name": "stdout",
     "output_type": "stream",
     "text": [
      "13\n",
      "0\n"
     ]
    }
   ],
   "source": [
    "x=[\"John\",\"Jill\",\"Billy\"]\n",
    "print(length(x)) # Should print 13\n",
    "\n",
    "x=[]\n",
    "print(length(x)) # Should print 0"
   ]
  },
  {
   "cell_type": "markdown",
   "metadata": {},
   "source": [
    "A LinkedList object is defined in python as follows:\n",
    "\n",
    "class LinkedList:\n",
    "        empty = ()\n",
    "        def __init__(self, first, rest=empty):\n",
    "            assert rest is LinkedList.empty or isinstance(rest, LinkedList)\n",
    "            self.first = first\n",
    "            self.rest = rest\n",
    "            \n",
    "\n",
    "Add the following functions to this object definition (each function must be tail recursive):\n",
    "\n",
    "get(i): returns the ith item in the linked list or None if there is no item at that index\n",
    "get_sublist(i): returns the sublist at the item corresponding to i or None if there is no item at that index\n",
    "length(i): returns the length of the list at item i\n",
    "\n",
    "For example:\n",
    "\n",
    "alist = LinkedList(1,(LinkedList(2, LinkedList(3,LinkedList(4)))))\n",
    "\n",
    "alist.get(0) should return 1\n",
    "\n",
    "alist.get(2) should return 3\n",
    "\n",
    "alist.get_sublist(2) should return the list rooted at 2 alist.get_sublist(2).first should print 2 \n",
    "\n",
    "alist.length() should return 4\n",
    "\n",
    "<b>Make sure all functions are tail recursive!</b>"
   ]
  },
  {
   "cell_type": "code",
   "execution_count": 47,
   "metadata": {},
   "outputs": [],
   "source": [
    "class LinkedList:\n",
    "        empty = ()\n",
    "        def __init__(self, first, rest=empty):\n",
    "            assert rest is LinkedList.empty or isinstance(rest, LinkedList)\n",
    "            self.first = first\n",
    "            self.rest = rest\n",
    "                 \n",
    "        def get(self, i):\n",
    "            #get function code goes here\n",
    "            count=0\n",
    "            def tget(self,i,count):\n",
    "                if(i==count):\n",
    "                    return self.first\n",
    "                elif (count<i) & (self.rest!=()):\n",
    "                    return tget(self.rest,i,count+1)\n",
    "                else:\n",
    "                    return None\n",
    "            return tget(self,i,count)\n",
    "        \n",
    "        def get_sublist(self,i):\n",
    "            #get_sublist function code goes here\n",
    "            index=0\n",
    "            def tget_sublist(self,i,index):\n",
    "                if index<i:\n",
    "                    if self.rest != ():\n",
    "                        return tget_sublist(self.rest,i,index+1)\n",
    "                    else:\n",
    "                        return None\n",
    "                elif index==i:\n",
    "                    return self\n",
    "                else:\n",
    "                    return None\n",
    "            return tget_sublist(self,i,index)\n",
    "                 \n",
    "        def length(self,l=0):\n",
    "            #length function code goes here\n",
    "            total_length=0\n",
    "            index=0\n",
    "            def tlength(self,l,index,total_length):\n",
    "                if index<l:\n",
    "                    if self.rest!=():\n",
    "                        return tlength(self.rest,l,index+1,total_length)\n",
    "                    else:\n",
    "                        return None\n",
    "                elif self.rest!=():\n",
    "                    return tlength(self.rest,l,index,total_length+1)\n",
    "                else:\n",
    "                    return total_length+1\n",
    "            return tlength(self,l,index,total_length)"
   ]
  },
  {
   "cell_type": "code",
   "execution_count": 48,
   "metadata": {},
   "outputs": [
    {
     "name": "stdout",
     "output_type": "stream",
     "text": [
      "2\n",
      "4\n",
      "3\n",
      "None\n",
      "None\n"
     ]
    }
   ],
   "source": [
    "l = LinkedList(1,(LinkedList(2, LinkedList(3,LinkedList(4)))))\n",
    "print(l.get_sublist(1).first) #Should print 2\n",
    "print(l.length()) #Should print 4\n",
    "print(l.get(2)) #Should print 3\n",
    "print(l.get(5)) #Should return None\n",
    "print(l.get_sublist(5)) #should return None\n"
   ]
  }
 ],
 "metadata": {
  "kernelspec": {
   "display_name": "Python 3",
   "language": "python",
   "name": "python3"
  },
  "language_info": {
   "codemirror_mode": {
    "name": "ipython",
    "version": 3
   },
   "file_extension": ".py",
   "mimetype": "text/x-python",
   "name": "python",
   "nbconvert_exporter": "python",
   "pygments_lexer": "ipython3",
   "version": "3.7.0"
  }
 },
 "nbformat": 4,
 "nbformat_minor": 2
}
