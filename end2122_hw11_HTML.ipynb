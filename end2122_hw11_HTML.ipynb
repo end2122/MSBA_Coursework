{
 "cells": [
  {
   "cell_type": "markdown",
   "metadata": {},
   "source": [
    "<subject>\n",
    "Homework How-To\n",
    "</subject>\n",
    "\n",
    "<details>\n",
    "\n",
    "**Naming Conventions**\n",
    "\n",
    "When naming your files for upload, you must follow the format below:\n",
    "\n",
    "    <uni>_<assignment>_<details [optional]>.<extension>\n",
    "\n",
    "For example, if I needed to hand in HW 0, any of the below formats would be sufficient for a file name:\n",
    "\n",
    "- pl2648_hw0.txt\n",
    "- pl2648_hw0.sh\n",
    "- pl2648_hw0_all_in_one.txt\n",
    "- Pl2648_hw0_bash_program.sh\n",
    "\n",
    "This naming format allows for autograding of all assignments. If your files are not named with this format, you should expect a grade of zero for the assignment.\n",
    "\n",
    "**Grading**\n",
    "\n",
    "Possible points on late homeworks are deducted by 50% for each day they are late. For example, if you get 80% of the total possible credits on a homework but hand in that homework a day late, you would get 40%. Assignments two days late get zero points.\n",
    "\n",
    "Once solutions are posted and graded assignments are handed back, students have 1 week to bring their grading discrepancies to a CA for consideration of possible grading errors. \n",
    "\n",
    "**Getting Help**\n",
    "\n",
    "Asking for help is a great way to increase your chance of success. However there are some rules. When asking for help (especially from a fellow student), *you can show your helper your code but you can not view theirs*. You work needs to be your own. \n",
    "\n",
    "If you need to reach out to a CA or the Professor for help, please do so via Piazza and not via email. Answers given via Piazza will help you as well as other students. Thus, emails will always have a lower priority for response than Piazza questions. If you do email the professor or TA, please make a note of what section you are in. This helps us identify you in courseworks faster.\n",
    "</details>"
   ]
  },
  {
   "cell_type": "markdown",
   "metadata": {
    "deletable": false,
    "editable": false,
    "nbgrader": {
     "checksum": "fb8eef269ec35645ee6d8d4f7985666f",
     "grade": false,
     "grade_id": "cell-e0f0a70e119845f4",
     "locked": true,
     "schema_version": 1,
     "solution": false
    }
   },
   "source": [
    "**Q**: Create a function to return an HTML string. The HTML should contain three paragraphs, one photo, and 3 link elements. The paragraphs and link elements must contain content. The links must have a class of \"large\". The HTML must contain a title element and all necessary container tags.\n",
    "\n",
    "[1 point]"
   ]
  },
  {
   "cell_type": "code",
   "execution_count": null,
   "metadata": {
    "deletable": false,
    "nbgrader": {
     "checksum": "70dd73de7b2a9b0b3ec3542020d2159c",
     "grade": false,
     "grade_id": "cell-f3644003de0bd0f9",
     "locked": false,
     "schema_version": 1,
     "solution": true
    }
   },
   "outputs": [],
   "source": [
    "def get_html() -> str:\n",
    "    html = \"<!doctype html> <html lang=en> <head><meta charset=utf-8><title>end2122</title></head><body><p>Potatoes</p> <p>Are 2</p> <p>Potatoes 3</p> <img src='https://d2lnr5mha7bycj.cloudfront.net/product-image/file/large_6a3d718e-03ce-4af9-a006-19941820d02a.jpg'</img><class='large' href='https://www.google.com/search?q=potato'>potato</a><class='large' href='https://www.google.com/search?q=fries>fries'</a><class='large' href='https://www.google.com/search?q=sweet+potato'>sweet potato</a></body></html>\"\n",
    "    return html"
   ]
  },
  {
   "cell_type": "code",
   "execution_count": null,
   "metadata": {
    "deletable": false,
    "editable": false,
    "nbgrader": {
     "checksum": "c70b94a29e39e7e3e71e84bdfd0461ae",
     "grade": true,
     "grade_id": "cell-5ac72090144c46bf",
     "locked": true,
     "points": 0.25,
     "schema_version": 1,
     "solution": false
    }
   },
   "outputs": [],
   "source": []
  },
  {
   "cell_type": "code",
   "execution_count": null,
   "metadata": {
    "deletable": false,
    "editable": false,
    "nbgrader": {
     "checksum": "f4073be240c1d74408e43786311ac6da",
     "grade": true,
     "grade_id": "cell-03f712e87ea59353",
     "locked": true,
     "points": 0,
     "schema_version": 1,
     "solution": false
    }
   },
   "outputs": [],
   "source": [
    "import bs4\n",
    "\n",
    "soup = bs4.BeautifulSoup(get_html(), 'html.parser')"
   ]
  },
  {
   "cell_type": "code",
   "execution_count": null,
   "metadata": {
    "deletable": false,
    "editable": false,
    "nbgrader": {
     "checksum": "17b4d26a085f3969cb90a484cd84fec6",
     "grade": true,
     "grade_id": "cell-12b8cf393699d585",
     "locked": true,
     "points": 0.25,
     "schema_version": 1,
     "solution": false
    }
   },
   "outputs": [],
   "source": []
  },
  {
   "cell_type": "code",
   "execution_count": null,
   "metadata": {
    "deletable": false,
    "editable": false,
    "nbgrader": {
     "checksum": "ecd12ecca1ce7b7aff8fa6354ea1c78e",
     "grade": true,
     "grade_id": "cell-8f087ce21263aa9e",
     "locked": true,
     "points": 0.25,
     "schema_version": 1,
     "solution": false
    }
   },
   "outputs": [],
   "source": []
  },
  {
   "cell_type": "code",
   "execution_count": null,
   "metadata": {
    "deletable": false,
    "editable": false,
    "nbgrader": {
     "checksum": "ee3027956d746b7a3608f2b12bec06cc",
     "grade": true,
     "grade_id": "cell-f30d48a3c8a9d24d",
     "locked": true,
     "points": 0.25,
     "schema_version": 1,
     "solution": false
    }
   },
   "outputs": [],
   "source": []
  },
  {
   "cell_type": "markdown",
   "metadata": {
    "collapsed": true,
    "deletable": false,
    "editable": false,
    "nbgrader": {
     "checksum": "e9f603634c8fbb8cce5d7dcd1efcea1b",
     "grade": false,
     "grade_id": "cell-580a418a10792d7a",
     "locked": true,
     "schema_version": 1,
     "solution": false
    }
   },
   "source": [
    "**Q**: Review the HTML for the front page of http://www.nytimes.com/. Count the number of links on the page. Don't do this by hand. Implement a function that takes the HTML for the page and returns the number of links on the page. \n",
    "\n",
    "[1 point]"
   ]
  },
  {
   "cell_type": "code",
   "execution_count": 2,
   "metadata": {},
   "outputs": [
    {
     "data": {
      "text/plain": [
       "224"
      ]
     },
     "execution_count": 2,
     "metadata": {},
     "output_type": "execute_result"
    }
   ],
   "source": [
    "from bs4 import BeautifulSoup as bs\n",
    "import requests\n",
    "response = requests.get('https://www.nytimes.com/')\n",
    "results_page = bs(response.content, 'html.parser')\n",
    "data = results_page.find_all('a')\n",
    "links = list()\n",
    "potato = 0\n",
    "for tag in data:\n",
    "    try:\n",
    "        links.append(tag.get('href'))\n",
    "    except:\n",
    "        print('Error: '+tag)\n",
    "        break\n",
    "for i in links:\n",
    "    potato+=1\n",
    "\n",
    "potato"
   ]
  },
  {
   "cell_type": "code",
   "execution_count": null,
   "metadata": {
    "deletable": false,
    "nbgrader": {
     "checksum": "2d2a70335b511be0b6424a1e5f3bf84e",
     "grade": false,
     "grade_id": "cell-21dc727f80874276",
     "locked": false,
     "schema_version": 1,
     "solution": true
    }
   },
   "outputs": [],
   "source": [
    "import bs4\n",
    "\n",
    "def count_links(page_source: bytes) -> int:\n",
    "    from bs4 import BeautifulSoup as bs\n",
    "    import requests\n",
    "    response = requests.get('https://www.nytimes.com/')\n",
    "    results_page = bs(response.content, 'html.parser')\n",
    "    data = results_page.find_all('a')\n",
    "    links = list()\n",
    "    potato = 0\n",
    "    for tag in data:\n",
    "        try:\n",
    "            links.append(tag.get('href'))\n",
    "        except:\n",
    "            print('Error: '+tag)\n",
    "            break\n",
    "    for i in links:\n",
    "        potato+=1\n",
    "    \n",
    "    return potato"
   ]
  },
  {
   "cell_type": "code",
   "execution_count": null,
   "metadata": {
    "deletable": false,
    "editable": false,
    "nbgrader": {
     "checksum": "6161c15f626c9a61dee0fa98d6fa4a3a",
     "grade": true,
     "grade_id": "cell-cdd353dd1486e579",
     "locked": true,
     "points": 1,
     "schema_version": 1,
     "solution": false
    }
   },
   "outputs": [],
   "source": []
  },
  {
   "cell_type": "markdown",
   "metadata": {},
   "source": [
    "**Q**: Provided along with this homework is an HTML table of rental prices and dates of contract start from a real-estate website. Write three functions (the signatures of which are below) that will parse the rentals.html file for the following rental information: `(date, price, beds, baths, area)`. The `parse_html` function should return a list of tuples, each tuple containing information in the following form: \n",
    "\n",
    "Tuple order: `(date, price, beds, baths, area)`\n",
    "\n",
    "- date: int - unix timestamp of activity. Accurate to the second.\n",
    "- price: int - price of rental. Accurate to the dollar\n",
    "- beds: int - number of bedrooms\n",
    "- baths: int - number of bathrooms\n",
    "- area: int - number of sq. ft. in rental (provide as available). \n",
    "\n",
    "\n",
    "The resultant list produced by `parse_html` should be ordered in the same way rows are ordered in the HTML table.\n",
    "\n",
    "[3 points]"
   ]
  },
  {
   "cell_type": "code",
   "execution_count": null,
   "metadata": {
    "deletable": false,
    "nbgrader": {
     "checksum": "756ac418e5f899083fd621c46b71344a",
     "grade": false,
     "grade_id": "cell-b97e65ecdfb877dd",
     "locked": false,
     "schema_version": 1,
     "solution": true
    }
   },
   "outputs": [],
   "source": [
    "import re\n",
    "\n",
    "import bs4\n",
    "\n",
    "\n",
    "def parse_html(html: bytes) -> list:\n",
    "    soup = bs4.BeautifulSoup(html,'html.parser')\n",
    "    x = soup.find_all('tbody',class_='listing_block loaded')[0].find_all('tr')\n",
    "    potato = list()\n",
    "    for row in x:\n",
    "        m = parse_tr(row)\n",
    "        potato.append(m)\n",
    "    return potato\n",
    "\n",
    "\n",
    "def parse_tr(row: bs4.element.Tag) -> tuple:\n",
    "    \"\"\"\n",
    "    Return a tuple of (date, price, beds, baths, area) for the given row of data.\n",
    "\n",
    "    This function should be used by parse_html.\n",
    "    \"\"\"\n",
    "    date = parse_leading_number(row.find_all('td')[0].get('data-sort-value'))\n",
    "    price = parse_leading_number(row.find_all('td')[2].get('data-sort-value'))\n",
    "    beds = parse_leading_number(row.find_all('td')[3].get('data-sort-value') + ' beds')\n",
    "    bath = parse_leading_number(row.find_all('td')[4].get('data-sort-value') + ' bath')\n",
    "    area = parse_leading_number(re.search(r'\\d+',row.find_all('td')[5].get_text()).group() + ' ft²')\n",
    "    chk = (int(date),int(price),int(beds),int(bath),int(area))\n",
    "    return chk\n",
    "    \n",
    "    \n",
    "def parse_leading_number(string: str) -> str:\n",
    "    \"\"\"\n",
    "    This function should be used by parse_tr.\n",
    "    \"\"\"\n",
    "    mid = re.search(r'\\d+',string).group()\n",
    "    return mid"
   ]
  },
  {
   "cell_type": "code",
   "execution_count": null,
   "metadata": {},
   "outputs": [],
   "source": []
  },
  {
   "cell_type": "code",
   "execution_count": null,
   "metadata": {
    "deletable": false,
    "editable": false,
    "nbgrader": {
     "checksum": "3ebd1d2e23c28a6c483d96e4177b3df4",
     "grade": true,
     "grade_id": "cell-638323489d78b610",
     "locked": true,
     "points": 0.25,
     "schema_version": 1,
     "solution": false
    }
   },
   "outputs": [],
   "source": [
    "### BEGIN TESTS\n",
    "assert parse_leading_number('0 ft²') == '0'\n",
    "### END TESTS"
   ]
  },
  {
   "cell_type": "code",
   "execution_count": null,
   "metadata": {
    "deletable": false,
    "editable": false,
    "nbgrader": {
     "checksum": "e3433f68babf1f1ea313b081ea121168",
     "grade": true,
     "grade_id": "cell-e11e23129d22d20e",
     "locked": true,
     "points": 0.25,
     "schema_version": 1,
     "solution": false
    }
   },
   "outputs": [],
   "source": [
    "### BEGIN TESTS\n",
    "assert parse_leading_number('1 bath') == '1'\n",
    "### END TESTS"
   ]
  },
  {
   "cell_type": "code",
   "execution_count": null,
   "metadata": {
    "deletable": false,
    "editable": false,
    "nbgrader": {
     "checksum": "87054754e5e9213985367136cf49a99a",
     "grade": true,
     "grade_id": "cell-60db9d3cb28c8c27",
     "locked": true,
     "points": 0.25,
     "schema_version": 1,
     "solution": false
    }
   },
   "outputs": [],
   "source": [
    "### BEGIN TESTS\n",
    "assert parse_leading_number('2 beds') == '2'\n",
    "### END TESTS"
   ]
  },
  {
   "cell_type": "code",
   "execution_count": null,
   "metadata": {
    "deletable": false,
    "editable": false,
    "nbgrader": {
     "checksum": "005eade8448f8b0f95c13db4ff115d2d",
     "grade": true,
     "grade_id": "cell-2c5e7dd3328ca66d",
     "locked": true,
     "points": 0.25,
     "schema_version": 1,
     "solution": false
    }
   },
   "outputs": [],
   "source": [
    "### BEGIN TESTS\n",
    "assert parse_leading_number('710 ft²') == '710'\n",
    "### END TESTS"
   ]
  },
  {
   "cell_type": "code",
   "execution_count": null,
   "metadata": {
    "deletable": false,
    "editable": false,
    "nbgrader": {
     "checksum": "518035a50e812131e665ded0eb8237c5",
     "grade": true,
     "grade_id": "cell-7074387a5c5d77de",
     "locked": true,
     "points": 0,
     "schema_version": 1,
     "solution": false
    }
   },
   "outputs": [],
   "source": [
    "### BEGIN TESTS\n",
    "with open('rentals.html', 'rb') as fp:\n",
    "    source = fp.read()\n",
    "### END TESTS"
   ]
  },
  {
   "cell_type": "code",
   "execution_count": null,
   "metadata": {
    "deletable": false,
    "editable": false,
    "nbgrader": {
     "checksum": "7ed40a26d3045ca1a450e9447a7a589e",
     "grade": true,
     "grade_id": "cell-a467b8c3111a4f40",
     "locked": true,
     "points": 0,
     "schema_version": 1,
     "solution": false
    }
   },
   "outputs": [],
   "source": []
  },
  {
   "cell_type": "code",
   "execution_count": null,
   "metadata": {
    "deletable": false,
    "editable": false,
    "nbgrader": {
     "checksum": "97d987445d4971b3a38e66c0572a9cef",
     "grade": true,
     "grade_id": "cell-42892dd9e18b6c1d",
     "locked": true,
     "points": 0.2,
     "schema_version": 1,
     "solution": false
    }
   },
   "outputs": [],
   "source": []
  },
  {
   "cell_type": "code",
   "execution_count": null,
   "metadata": {
    "deletable": false,
    "editable": false,
    "nbgrader": {
     "checksum": "a12d9b96cc492e1937e41c49037c8384",
     "grade": true,
     "grade_id": "cell-c0c1c437553ecc30",
     "locked": true,
     "points": 0.2,
     "schema_version": 1,
     "solution": false
    }
   },
   "outputs": [],
   "source": []
  },
  {
   "cell_type": "code",
   "execution_count": null,
   "metadata": {
    "deletable": false,
    "editable": false,
    "nbgrader": {
     "checksum": "2a2d35737eaeb3c482c79dc81f3b31ec",
     "grade": true,
     "grade_id": "cell-105838e36d64b2a3",
     "locked": true,
     "points": 0.2,
     "schema_version": 1,
     "solution": false
    }
   },
   "outputs": [],
   "source": []
  },
  {
   "cell_type": "code",
   "execution_count": null,
   "metadata": {
    "deletable": false,
    "editable": false,
    "nbgrader": {
     "checksum": "9f87384f6745c89f0d8f7a3dc45de139",
     "grade": true,
     "grade_id": "cell-229f020ea693d464",
     "locked": true,
     "points": 0.2,
     "schema_version": 1,
     "solution": false
    }
   },
   "outputs": [],
   "source": []
  },
  {
   "cell_type": "code",
   "execution_count": null,
   "metadata": {
    "deletable": false,
    "editable": false,
    "nbgrader": {
     "checksum": "56276cf34022d8ff5c200070250898de",
     "grade": true,
     "grade_id": "cell-53d54bbc5c44668e",
     "locked": true,
     "points": 0.2,
     "schema_version": 1,
     "solution": false
    }
   },
   "outputs": [],
   "source": []
  },
  {
   "cell_type": "code",
   "execution_count": null,
   "metadata": {
    "deletable": false,
    "editable": false,
    "nbgrader": {
     "checksum": "3bbb8ad5c2dca28e11c48aae4e92f4f9",
     "grade": true,
     "grade_id": "cell-5c877c1bcca794d7",
     "locked": true,
     "points": 0.25,
     "schema_version": 1,
     "solution": false
    }
   },
   "outputs": [],
   "source": [
    "### BEGIN TESTS\n",
    "assert len(parse_html(source)) == 57\n",
    "### END TESTS"
   ]
  },
  {
   "cell_type": "code",
   "execution_count": null,
   "metadata": {
    "deletable": false,
    "editable": false,
    "nbgrader": {
     "checksum": "581ec56e380317cfc9c9e2c4d408f893",
     "grade": true,
     "grade_id": "cell-bc69f57c37f5a17c",
     "locked": true,
     "points": 0.75,
     "schema_version": 1,
     "solution": false
    }
   },
   "outputs": [],
   "source": []
  },
  {
   "cell_type": "code",
   "execution_count": null,
   "metadata": {
    "deletable": false,
    "editable": false,
    "nbgrader": {
     "checksum": "0c374ee1a50613b75e45611fb8fe3aab",
     "grade": false,
     "grade_id": "cell-1e4ef8a608d5b7fa",
     "locked": true,
     "schema_version": 1,
     "solution": false
    }
   },
   "outputs": [],
   "source": [
    "# A graph to view your parsed results. This cell is ungraded and just for fun. \n",
    "import datetime\n",
    "\n",
    "from bokeh.plotting import figure, output_notebook, show\n",
    "\n",
    "output_notebook()\n",
    "\n",
    "rows = parse_html(source)\n",
    "x = [datetime.datetime.fromtimestamp(r[0]) for r in rows if r[2] == 1]\n",
    "y = [r[1] for r in rows if r[2] == 1]\n",
    "\n",
    "p = figure(\n",
    "    plot_width=900, \n",
    "    plot_height=400,\n",
    "    x_axis_type='datetime',\n",
    ")\n",
    "p.line(x, y, line_width=2)\n",
    "p.xaxis.axis_label = 'Rental Contract Signed (Date)'\n",
    "p.yaxis.axis_label = 'Rental Price ($)'\n",
    "show(p)"
   ]
  }
 ],
 "metadata": {
  "kernelspec": {
   "display_name": "Python 3",
   "language": "python",
   "name": "python3"
  },
  "language_info": {
   "codemirror_mode": {
    "name": "ipython",
    "version": 3
   },
   "file_extension": ".py",
   "mimetype": "text/x-python",
   "name": "python",
   "nbconvert_exporter": "python",
   "pygments_lexer": "ipython3",
   "version": "3.7.0"
  }
 },
 "nbformat": 4,
 "nbformat_minor": 2
}
