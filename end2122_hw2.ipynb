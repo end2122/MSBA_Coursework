{
 "cells": [
  {
   "cell_type": "code",
   "execution_count": null,
   "metadata": {
    "deletable": false,
    "editable": false,
    "nbgrader": {
     "checksum": "da34ff7145f588f58ca1baac659eaf92",
     "grade": true,
     "grade_id": "cell-79849c5bf45cf5d8",
     "locked": true,
     "points": 0,
     "schema_version": 1,
     "solution": false
    }
   },
   "outputs": [],
   "source": []
  },
  {
   "cell_type": "markdown",
   "metadata": {},
   "source": [
    "**Q**: Write a recursive function `sum_list` to find the sum of all elements in a list. You can assume the list is flat. You can not use the built-in function `sum()`. You can not use iteration via a `for` or `while` loop.\n",
    "\n",
    "[2 points]"
   ]
  },
  {
   "cell_type": "code",
   "execution_count": null,
   "metadata": {
    "deletable": false,
    "nbgrader": {
     "checksum": "351ee1b57f41de69008d53f74d6976d9",
     "grade": false,
     "grade_id": "cell-1da160cbcad5544d",
     "locked": false,
     "schema_version": 1,
     "solution": true
    }
   },
   "outputs": [],
   "source": [
    "def sum_list(list_):\n",
    "    \"\"\"Returns sum of all elements in a list\"\"\"\n",
    "    if len(list_)==0:\n",
    "        return 0\n",
    "    else:\n",
    "        output = list_[0] + sum_list(list_[1:])\n",
    "        return output"
   ]
  },
  {
   "cell_type": "code",
   "execution_count": null,
   "metadata": {
    "deletable": false,
    "editable": false,
    "nbgrader": {
     "checksum": "68599ede82a4514983acd18c653ccd83",
     "grade": true,
     "grade_id": "cell-923978f1255fae48",
     "locked": true,
     "points": 1,
     "schema_version": 1,
     "solution": false
    }
   },
   "outputs": [],
   "source": []
  },
  {
   "cell_type": "code",
   "execution_count": null,
   "metadata": {
    "deletable": false,
    "editable": false,
    "nbgrader": {
     "checksum": "01037da94b1fcf1a46eae9cce45e1ff5",
     "grade": true,
     "grade_id": "cell-601b53d0f1168ba6",
     "locked": true,
     "points": 1,
     "schema_version": 1,
     "solution": false
    }
   },
   "outputs": [],
   "source": []
  },
  {
   "cell_type": "markdown",
   "metadata": {},
   "source": [
    "---"
   ]
  },
  {
   "cell_type": "markdown",
   "metadata": {},
   "source": [
    "**Q**: Write a recursive function `gcd` to find the greatest common denominator between two numbers. Use the Internet to find the algorithm for finding the greatest common denominator. Then implement it in Python. [2 points]"
   ]
  },
  {
   "cell_type": "code",
   "execution_count": null,
   "metadata": {
    "deletable": false,
    "nbgrader": {
     "checksum": "8a46e14fd6cd7be1c7727e1b757cd529",
     "grade": false,
     "grade_id": "cell-484827eaf8ca73e3",
     "locked": false,
     "schema_version": 1,
     "solution": true
    }
   },
   "outputs": [],
   "source": [
    "def gcd(x, y):\n",
    "    \"\"\"Returns GCD between two numbers\"\"\"\n",
    "    old_y = y\n",
    "    new_y = x % y\n",
    "    if new_y == 0:\n",
    "        return old_y\n",
    "    else:\n",
    "        return gcd(old_y, new_y)"
   ]
  },
  {
   "cell_type": "code",
   "execution_count": null,
   "metadata": {
    "deletable": false,
    "editable": false,
    "nbgrader": {
     "checksum": "b75cd21c94c7ff38bae5ec08b34d2005",
     "grade": true,
     "grade_id": "cell-a6ffc7df4df38f05",
     "locked": true,
     "points": 1,
     "schema_version": 1,
     "solution": false
    }
   },
   "outputs": [],
   "source": []
  },
  {
   "cell_type": "code",
   "execution_count": null,
   "metadata": {
    "deletable": false,
    "editable": false,
    "nbgrader": {
     "checksum": "fa76514e9fe7a1e33e8553f025b69a8b",
     "grade": true,
     "grade_id": "cell-09cd9e8952703e5b",
     "locked": true,
     "points": 1,
     "schema_version": 1,
     "solution": false
    }
   },
   "outputs": [],
   "source": []
  },
  {
   "cell_type": "markdown",
   "metadata": {},
   "source": [
    "---"
   ]
  },
  {
   "cell_type": "markdown",
   "metadata": {},
   "source": [
    "**Q**: Create a recursive function `fib` to find the nth Fibonacci number. Assume that the the sequence starts with `0, 1, 1, ...`. [2 points]"
   ]
  },
  {
   "cell_type": "code",
   "execution_count": null,
   "metadata": {
    "deletable": false,
    "nbgrader": {
     "checksum": "2828ea9f0104286c78d8c5a93e31185b",
     "grade": false,
     "grade_id": "cell-be7a8a766b1b4e38",
     "locked": false,
     "schema_version": 1,
     "solution": true
    }
   },
   "outputs": [],
   "source": [
    "def fib(n):\n",
    "    \"\"\"Returns Nth Fibonacci number\"\"\"\n",
    "    if n == 0:\n",
    "        return 0\n",
    "    elif n == 1 or n == 2:\n",
    "        return 1\n",
    "    else:\n",
    "        return fib(n-1)+fib(n-2)"
   ]
  },
  {
   "cell_type": "code",
   "execution_count": null,
   "metadata": {
    "deletable": false,
    "editable": false,
    "nbgrader": {
     "checksum": "b66649760a3e56ee1466e9de375cc5d7",
     "grade": true,
     "grade_id": "cell-ef3e9b562e825d7f",
     "locked": true,
     "points": 1,
     "schema_version": 1,
     "solution": false
    }
   },
   "outputs": [],
   "source": []
  },
  {
   "cell_type": "code",
   "execution_count": null,
   "metadata": {
    "deletable": false,
    "editable": false,
    "nbgrader": {
     "checksum": "f3a346eb2f2e8d9a7346a67f6ffc2e34",
     "grade": true,
     "grade_id": "cell-50ad138e1467ce1b",
     "locked": true,
     "points": 1,
     "schema_version": 1,
     "solution": false
    }
   },
   "outputs": [],
   "source": []
  },
  {
   "cell_type": "markdown",
   "metadata": {},
   "source": [
    "---"
   ]
  },
  {
   "cell_type": "markdown",
   "metadata": {},
   "source": [
    "**Q**: Write a recursive function `recurse` that determines the recursion limit of Python on your machine. A recursion limit is the maximum number of times a function can call itself. The function should return the recursion limit that is reached. [2 points]"
   ]
  },
  {
   "cell_type": "code",
   "execution_count": 2,
   "metadata": {
    "deletable": false,
    "nbgrader": {
     "checksum": "4e40ca785858ac31028c021e0103bcc3",
     "grade": false,
     "grade_id": "cell-23cabe3a6fd9d509",
     "locked": false,
     "schema_version": 1,
     "solution": true
    }
   },
   "outputs": [
    {
     "name": "stdout",
     "output_type": "stream",
     "text": [
      "0\n"
     ]
    }
   ],
   "source": [
    "num = 0\n",
    "\n",
    "def recurse(n):\n",
    "    \"\"\"Returns recursion limit\"\"\"\n",
    "    global num\n",
    "    \n",
    "    try:\n",
    "        if n>0:\n",
    "            num+=1\n",
    "            recurse(n-1)\n",
    "        else:\n",
    "            print(num)\n",
    "    except:\n",
    "        raise RuntimeError(str(num)+' recursions successful')\n",
    "\n",
    "recurse(0)"
   ]
  },
  {
   "cell_type": "code",
   "execution_count": null,
   "metadata": {
    "deletable": false,
    "editable": false,
    "nbgrader": {
     "checksum": "4e4d7f6e86f05e2ba6b9ad15dcadafc9",
     "grade": true,
     "grade_id": "cell-ef5d6fef7fa5b71b",
     "locked": true,
     "points": 1,
     "schema_version": 1,
     "solution": false
    }
   },
   "outputs": [],
   "source": []
  },
  {
   "cell_type": "code",
   "execution_count": null,
   "metadata": {
    "deletable": false,
    "editable": false,
    "nbgrader": {
     "checksum": "d6488a84775abee989bb323bdce8fec1",
     "grade": true,
     "grade_id": "cell-df21a08199acd722",
     "locked": true,
     "points": 1,
     "schema_version": 1,
     "solution": false
    }
   },
   "outputs": [],
   "source": []
  }
 ],
 "metadata": {
  "kernelspec": {
   "display_name": "Python 3",
   "language": "python",
   "name": "python3"
  },
  "language_info": {
   "codemirror_mode": {
    "name": "ipython",
    "version": 3
   },
   "file_extension": ".py",
   "mimetype": "text/x-python",
   "name": "python",
   "nbconvert_exporter": "python",
   "pygments_lexer": "ipython3",
   "version": "3.6.5"
  }
 },
 "nbformat": 4,
 "nbformat_minor": 2
}
