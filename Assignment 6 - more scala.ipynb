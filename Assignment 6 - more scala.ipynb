{
 "cells": [
  {
   "cell_type": "markdown",
   "metadata": {},
   "source": [
    "<h1>Problem 1</h1>\n",
    "You are given a dataset in a scala Array with the following properties:\n",
    "\n",
    "* Each element in the array corresponds to one row of the dataset\n",
    "* Each element is in the form of a comma separated string \n",
    "* You know the number of columns but not the number of rows in the data set *\n",
    "* Write the scala code that computes the mean and variance of each column.\n",
    "\n",
    "Your code should take into account the possibility that not every data item is convertible into a Double and should remove each nonconvertible value from the calculations. You should also account for the possibility that the mean is indeterminate (i.e., the array has 0 elements).\n",
    "\n",
    "For this assignment, you can use scala’s iteration capabilities. See http://tutorials.jenkov.com/scala/for.html for help\n",
    "\n",
    "NOTES:\n",
    "<ol>\n",
    "<li> Arrays are immutable in dimension and you need to create a new array. To initialize a multidimensional array of m rows and n cols use the ofDim function\n",
    "    <p>\n",
    "\n",
    "$ var \\: x = Array.ofDim[A](m,n) $\n",
    "<p>\n",
    "<li> If x is an Array, x.transpose, transposes the array\n",
    "\n",
    "<li> Write a function that calculates the mean of an array and another function that calculates the variance. If the array is empty, these functions should return None\n",
    "\n",
    "<li> Use Option to deal with missing values (see the in-class example)\n",
    "\n",
    "<p><p>\n",
    "Examples:\n",
    "\n",
    "Array(“1.2,3.1,2.4”,\",1.4,2.1\",\"8.1,2.6,bc\",\"7.1,3.2,9.4\")\n",
    "\n",
    "should return:\n",
    "\n",
    "means: Array(5.466666666666666, 2.575, 4.633333333333334)\n",
    "\n",
    "variances: Array(9.268888888888888, 0.5118750000000001, 11.375555555555556"
   ]
  },
  {
   "cell_type": "code",
   "execution_count": 1,
   "metadata": {},
   "outputs": [
    {
     "data": {
      "text/plain": [
       "Intitializing Scala interpreter ..."
      ]
     },
     "metadata": {},
     "output_type": "display_data"
    },
    {
     "data": {
      "text/plain": [
       "Spark Web UI available at http://192.168.86.26:4041\n",
       "SparkContext available as 'sc' (version = 2.4.0, master = local[*], app id = local-1551755381119)\n",
       "SparkSession available as 'spark'\n"
      ]
     },
     "metadata": {},
     "output_type": "display_data"
    },
    {
     "data": {
      "text/plain": [
       "get_mean: (arr: Array[String])Array[Double]\r\n",
       "test_dataset: Array[String] = Array(1.2,3.1,2.4, ,1.4,2.1, 8.1,2.6,bc, 7.1,3.2,9.4)\r\n",
       "res0: Array[Double] = Array(5.466666666666666, 2.575, 4.633333333333334)\n"
      ]
     },
     "execution_count": 1,
     "metadata": {},
     "output_type": "execute_result"
    }
   ],
   "source": [
    "def get_mean(arr: Array[String]):Array[Double]={\n",
    "    import scala.util.Try \n",
    "    var final_output = Array[Double]()\n",
    "    var arr_final = Array.ofDim[Option[Double]](arr.length,3)\n",
    "    for (i<-0 until arr.length){\n",
    "        arr_final(i) = arr(i).split(\",\").map(s=>scala.util.Try(s.toDouble).toOption)\n",
    "    }\n",
    "    arr_final = arr_final.transpose\n",
    "    for(i<-0 until arr_final.length){\n",
    "        var sum = 0.0\n",
    "        var total = 0.0\n",
    "        for (j<-0 until arr_final(i).length){\n",
    "            arr_final(i)(j) match{\n",
    "                case Some(s) => sum = sum + s\n",
    "                                total = total + 1\n",
    "                case None => None\n",
    "            }\n",
    "        }\n",
    "        final_output = final_output++Array((sum/total))\n",
    "    }\n",
    "    final_output\n",
    "}\n",
    "\n",
    "var test_dataset = Array(\"1.2,3.1,2.4\",\",1.4,2.1\",\"8.1,2.6,bc\",\"7.1,3.2,9.4\")\n",
    "get_mean(test_dataset)"
   ]
  },
  {
   "cell_type": "code",
   "execution_count": 17,
   "metadata": {},
   "outputs": [
    {
     "data": {
      "text/plain": [
       "get_var: (arr: Array[String])Array[Double]\r\n",
       "test_dataset: Array[String] = Array(1.2,3.1,2.4, ,1.4,2.1, 8.1,2.6,bc, 7.1,3.2,9.4)\r\n",
       "res16: Array[Double] = Array(9.268888888888888, 0.5118750000000001, 11.375555555555556)\n"
      ]
     },
     "execution_count": 17,
     "metadata": {},
     "output_type": "execute_result"
    }
   ],
   "source": [
    "def get_var(arr: Array[String])={\n",
    "    val mean_output = get_mean(arr)\n",
    "    var var_output = Array[Double]()\n",
    "    var arr_final = Array.ofDim[Option[Double]](arr.length,3)\n",
    "    for (i<-0 until arr.length){\n",
    "        arr_final(i) = arr(i).split(\",\").map(s=>scala.util.Try(s.toDouble).toOption)\n",
    "    }\n",
    "    \n",
    "    for(i<-0 until mean_output.length){\n",
    "        var diff = 0.0\n",
    "        var total = 0.0\n",
    "        for (j<-0 until arr_final.length){\n",
    "            arr_final(j)(i) match{\n",
    "                case Some(p) => diff = diff+((p - mean_output(i))*(p - mean_output(i)))\n",
    "                                total = total+1\n",
    "                case None => None\n",
    "            }\n",
    "            \n",
    "        }\n",
    "        var_output = var_output++Array((diff/total))\n",
    "    }\n",
    "    var_output\n",
    "    \n",
    "}\n",
    "\n",
    "var test_dataset = Array(\"1.2,3.1,2.4\",\",1.4,2.1\",\"8.1,2.6,bc\",\"7.1,3.2,9.4\")\n",
    "get_var(test_dataset)"
   ]
  },
  {
   "cell_type": "code",
   "execution_count": null,
   "metadata": {},
   "outputs": [],
   "source": [
    "    //ofDim example\n",
    "Array.ofDim[Int](2,4)"
   ]
  },
  {
   "cell_type": "code",
   "execution_count": null,
   "metadata": {},
   "outputs": [],
   "source": [
    "//The following should return:\n",
    "//variances: Array[Double] = Array(9.268888888888888, 0.5118750000000001, 11.375555555555556)\n",
    "//means: Array[Double] = Array(5.466666666666666, 2.575, 4.633333333333334)\n",
    "var test_dataset = Array(\"1.2,3.1,2.4\",\",1.4,2.1\",\"8.1,2.6,bc\",\"7.1,3.2,9.4\")\n",
    "\n",
    "//The following should return: \n",
    "//variances: Array[Double] = Array(9.268888888888888, 0.0688888888888889, 12.250000000000002)\n",
    "//means: Array[Double] = Array(5.466666666666666, 2.966666666666667, 5.9)\n",
    "test_dataset = Array(\"1.2,3.1,2.4\",\"\",\"8.1,2.6,bc\",\"7.1,3.2,9.4\")\n",
    "\n",
    "//The following should return:\n",
    "//variances: Array[Double] = Array()\n",
    "//means: Array[Double] = Array()\n",
    "dataset = Array[String]()"
   ]
  },
  {
   "cell_type": "markdown",
   "metadata": {},
   "source": [
    "<h1>Problem 2</h1>\n",
    "\n",
    "Write a scala function <b>count_words</b> that counts the number of each letter in a text string. \n",
    "\n",
    "For example, if the input string is \"able was i ere i saw elba, and that was before i was able and could see elba!”, your function should return:\n",
    "\n",
    "Map(e -> 10, s -> 5, n -> 2, t -> 2, u -> 1, f -> 1, a -> 11, i -> 3, b -> 5, l -> 5, c -> 1,\n",
    "h -> 1, r -> 2, w -> 4, o -> 2, d -> 3)\n",
    "\n",
    "Note that you should only count the letters and ignore all punctuation, numbers, spaces, or any special characters. \n",
    "\n",
    "The scala function isLetter returns true if a character is a letter and false otherwise.\n",
    "\n",
    "The count_words function must be created with val"
   ]
  },
  {
   "cell_type": "code",
   "execution_count": 22,
   "metadata": {},
   "outputs": [
    {
     "data": {
      "text/plain": [
       "count_words: String => scala.collection.immutable.Map[Char,Int] = <function1>\r\n",
       "res21: scala.collection.immutable.Map[Char,Int] = Map(n -> 3)\n"
      ]
     },
     "execution_count": 22,
     "metadata": {},
     "output_type": "execute_result"
    }
   ],
   "source": [
    "val count_words = (text:String) => {\n",
    "    text.replaceAll(\"[^a-zA-Z]\",\"\").groupBy(c => c.toLower).map(e => (e._1, e._2.length))\n",
    "}\n",
    "\n",
    "//count_words(\"able was i ere i saw elba, and that was before i was able and could see elba!\")\"\n",
    "//count_words(\"hello! 5\")\n",
    "count_words(\"8NN ! n7\")"
   ]
  }
 ],
 "metadata": {
  "kernelspec": {
   "display_name": "spylon-kernel",
   "language": "scala",
   "name": "spylon-kernel"
  },
  "language_info": {
   "codemirror_mode": "text/x-scala",
   "file_extension": ".scala",
   "help_links": [
    {
     "text": "MetaKernel Magics",
     "url": "https://github.com/calysto/metakernel/blob/master/metakernel/magics/README.md"
    }
   ],
   "mimetype": "text/x-scala",
   "name": "scala",
   "pygments_lexer": "scala",
   "version": "0.4.1"
  }
 },
 "nbformat": 4,
 "nbformat_minor": 2
}
