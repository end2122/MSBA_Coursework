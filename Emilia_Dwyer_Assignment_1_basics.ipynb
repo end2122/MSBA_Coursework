{
 "cells": [
  {
   "cell_type": "markdown",
   "metadata": {},
   "source": [
    "<h1>Problem 1: Part 1</h1>"
   ]
  },
  {
   "cell_type": "code",
   "execution_count": 1,
   "metadata": {},
   "outputs": [],
   "source": [
    "def preceding(char):\n",
    "    \"\"\"Function takes a character as input and returns a code for that character based on preceding character\"\"\"\n",
    "    #exception cases 'a' and 'A'\n",
    "    if char == 'a':\n",
    "        return 'z'\n",
    "    elif char == 'A':\n",
    "        return 'Z'\n",
    "    \n",
    "    #check if input is lowercase\n",
    "    elif char == char.lower():\n",
    "        if ord(char)>= ord('b') and ord(char)<=ord('z'):\n",
    "            place_new = ord(char)-1\n",
    "            coded_char = chr(place_new)\n",
    "            return coded_char\n",
    "        else:\n",
    "            return char\n",
    "        \n",
    "    #check if input is uppercase\n",
    "    elif char != char.lower():\n",
    "        if ord(char)>= ord('B') and ord(char)<=ord('Z'):\n",
    "            place_new = ord(char)-1\n",
    "            coded_char = chr(place_new)\n",
    "            return coded_char\n",
    "        else:\n",
    "            return char\n",
    "   \n",
    "    #symbol exception handling\n",
    "    else:\n",
    "        return char"
   ]
  },
  {
   "cell_type": "code",
   "execution_count": 2,
   "metadata": {},
   "outputs": [
    {
     "name": "stdout",
     "output_type": "stream",
     "text": [
      "z\n",
      "a\n",
      "!\n"
     ]
    }
   ],
   "source": [
    "print(preceding('a')) #Should print z\n",
    "print(preceding('b')) #Should print a\n",
    "print(preceding('!')) #Should print !"
   ]
  },
  {
   "cell_type": "markdown",
   "metadata": {},
   "source": [
    "<h1>Problem 1: Part 2</h1>\n"
   ]
  },
  {
   "cell_type": "code",
   "execution_count": 3,
   "metadata": {},
   "outputs": [],
   "source": [
    "def succeeding(char):\n",
    "    \"\"\"Function takes a character as input and returns a code for that character based on succeeding character\"\"\"\n",
    "    #exception cases 'z' and 'Z'\n",
    "    if char == 'z':\n",
    "        return 'a'\n",
    "    elif char == 'Z':\n",
    "        return 'A'\n",
    "    \n",
    "    #check if input is lowercase\n",
    "    elif char == char.lower():\n",
    "        if ord(char)>= ord('a') and ord(char)<=ord('y'):\n",
    "            place_new = ord(char)+1\n",
    "            coded_char = chr(place_new)\n",
    "            return coded_char\n",
    "        else:\n",
    "            return char\n",
    "        \n",
    "    #check if input is uppercase\n",
    "    elif char != char.lower():\n",
    "        if ord(char)>= ord('A') and ord(char)<=ord('Y'):\n",
    "            place_new = ord(char)+1\n",
    "            coded_char = chr(place_new)\n",
    "            return coded_char\n",
    "        else:\n",
    "            return char\n",
    "   \n",
    "    #symbol exception handling\n",
    "    else:\n",
    "        return char"
   ]
  },
  {
   "cell_type": "code",
   "execution_count": 4,
   "metadata": {},
   "outputs": [
    {
     "name": "stdout",
     "output_type": "stream",
     "text": [
      "a\n",
      "c\n",
      "!\n"
     ]
    }
   ],
   "source": [
    "print(succeeding('z')) #Should print a\n",
    "print(succeeding('b')) #Should print c\n",
    "print(succeeding('!')) #Should print !"
   ]
  },
  {
   "cell_type": "markdown",
   "metadata": {},
   "source": [
    "<h1>Problem 1: Part 3</h1>"
   ]
  },
  {
   "cell_type": "code",
   "execution_count": 5,
   "metadata": {},
   "outputs": [],
   "source": [
    "def message_coder(message_string,function):\n",
    "    \"\"\"Function encrypts input string based on preceding or succeeding method\"\"\"\n",
    "    coded_message = ''\n",
    "    \n",
    "    if function == preceding:\n",
    "        for letter in message_string:\n",
    "            coded_message+=preceding(letter)\n",
    "    elif function == succeeding:\n",
    "        for letter in message_string:\n",
    "            coded_message+=succeeding(letter)\n",
    "    \n",
    "    return coded_message"
   ]
  },
  {
   "cell_type": "markdown",
   "metadata": {},
   "source": [
    "<h3>Test <b>preceding</b> and <b>succeeding</b> and <b>message_coder</h3>"
   ]
  },
  {
   "cell_type": "code",
   "execution_count": 6,
   "metadata": {},
   "outputs": [
    {
     "name": "stdout",
     "output_type": "stream",
     "text": [
      "gdkkn cnkkx ydaqz!\n",
      "ifmmp epmmz afcsb!\n"
     ]
    }
   ],
   "source": [
    "print(message_coder('hello dolly zebra!',preceding))# prints 'gdkkn cnkkx ydaqz!’\n",
    "\n",
    "print(message_coder('hello dolly zebra!',succeeding))# prints 'ifmmp epmmz afcsb!’\n"
   ]
  },
  {
   "cell_type": "markdown",
   "metadata": {},
   "source": [
    "<h1>Problem 2: Word Count</h2>"
   ]
  },
  {
   "cell_type": "code",
   "execution_count": 7,
   "metadata": {},
   "outputs": [],
   "source": [
    "def word_distribution(text_string,word_list=[]):\n",
    "    \"\"\"Returns dictionary containing frequency of words in string\"\"\"\n",
    "    frequency_dict = {}\n",
    "    new_text_string = text_string.lower().split()\n",
    "    \n",
    "    \n",
    "    #format text string:\n",
    "    new_text_string=[word[:-1] if ord(word[-1])<ord('a') or ord(word[-1])>ord('y') else word for word in new_text_string]\n",
    "    \n",
    "    \n",
    "    #if word_list is not provided as an optional argument\n",
    "    if len(word_list)==0:    \n",
    "        for word in new_text_string:\n",
    "            frequency_dict[word]=0\n",
    "            frequency_dict[word]=new_text_string.count(word)\n",
    "    \n",
    "        return frequency_dict\n",
    "    \n",
    "    \n",
    "    #if word_list is provided as an optional argument\n",
    "    else:\n",
    "        word_list=[x.lower() for x in word_list]\n",
    "        for word in word_list:\n",
    "            frequency_dict[word]=0\n",
    "            frequency_dict[word]=new_text_string.count(word)           \n",
    "            \n",
    "        return frequency_dict"
   ]
  },
  {
   "cell_type": "markdown",
   "metadata": {},
   "source": [
    "<h3>Test <b>word_distribution</b></h3>\n"
   ]
  },
  {
   "cell_type": "code",
   "execution_count": 8,
   "metadata": {},
   "outputs": [
    {
     "name": "stdout",
     "output_type": "stream",
     "text": [
      "{'hello': 2, 'how': 1, 'are': 1, 'you': 2, 'please': 1, 'say': 1, 'if': 1, 'don’t': 1, 'love': 1, 'me': 1}\n"
     ]
    }
   ],
   "source": [
    "text_string = \"Hello. How are you? Please say hello if you don’t love me!\"\n",
    "print(word_distribution(text_string)) #should print {‘hello’: 2, ‘how’:1, ‘are’:1, ‘you’:2,’please’:1, “don’t”: 1 …}"
   ]
  },
  {
   "cell_type": "code",
   "execution_count": 9,
   "metadata": {},
   "outputs": [
    {
     "name": "stdout",
     "output_type": "stream",
     "text": [
      "{'i': 3, 'saw': 1, 'britain': 0}\n"
     ]
    }
   ],
   "source": [
    "text_string = 'I came, I saw, I conquered!'\n",
    "print(word_distribution(text_string,word_list=['I','saw','Britain'])) # prints {‘i’:3,’saw’:1,’britain':0}"
   ]
  },
  {
   "cell_type": "code",
   "execution_count": null,
   "metadata": {},
   "outputs": [],
   "source": [
    "def b_sort(inp):\n",
    "    n = len(inp)\n",
    "    \n",
    "    for i in range(n):\n",
    "        for j in range(0,n-i-1):\n",
    "            if inp[j]>inp[j+1]:\n",
    "                inp[j],inp[j+1] = inp[j+1],inp[j]\n",
    "    return inp\n",
    "\n",
    "def s_sort(inp):\n",
    "    n = len(inp)\n",
    "    \n",
    "    for i in range(n):\n",
    "        low = i\n",
    "        for j in range(i+1,n):\n",
    "            if inp[low]>inp[j]:\n",
    "                low = j\n",
    "        inp[i], inp[low] = inp[low], inp[i]\n",
    "                \n",
    "    return inp"
   ]
  }
 ],
 "metadata": {
  "kernelspec": {
   "display_name": "Python 3",
   "language": "python",
   "name": "python3"
  },
  "language_info": {
   "codemirror_mode": {
    "name": "ipython",
    "version": 3
   },
   "file_extension": ".py",
   "mimetype": "text/x-python",
   "name": "python",
   "nbconvert_exporter": "python",
   "pygments_lexer": "ipython3",
   "version": "3.6.5"
  }
 },
 "nbformat": 4,
 "nbformat_minor": 2
}
