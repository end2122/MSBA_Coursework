{
 "cells": [
  {
   "cell_type": "markdown",
   "metadata": {},
   "source": [
    "<h1>Problem 1</h1>"
   ]
  },
  {
   "cell_type": "markdown",
   "metadata": {},
   "source": [
    "<p>\n",
    "    Write a function, <b>isThreeSorted</b>, that behaves like the isSorted function we\n",
    "covered in class except that it works on three items of an array rather than two items.\n",
    "The function should take two arguments, an array and a predicate function on three\n",
    "values, and it should return true or false if the predicate function is satisfied for all\n",
    "triplets in the array. If the array has less than 3 elements, then isThreeSorted should\n",
    "return false.\n",
    "\n",
    "Test your function with the following functions and calling them:\n",
    "\n",
    "<p>\n",
    "<ol>\n",
    "    <li><b>alpha(x: Array[String])</b> tests alphabetical sort on Array[String] </li>\n",
    "    <ul><li>Array(\"John\",\"Mary\",\"Qing\") returns true</li>\n",
    "        <li>Array(\"James\", \"Jones\", \"Earl\") returns false</li>\n",
    "        <li></li>\n",
    "    </ul>\n",
    "    <li><b>len(x: Array[String])</b> tests length sort on Array[String]</li>\n",
    "    <ul><li>Array(\"John\", \"Basquiat\", \"Annapurna\") returns true</li>\n",
    "        <li>Array(\"John\", \"Basquiat\", \"Annapurna\", \"Yoda\") returns false</li>\n",
    "        <li></li>\n",
    "    </ul>\n",
    "\n",
    "<li><b>fib_test(x: Array[Int])</b> tests whether Array[Int] satisfies the conditions of a fibonacci series of 3 or more elements</li>\n",
    "<ul<li>Array(1,1,2,3,5,8,13) returns true</li>\n",
    "<li>Array(1,1) returns false</li>\n",
    "<li>Array(1,1,2,3,5,9,13) returns false</li>\n",
    "</ul>\n",
    "</ol>\n",
    "\n"
   ]
  },
  {
   "cell_type": "code",
   "execution_count": 1,
   "metadata": {},
   "outputs": [
    {
     "data": {
      "text/plain": [
       "Intitializing Scala interpreter ..."
      ]
     },
     "metadata": {},
     "output_type": "display_data"
    },
    {
     "data": {
      "text/plain": [
       "Spark Web UI available at http://192.168.86.26:4040\n",
       "SparkContext available as 'sc' (version = 2.4.0, master = local[*], app id = local-1550529878093)\n",
       "SparkSession available as 'spark'\n"
      ]
     },
     "metadata": {},
     "output_type": "display_data"
    },
    {
     "data": {
      "text/plain": [
       "isThreeSorted: [A](arraz: Array[A], p: (A, A, A) => Boolean)Boolean\n"
      ]
     },
     "execution_count": 1,
     "metadata": {},
     "output_type": "execute_result"
    }
   ],
   "source": [
    "//isThreeSorted goes here\n",
    "def isThreeSorted[A](arraz: Array[A], p: (A,A,A) => Boolean): Boolean = {\n",
    "    if (arraz.length < 3) false\n",
    "    @annotation.tailrec\n",
    "    def TRLoop(n:Int): Boolean = {\n",
    "        if (n>=arraz.length-2) true\n",
    "        else if (!(p(arraz(n),arraz(n+1),arraz(n+2)))) false\n",
    "        else TRLoop(n+1)\n",
    "    }\n",
    "    TRLoop(0)\n",
    "}"
   ]
  },
  {
   "cell_type": "markdown",
   "metadata": {},
   "source": [
    "<h1>Alphabetical tests</h1>"
   ]
  },
  {
   "cell_type": "code",
   "execution_count": 3,
   "metadata": {},
   "outputs": [
    {
     "data": {
      "text/plain": [
       "alpha: (a: Array[String])Boolean\r\n",
       "t0: Boolean = false\r\n",
       "t1: Boolean = true\r\n",
       "t2: Boolean = false\n"
      ]
     },
     "execution_count": 3,
     "metadata": {},
     "output_type": "execute_result"
    }
   ],
   "source": [
    "def alpha(a: Array[String]) = isThreeSorted(a,(x:String, y:String, z:String) => x<y&y<z)\n",
    "\n",
    "val t0 = alpha(Array(\"A\",\"C\",\"B\")) //false\n",
    "val t1 = alpha(Array(\"John\",\"Mary\",\"Qing\")) //true\n",
    "val t2 = alpha(Array(\"James\", \"Jones\", \"Earl\")) //false"
   ]
  },
  {
   "cell_type": "markdown",
   "metadata": {},
   "source": [
    "<h1>Length tests</h1>\n"
   ]
  },
  {
   "cell_type": "code",
   "execution_count": 12,
   "metadata": {},
   "outputs": [
    {
     "data": {
      "text/plain": [
       "len: (a: Array[String])Boolean\r\n",
       "t3: Boolean = true\r\n",
       "t4: Boolean = false\r\n",
       "tp: Boolean = false\n"
      ]
     },
     "execution_count": 12,
     "metadata": {},
     "output_type": "execute_result"
    }
   ],
   "source": [
    "def len(a: Array[String]) = isThreeSorted(a,(x:String, y:String, z:String) => x.length<y.length&y.length<z.length) \n",
    "\n",
    "val t3 = len(Array(\"John\", \"Basquiat\", \"Annapurna\")) //true\n",
    "val t4 = len(Array(\"John\", \"Basquiat\", \"Annapurna\", \"Yoda\")) //false\n",
    "val tp = len(Array(\"A\", \"C\", \"D\", \"B\")) //false"
   ]
  },
  {
   "cell_type": "markdown",
   "metadata": {},
   "source": [
    "<h1>Fibonacci test</h1>"
   ]
  },
  {
   "cell_type": "code",
   "execution_count": 2,
   "metadata": {},
   "outputs": [
    {
     "data": {
      "text/plain": [
       "fib_test: (a: Array[Int])Boolean\r\n",
       "t4: Boolean = true\r\n",
       "t5: Boolean = true\r\n",
       "t6: Boolean = false\r\n",
       "t7: Boolean = true\r\n",
       "t8: Boolean = false\r\n",
       "t9: Boolean = false\n"
      ]
     },
     "execution_count": 2,
     "metadata": {},
     "output_type": "execute_result"
    }
   ],
   "source": [
    "def fib_test(a: Array[Int]) = isThreeSorted(a,(x:Int, y:Int, z:Int) => x+y==z)\n",
    "\n",
    "val t4 = fib_test(Array(1,1,2,3,5,8,13)) //true\n",
    "val t5 = fib_test(Array(1,1)) //true\n",
    "val t6 = fib_test(Array(1,1,2,3,5,9,13)) //false\n",
    "val t7 = fib_test(Array(3,5,8)) //true\n",
    "val t8 = fib_test(Array(3,5,13)) //false\n",
    "val t9 = fib_test(Array(3,6,9,10)) //false"
   ]
  },
  {
   "cell_type": "markdown",
   "metadata": {},
   "source": [
    "<h1>Problem 2</h1>\n",
    "Write a function <b>extract</b> that takes two arguments, a string and an integer, and returns a string containing every i-th character from the string. Your function should be tail recursive\n",
    "\n",
    "Examples:\n",
    "\n",
    "* extract(\"Hello\",2) returns \"Hlo\n",
    "* extract(\"7XY9BC8FF4DX\",3) returns \"7984\"\n",
    "\n"
   ]
  },
  {
   "cell_type": "code",
   "execution_count": 7,
   "metadata": {},
   "outputs": [
    {
     "data": {
      "text/plain": [
       "extract: (elem: String, n: Int)String\n"
      ]
     },
     "execution_count": 7,
     "metadata": {},
     "output_type": "execute_result"
    }
   ],
   "source": [
    "def extract(elem:String, n:Int): String = {\n",
    "    var output = \"\"\n",
    "    def TRLoop(elem: String, n:Int, a:Int): String = {\n",
    "        if (n>elem.length) \"-1\"\n",
    "        else if ((a+1)<=elem.length){\n",
    "            output = output + elem(a)\n",
    "            TRLoop(elem, n, a+n)\n",
    "        }\n",
    "        else output\n",
    "    }\n",
    "    \n",
    "    TRLoop(elem,n,0)\n",
    "}"
   ]
  },
  {
   "cell_type": "code",
   "execution_count": 8,
   "metadata": {},
   "outputs": [
    {
     "data": {
      "text/plain": [
       "res0: String = 7984\n"
      ]
     },
     "execution_count": 8,
     "metadata": {},
     "output_type": "execute_result"
    }
   ],
   "source": [
    "extract(\"7XY9BC8FF4DX\",3)"
   ]
  },
  {
   "cell_type": "code",
   "execution_count": 9,
   "metadata": {},
   "outputs": [
    {
     "data": {
      "text/plain": [
       "res1: String = -1\n"
      ]
     },
     "execution_count": 9,
     "metadata": {},
     "output_type": "execute_result"
    }
   ],
   "source": [
    "extract(\"Hello\",7)"
   ]
  },
  {
   "cell_type": "code",
   "execution_count": 10,
   "metadata": {},
   "outputs": [
    {
     "data": {
      "text/plain": [
       "res2: String = 8B4\n"
      ]
     },
     "execution_count": 10,
     "metadata": {},
     "output_type": "execute_result"
    }
   ],
   "source": [
    "extract(\"88bb9BCfyF4ioX\",5)"
   ]
  }
 ],
 "metadata": {
  "kernelspec": {
   "display_name": "spylon-kernel",
   "language": "scala",
   "name": "spylon-kernel"
  },
  "language_info": {
   "codemirror_mode": "text/x-scala",
   "file_extension": ".scala",
   "help_links": [
    {
     "text": "MetaKernel Magics",
     "url": "https://github.com/calysto/metakernel/blob/master/metakernel/magics/README.md"
    }
   ],
   "mimetype": "text/x-scala",
   "name": "scala",
   "pygments_lexer": "scala",
   "version": "0.4.1"
  }
 },
 "nbformat": 4,
 "nbformat_minor": 2
}
