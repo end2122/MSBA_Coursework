{
 "cells": [
  {
   "cell_type": "markdown",
   "metadata": {},
   "source": [
    "**Q**: Write a function `verify` that takes a user input string and returns it if it contains a number, an uppercase letter, and a lowercase letter. Raises a `ValueError` otherwise. The `ValueError` should have the message `'Must contain a number, an uppercase letter, and a lowercase letter'`."
   ]
  },
  {
   "cell_type": "code",
   "execution_count": 14,
   "metadata": {
    "deletable": false,
    "nbgrader": {
     "checksum": "78d3a3e7c622fe38bce4e71ec07eecec",
     "grade": false,
     "grade_id": "cell-51ed750f23e67ce9",
     "locked": false,
     "schema_version": 1,
     "solution": true
    }
   },
   "outputs": [],
   "source": [
    "def verify(string):\n",
    "    \"\"\"Checks is passwor meets criteria\"\"\"\n",
    "    \n",
    "    if string==string.lower() or string==string.upper():\n",
    "        raise ValueError('Must contain a number, an uppercase letter, and a lowercase letter')\n",
    "    \n",
    "    if (any(char.isdigit() for char in string)):\n",
    "        return None\n",
    "    else:\n",
    "        raise ValueError('Must contain a number, an uppercase letter, and a lowercase letter')\n",
    "    \n",
    "    raise NotImplementedError()"
   ]
  },
  {
   "cell_type": "code",
   "execution_count": null,
   "metadata": {
    "collapsed": true,
    "deletable": false,
    "editable": false,
    "nbgrader": {
     "checksum": "18f7e69473f54a36952995ae3925567e",
     "grade": true,
     "grade_id": "cell-c77bea74e78ef9c7",
     "locked": true,
     "points": 1,
     "schema_version": 1,
     "solution": false
    }
   },
   "outputs": [],
   "source": []
  }
 ],
 "metadata": {
  "kernelspec": {
   "display_name": "Python 3",
   "language": "python",
   "name": "python3"
  },
  "language_info": {
   "codemirror_mode": {
    "name": "ipython",
    "version": 3
   },
   "file_extension": ".py",
   "mimetype": "text/x-python",
   "name": "python",
   "nbconvert_exporter": "python",
   "pygments_lexer": "ipython3",
   "version": "3.6.5"
  }
 },
 "nbformat": 4,
 "nbformat_minor": 2
}
