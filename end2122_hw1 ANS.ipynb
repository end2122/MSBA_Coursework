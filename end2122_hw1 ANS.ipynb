{
 "cells": [
  {
   "cell_type": "markdown",
   "metadata": {},
   "source": [
    "**Q**: Explain why there are only two items in the evaluated set `{1, True, 1.0, False, 0, None}`. [1 point]"
   ]
  },
  {
   "cell_type": "markdown",
   "metadata": {
    "deletable": false,
    "nbgrader": {
     "checksum": "7b1bebe547ac16c5aaba1439fd0d5044",
     "grade": true,
     "grade_id": "cell-a6e7085bd404dd68",
     "locked": false,
     "points": 1,
     "schema_version": 1,
     "solution": true
    }
   },
   "source": [
    "The only three items that are evaluated are 1, True, and 1.0 beause they all have values of non zero. False, 0, and None are all zeros."
   ]
  },
  {
   "cell_type": "markdown",
   "metadata": {},
   "source": [
    "---"
   ]
  },
  {
   "cell_type": "markdown",
   "metadata": {},
   "source": [
    "**Q**: Create a function `evens` that returns all the even numbers between 0 and a given number x. Zero should be included in the result but x should not be included unless x is zero. [1 point]"
   ]
  },
  {
   "cell_type": "code",
   "execution_count": 1,
   "metadata": {
    "deletable": false,
    "nbgrader": {
     "checksum": "2e18b3febf965d6dbef9e6b23a0f896d",
     "grade": false,
     "grade_id": "cell-f178c23df522f905",
     "locked": false,
     "schema_version": 1,
     "solution": true
    }
   },
   "outputs": [
    {
     "data": {
      "text/plain": [
       "[]"
      ]
     },
     "execution_count": 1,
     "metadata": {},
     "output_type": "execute_result"
    }
   ],
   "source": [
    "def evens(x):\n",
    "    \"\"\"Returns list of even numbers between 0 and given number\"\"\"\n",
    "    output=[num for num in range(0,x) if num%2==0]\n",
    "    return output\n",
    "\n",
    "evens(0)"
   ]
  },
  {
   "cell_type": "code",
   "execution_count": 2,
   "metadata": {
    "deletable": false,
    "editable": false,
    "nbgrader": {
     "checksum": "2391455899dbb629f56738f6f72595aa",
     "grade": true,
     "grade_id": "cell-80b80f97d1d635e1",
     "locked": true,
     "points": 1,
     "schema_version": 1,
     "solution": false
    }
   },
   "outputs": [
    {
     "ename": "AssertionError",
     "evalue": "",
     "output_type": "error",
     "traceback": [
      "\u001b[1;31m---------------------------------------------------------------------------\u001b[0m",
      "\u001b[1;31mAssertionError\u001b[0m                            Traceback (most recent call last)",
      "\u001b[1;32m<ipython-input-2-bf8d3e81a19c>\u001b[0m in \u001b[0;36m<module>\u001b[1;34m()\u001b[0m\n\u001b[0;32m      1\u001b[0m \u001b[1;31m### BEGIN HIDDEN TESTS\u001b[0m\u001b[1;33m\u001b[0m\u001b[1;33m\u001b[0m\u001b[0m\n\u001b[1;32m----> 2\u001b[1;33m \u001b[1;32massert\u001b[0m \u001b[0mset\u001b[0m\u001b[1;33m(\u001b[0m\u001b[0mevens\u001b[0m\u001b[1;33m(\u001b[0m\u001b[1;36m0\u001b[0m\u001b[1;33m)\u001b[0m\u001b[1;33m)\u001b[0m \u001b[1;33m==\u001b[0m \u001b[0mset\u001b[0m\u001b[1;33m(\u001b[0m\u001b[1;33m[\u001b[0m\u001b[1;36m0\u001b[0m\u001b[1;33m]\u001b[0m\u001b[1;33m)\u001b[0m\u001b[1;33m\u001b[0m\u001b[0m\n\u001b[0m\u001b[0;32m      3\u001b[0m \u001b[1;32massert\u001b[0m \u001b[0mset\u001b[0m\u001b[1;33m(\u001b[0m\u001b[0mevens\u001b[0m\u001b[1;33m(\u001b[0m\u001b[1;36m9\u001b[0m\u001b[1;33m)\u001b[0m\u001b[1;33m)\u001b[0m \u001b[1;33m==\u001b[0m \u001b[0mset\u001b[0m\u001b[1;33m(\u001b[0m\u001b[1;33m[\u001b[0m\u001b[1;36m0\u001b[0m\u001b[1;33m,\u001b[0m \u001b[1;36m2\u001b[0m\u001b[1;33m,\u001b[0m \u001b[1;36m4\u001b[0m\u001b[1;33m,\u001b[0m \u001b[1;36m6\u001b[0m\u001b[1;33m,\u001b[0m \u001b[1;36m8\u001b[0m\u001b[1;33m]\u001b[0m\u001b[1;33m)\u001b[0m\u001b[1;33m\u001b[0m\u001b[0m\n\u001b[0;32m      4\u001b[0m \u001b[1;32massert\u001b[0m \u001b[0mset\u001b[0m\u001b[1;33m(\u001b[0m\u001b[0mevens\u001b[0m\u001b[1;33m(\u001b[0m\u001b[1;36m10\u001b[0m\u001b[1;33m)\u001b[0m\u001b[1;33m)\u001b[0m \u001b[1;33m==\u001b[0m \u001b[0mset\u001b[0m\u001b[1;33m(\u001b[0m\u001b[1;33m[\u001b[0m\u001b[1;36m0\u001b[0m\u001b[1;33m,\u001b[0m \u001b[1;36m2\u001b[0m\u001b[1;33m,\u001b[0m \u001b[1;36m4\u001b[0m\u001b[1;33m,\u001b[0m \u001b[1;36m6\u001b[0m\u001b[1;33m,\u001b[0m \u001b[1;36m8\u001b[0m\u001b[1;33m]\u001b[0m\u001b[1;33m)\u001b[0m\u001b[1;33m\u001b[0m\u001b[0m\n\u001b[0;32m      5\u001b[0m \u001b[1;31m### END HIDDEN TESTS\u001b[0m\u001b[1;33m\u001b[0m\u001b[1;33m\u001b[0m\u001b[0m\n",
      "\u001b[1;31mAssertionError\u001b[0m: "
     ]
    }
   ],
   "source": [
    "### BEGIN HIDDEN TESTS\n",
    "assert set(evens(0)) == set([0])\n",
    "assert set(evens(9)) == set([0, 2, 4, 6, 8])\n",
    "assert set(evens(10)) == set([0, 2, 4, 6, 8])\n",
    "### END HIDDEN TESTS"
   ]
  },
  {
   "cell_type": "markdown",
   "metadata": {},
   "source": [
    "---"
   ]
  },
  {
   "cell_type": "markdown",
   "metadata": {},
   "source": [
    "**Q**: Implement Fizz-Buzz-Bang. Write a program that returns the number given. But for multiples of two return \"Fizz\" instead of the number, for the multiples of three return \"Buzz\", and for the multiples of four return \"Bang\". For numbers which are multiples of both two and three return \"FizzBuzz\". For numbers which are multiples of both two, three, and four return \"FizzBuzzBang\". [2 points]"
   ]
  },
  {
   "cell_type": "code",
   "execution_count": 3,
   "metadata": {
    "deletable": false,
    "nbgrader": {
     "checksum": "87e99b719d46a04620af6dcf242dec29",
     "grade": false,
     "grade_id": "cell-fda6d5a34cfe1fec",
     "locked": false,
     "schema_version": 1,
     "solution": true
    }
   },
   "outputs": [],
   "source": [
    "def fizz_buzz_bang(i):\n",
    "    \"\"\"Returns FizzBuzzBang combo based on number entered\"\"\"\n",
    "    if i%2==0 and i%3==0 and i%4==0:\n",
    "        return \"FizzBuzzBang\"\n",
    "    elif i%2==0 and i%3==0:\n",
    "        return \"FizzBuzz\"\n",
    "    elif i%2==0:\n",
    "        return \"Fizz\"\n",
    "    elif i%3==0:\n",
    "        return \"Buzz\"\n",
    "    elif i%4==0:\n",
    "        return \"Bang\"\n",
    "    else:\n",
    "        return i\n",
    "        \n",
    "    raise NotImplementedError()"
   ]
  },
  {
   "cell_type": "code",
   "execution_count": 4,
   "metadata": {
    "deletable": false,
    "editable": false,
    "nbgrader": {
     "checksum": "59ff42e53b50059f12f3ace5afe280ff",
     "grade": true,
     "grade_id": "cell-eb510034e9d6fb63",
     "locked": true,
     "points": 2,
     "schema_version": 1,
     "solution": false
    }
   },
   "outputs": [
    {
     "ename": "AssertionError",
     "evalue": "",
     "output_type": "error",
     "traceback": [
      "\u001b[1;31m---------------------------------------------------------------------------\u001b[0m",
      "\u001b[1;31mAssertionError\u001b[0m                            Traceback (most recent call last)",
      "\u001b[1;32m<ipython-input-4-c2c9fd5e4acf>\u001b[0m in \u001b[0;36m<module>\u001b[1;34m()\u001b[0m\n\u001b[0;32m     15\u001b[0m \u001b[1;33m\u001b[0m\u001b[0m\n\u001b[0;32m     16\u001b[0m \u001b[1;32mfor\u001b[0m \u001b[0mx\u001b[0m \u001b[1;32min\u001b[0m \u001b[0mrange\u001b[0m\u001b[1;33m(\u001b[0m\u001b[1;36m2000\u001b[0m\u001b[1;33m)\u001b[0m\u001b[1;33m:\u001b[0m\u001b[1;33m\u001b[0m\u001b[0m\n\u001b[1;32m---> 17\u001b[1;33m     \u001b[1;32massert\u001b[0m \u001b[0mfizz_buzz_bang\u001b[0m\u001b[1;33m(\u001b[0m\u001b[0mx\u001b[0m\u001b[1;33m)\u001b[0m \u001b[1;33m==\u001b[0m \u001b[0mfizz_buzz_bang_answer\u001b[0m\u001b[1;33m(\u001b[0m\u001b[0mx\u001b[0m\u001b[1;33m)\u001b[0m\u001b[1;33m\u001b[0m\u001b[0m\n\u001b[0m\u001b[0;32m     18\u001b[0m \u001b[1;31m### END HIDDEN TESTS\u001b[0m\u001b[1;33m\u001b[0m\u001b[1;33m\u001b[0m\u001b[0m\n",
      "\u001b[1;31mAssertionError\u001b[0m: "
     ]
    }
   ],
   "source": [
    "### BEGIN HIDDEN TESTS\n",
    "def fizz_buzz_bang_answer(i):\n",
    "    if i % 2 == 0 and i % 3 == 0 and i % 4 == 0:\n",
    "        return 'FizzBuzzBang'\n",
    "    elif i % 2 == 0 and i % 3 == 0:\n",
    "        return 'FizzBuzz'\n",
    "    elif i % 4 == 0:\n",
    "        return 'Bang'\n",
    "    elif i % 3 == 0:\n",
    "        return 'Buzz'\n",
    "    elif i % 2 == 0:\n",
    "        return 'Fizz'\n",
    "    else:\n",
    "        return i\n",
    "\n",
    "for x in range(2000):\n",
    "    assert fizz_buzz_bang(x) == fizz_buzz_bang_answer(x)\n",
    "### END HIDDEN TESTS"
   ]
  },
  {
   "cell_type": "markdown",
   "metadata": {},
   "source": [
    "---"
   ]
  },
  {
   "cell_type": "markdown",
   "metadata": {},
   "source": [
    "**Q**: Write a function `compress` that takes a string of characters, counts each occurrence of each character, and produces a compressed string with each character and its count. For example:\n",
    "\n",
    "`'aaaabbbbcccc'` would compress to `'a4b4c4'`\n",
    "\n",
    "You can assume that the source string will be sorted. The result string should be sorted. [2 points]"
   ]
  },
  {
   "cell_type": "code",
   "execution_count": 5,
   "metadata": {
    "deletable": false,
    "nbgrader": {
     "checksum": "82701353252072726d7bb4f363db9889",
     "grade": false,
     "grade_id": "cell-63c10b65c17caab0",
     "locked": false,
     "schema_version": 1,
     "solution": true
    }
   },
   "outputs": [],
   "source": [
    "def compress(letter_string):\n",
    "    \"\"\"Returns compressed string with letter frequency counts\"\"\"\n",
    "    output=''\n",
    "    for char in letter_string:\n",
    "        if char not in output:\n",
    "            output=output+str(char)+str(letter_string.count(char))\n",
    "    return output\n",
    "\n",
    "    raise NotImplementedError()"
   ]
  },
  {
   "cell_type": "code",
   "execution_count": 6,
   "metadata": {
    "deletable": false,
    "editable": false,
    "nbgrader": {
     "checksum": "6cc37742eda0d64d6cde768cc9677d86",
     "grade": true,
     "grade_id": "cell-33ec73d3be0d6640",
     "locked": true,
     "points": 2,
     "schema_version": 1,
     "solution": false
    }
   },
   "outputs": [],
   "source": [
    "### BEGIN HIDDEN TESTS\n",
    "assert compress('abcabcabcabc') == 'a4b4c4'\n",
    "\n",
    "import random\n",
    "import string\n",
    "import collections\n",
    "\n",
    "letters = (random.choice(string.ascii_lowercase) for _ in range(100))\n",
    "counter = collections.Counter(letters)\n",
    "tuples = sorted(counter.items())\n",
    "\n",
    "letter_string = ''.join(x * y for x, y in tuples)\n",
    "\n",
    "assert compress(letter_string) == ''.join(x + str(y) for x, y in tuples)\n",
    "### END HIDDEN TESTS"
   ]
  },
  {
   "cell_type": "markdown",
   "metadata": {},
   "source": [
    "----"
   ]
  },
  {
   "cell_type": "markdown",
   "metadata": {},
   "source": [
    "**Q**: Write a function `endpoints` that takes a list of numbers (eg. `[5, 10, 15, 20, 25]`) and returns a new list of only the first and last elements of the given list (eg. `[5, 25]`). The function should return an empty list if an empty list is passed in. The function should **not** use any variables besides the passed in argument `list_`.  [1 point]"
   ]
  },
  {
   "cell_type": "code",
   "execution_count": 7,
   "metadata": {
    "deletable": false,
    "nbgrader": {
     "checksum": "a53e50526e1efda5c3ae3172ff7b9ac3",
     "grade": false,
     "grade_id": "cell-e06b186eadc3d5c3",
     "locked": false,
     "schema_version": 1,
     "solution": true
    }
   },
   "outputs": [],
   "source": [
    "def endpoints(list_):\n",
    "    \"\"\"Returns 1st and last elements of list\"\"\"\n",
    "    if len(list_)==0:\n",
    "        return list_\n",
    "    \n",
    "    else:\n",
    "        output = list_[0], list_[-1]\n",
    "        return list(output)\n",
    "    \n",
    "    raise NotImplementedError()"
   ]
  },
  {
   "cell_type": "code",
   "execution_count": 8,
   "metadata": {
    "deletable": false,
    "editable": false,
    "nbgrader": {
     "checksum": "7e2c5bf3551e48c34c962ab9368c22ff",
     "grade": true,
     "grade_id": "cell-f7e7bb26b30ed92a",
     "locked": true,
     "points": 1,
     "schema_version": 1,
     "solution": false
    }
   },
   "outputs": [
    {
     "ename": "AssertionError",
     "evalue": "",
     "output_type": "error",
     "traceback": [
      "\u001b[1;31m---------------------------------------------------------------------------\u001b[0m",
      "\u001b[1;31mAssertionError\u001b[0m                            Traceback (most recent call last)",
      "\u001b[1;32m<ipython-input-8-74c8f97124fb>\u001b[0m in \u001b[0;36m<module>\u001b[1;34m()\u001b[0m\n\u001b[0;32m      2\u001b[0m \u001b[1;32massert\u001b[0m \u001b[0mendpoints\u001b[0m\u001b[1;33m(\u001b[0m\u001b[1;33m[\u001b[0m\u001b[0mx\u001b[0m \u001b[1;32mfor\u001b[0m \u001b[0mx\u001b[0m \u001b[1;32min\u001b[0m \u001b[0mrange\u001b[0m\u001b[1;33m(\u001b[0m\u001b[1;36m12\u001b[0m\u001b[1;33m,\u001b[0m \u001b[1;36m25\u001b[0m\u001b[1;33m)\u001b[0m\u001b[1;33m]\u001b[0m\u001b[1;33m)\u001b[0m \u001b[1;33m==\u001b[0m \u001b[1;33m[\u001b[0m\u001b[1;36m12\u001b[0m\u001b[1;33m,\u001b[0m \u001b[1;36m24\u001b[0m\u001b[1;33m]\u001b[0m\u001b[1;33m\u001b[0m\u001b[0m\n\u001b[0;32m      3\u001b[0m \u001b[1;32massert\u001b[0m \u001b[0mendpoints\u001b[0m\u001b[1;33m.\u001b[0m\u001b[0m__code__\u001b[0m\u001b[1;33m.\u001b[0m\u001b[0mco_freevars\u001b[0m \u001b[1;33m==\u001b[0m \u001b[1;33m(\u001b[0m\u001b[1;33m)\u001b[0m\u001b[1;33m\u001b[0m\u001b[0m\n\u001b[1;32m----> 4\u001b[1;33m \u001b[1;32massert\u001b[0m \u001b[0mendpoints\u001b[0m\u001b[1;33m.\u001b[0m\u001b[0m__code__\u001b[0m\u001b[1;33m.\u001b[0m\u001b[0mco_varnames\u001b[0m \u001b[1;33m==\u001b[0m \u001b[1;33m(\u001b[0m\u001b[1;34m'list_'\u001b[0m\u001b[1;33m,\u001b[0m\u001b[1;33m)\u001b[0m\u001b[1;33m\u001b[0m\u001b[0m\n\u001b[0m\u001b[0;32m      5\u001b[0m \u001b[1;31m### END HIDDEN TESTS\u001b[0m\u001b[1;33m\u001b[0m\u001b[1;33m\u001b[0m\u001b[0m\n",
      "\u001b[1;31mAssertionError\u001b[0m: "
     ]
    }
   ],
   "source": [
    "### BEGIN HIDDEN TESTS\n",
    "assert endpoints([x for x in range(12, 25)]) == [12, 24]\n",
    "assert endpoints.__code__.co_freevars == ()\n",
    "assert endpoints.__code__.co_varnames == ('list_',)\n",
    "### END HIDDEN TESTS"
   ]
  },
  {
   "cell_type": "markdown",
   "metadata": {},
   "source": [
    "---"
   ]
  },
  {
   "cell_type": "markdown",
   "metadata": {},
   "source": [
    "**Q**: Write a function `common` that consumes two lists and that produces a list that contains only the common elements (without duplicates). Make sure your program works on two lists of different sizes and returns the common elements in sorted ascending order.\n",
    "\n",
    "\n",
    "```python\n",
    "a = [1, 1, 2, 3, 5, 8, 13, 21, 34, 55, 89]\n",
    "b = [1, 2, 3, 4, 5, 6, 7, 8, 9, 10, 11, 12, 13]\n",
    "\n",
    "# result\n",
    "[1, 2, 3, 5, 8, 13]\n",
    "```\n",
    "\n",
    "[1 point]"
   ]
  },
  {
   "cell_type": "code",
   "execution_count": 9,
   "metadata": {
    "deletable": false,
    "nbgrader": {
     "checksum": "d2b4e6ad63f3ee41dca8c2327b289435",
     "grade": false,
     "grade_id": "cell-1ab667ab32f392f9",
     "locked": false,
     "schema_version": 1,
     "solution": true
    }
   },
   "outputs": [],
   "source": [
    "def common(a, b):\n",
    "    \"\"\"Return list of common elements between two lists\"\"\"\n",
    "    interim = [item for item in a if item in b]\n",
    "    output=[]\n",
    "    \n",
    "    for num in interim:\n",
    "        if num not in output:\n",
    "            output.append(num)\n",
    "    return output\n",
    "\n",
    "    raise NotImplementedError()"
   ]
  },
  {
   "cell_type": "code",
   "execution_count": 10,
   "metadata": {
    "deletable": false,
    "editable": false,
    "nbgrader": {
     "checksum": "d277fc1b970a36b3b37dd37e8e5a69dc",
     "grade": true,
     "grade_id": "cell-8cd8aa2c0c722e82",
     "locked": true,
     "points": 1,
     "schema_version": 1,
     "solution": false
    }
   },
   "outputs": [],
   "source": [
    "### BEGIN HIDDEN TESTS\n",
    "import random\n",
    "\n",
    "a = [random.randint(1, 45) for x in range(random.randint(-50, 50))]\n",
    "b = [random.randint(1, 45) for x in range(random.randint(-50, 50))]\n",
    "\n",
    "assert common(a, b) == sorted(set(a).intersection(b))\n",
    "### END HIDDEN TESTS"
   ]
  },
  {
   "cell_type": "markdown",
   "metadata": {},
   "source": [
    "----"
   ]
  },
  {
   "cell_type": "markdown",
   "metadata": {},
   "source": [
    "**Q**: Create a function `search` that searches a dictionary's keys for a keyword and returns a set of the associated values for all keys that contain the keyword. If it helps, assume the dictionary is keyed by a few of your friends' first names and valued by their associated favorite color. Make sure the search is case-insensitive.\n",
    "\n",
    "```python\n",
    "d = {\n",
    "    'Urbi': 'Green',\n",
    "    'Derek': 'Blue',\n",
    "    'Jon': 'Yellow',\n",
    "    'Lin': 'Purple',\n",
    "}\n",
    "```\n",
    "- Searching for 'j' results in {'Yellow'}\n",
    "- Searching for 'i' results in {'Green', 'Purple'}\n",
    "\n",
    "[2 points]\n"
   ]
  },
  {
   "cell_type": "code",
   "execution_count": 11,
   "metadata": {
    "deletable": false,
    "nbgrader": {
     "checksum": "fb444a3541e47667da8a3bde1c8716a9",
     "grade": false,
     "grade_id": "cell-71b5d64fa7de099d",
     "locked": false,
     "schema_version": 1,
     "solution": true
    }
   },
   "outputs": [],
   "source": [
    "def search(dict_, search_term):\n",
    "    \"\"\"Returns values where search term appears in key\"\"\"\n",
    "    search_term = search_term.lower()\n",
    "    dict_={key.lower():value for key,value in dict_.items()}\n",
    "    output = {value for key,value in dict_.items() if search_term in key}\n",
    "    \n",
    "    return output\n",
    "\n",
    "    raise NotImplementedError()\n"
   ]
  },
  {
   "cell_type": "code",
   "execution_count": 12,
   "metadata": {
    "deletable": false,
    "editable": false,
    "nbgrader": {
     "checksum": "69a63082e12883c312902e62459b3d56",
     "grade": true,
     "grade_id": "cell-f6efe948113bdc7a",
     "locked": true,
     "points": 2,
     "schema_version": 1,
     "solution": false
    }
   },
   "outputs": [],
   "source": [
    "### BEGIN HIDDEN TESTS\n",
    "d = {\n",
    "    'Urbi': 'Green',\n",
    "    'Derek': 'Blue',\n",
    "    'Jon': 'Yellow',\n",
    "    'Liz': 'Purple',\n",
    "}\n",
    "\n",
    "assert search(d, 'j') == {'Yellow'}\n",
    "assert search(d, 'i') == {'Green', 'Purple'}\n",
    "### END HIDDEN TESTS"
   ]
  },
  {
   "cell_type": "markdown",
   "metadata": {},
   "source": [
    "----"
   ]
  },
  {
   "cell_type": "markdown",
   "metadata": {},
   "source": [
    "**Q**: Write a script that appends 100,000 items to a an empty list; the item can be anything so the number 1 would do. Time how long it takes (with a stop watch on the Internet or your phone). Write a script that prepends 100,000 items to an empty list and time how long it takes. \n",
    "\n",
    "What script takes longer and why? No more than 50 words. \n",
    "\n",
    "If either script runs for more than a minute, stop it and assume that it ran infinitely long. [1 point]"
   ]
  },
  {
   "cell_type": "code",
   "execution_count": 13,
   "metadata": {
    "deletable": false,
    "nbgrader": {
     "checksum": "f0e17160d8fabd44b7fb132cd1aeb0a8",
     "grade": true,
     "grade_id": "cell-670e7107d58db7bf",
     "locked": false,
     "points": 0,
     "schema_version": 1,
     "solution": true
    }
   },
   "outputs": [],
   "source": [
    "def big_list_b():\n",
    "    \"\"\"Appends 'z' to list\"\"\"\n",
    "    list_a = []\n",
    "    for count in range(0,100001):\n",
    "        list_a.append('z')\n",
    "    return list_a\n",
    "\n",
    "    raise NotImplementedError()"
   ]
  },
  {
   "cell_type": "code",
   "execution_count": 14,
   "metadata": {
    "deletable": false,
    "nbgrader": {
     "checksum": "a64f718b2f9f7ec1ffb9fc7593489dfe",
     "grade": true,
     "grade_id": "cell-c1f537f3db59f76e",
     "locked": false,
     "points": 0,
     "schema_version": 1,
     "solution": true
    }
   },
   "outputs": [
    {
     "data": {
      "text/plain": [
       "['z',\n",
       " 'z',\n",
       " 'z',\n",
       " 'z',\n",
       " 'z',\n",
       " 'z',\n",
       " 'z',\n",
       " 'z',\n",
       " 'z',\n",
       " 'z',\n",
       " 'z',\n",
       " 'z',\n",
       " 'z',\n",
       " 'z',\n",
       " 'z',\n",
       " 'z',\n",
       " 'z',\n",
       " 'z',\n",
       " 'z',\n",
       " 'z',\n",
       " 'z',\n",
       " 'z',\n",
       " 'z',\n",
       " 'z',\n",
       " 'z',\n",
       " 'z',\n",
       " 'z',\n",
       " 'z',\n",
       " 'z',\n",
       " 'z',\n",
       " 'z',\n",
       " 'z',\n",
       " 'z',\n",
       " 'z',\n",
       " 'z',\n",
       " 'z',\n",
       " 'z',\n",
       " 'z',\n",
       " 'z',\n",
       " 'z',\n",
       " 'z',\n",
       " 'z',\n",
       " 'z',\n",
       " 'z',\n",
       " 'z',\n",
       " 'z',\n",
       " 'z',\n",
       " 'z',\n",
       " 'z',\n",
       " 'z',\n",
       " 'z',\n",
       " 'z',\n",
       " 'z',\n",
       " 'z',\n",
       " 'z',\n",
       " 'z',\n",
       " 'z',\n",
       " 'z',\n",
       " 'z',\n",
       " 'z',\n",
       " 'z',\n",
       " 'z',\n",
       " 'z',\n",
       " 'z',\n",
       " 'z',\n",
       " 'z',\n",
       " 'z',\n",
       " 'z',\n",
       " 'z',\n",
       " 'z',\n",
       " 'z',\n",
       " 'z',\n",
       " 'z',\n",
       " 'z',\n",
       " 'z',\n",
       " 'z',\n",
       " 'z',\n",
       " 'z',\n",
       " 'z',\n",
       " 'z',\n",
       " 'z',\n",
       " 'z',\n",
       " 'z',\n",
       " 'z',\n",
       " 'z',\n",
       " 'z',\n",
       " 'z',\n",
       " 'z',\n",
       " 'z',\n",
       " 'z',\n",
       " 'z',\n",
       " 'z',\n",
       " 'z',\n",
       " 'z',\n",
       " 'z',\n",
       " 'z',\n",
       " 'z',\n",
       " 'z',\n",
       " 'z',\n",
       " 'z',\n",
       " 'z',\n",
       " 'z',\n",
       " 'z',\n",
       " 'z',\n",
       " 'z',\n",
       " 'z',\n",
       " 'z',\n",
       " 'z',\n",
       " 'z',\n",
       " 'z',\n",
       " 'z',\n",
       " 'z',\n",
       " 'z',\n",
       " 'z',\n",
       " 'z',\n",
       " 'z',\n",
       " 'z',\n",
       " 'z',\n",
       " 'z',\n",
       " 'z',\n",
       " 'z',\n",
       " 'z',\n",
       " 'z',\n",
       " 'z',\n",
       " 'z',\n",
       " 'z',\n",
       " 'z',\n",
       " 'z',\n",
       " 'z',\n",
       " 'z',\n",
       " 'z',\n",
       " 'z',\n",
       " 'z',\n",
       " 'z',\n",
       " 'z',\n",
       " 'z',\n",
       " 'z',\n",
       " 'z',\n",
       " 'z',\n",
       " 'z',\n",
       " 'z',\n",
       " 'z',\n",
       " 'z',\n",
       " 'z',\n",
       " 'z',\n",
       " 'z',\n",
       " 'z',\n",
       " 'z',\n",
       " 'z',\n",
       " 'z',\n",
       " 'z',\n",
       " 'z',\n",
       " 'z',\n",
       " 'z',\n",
       " 'z',\n",
       " 'z',\n",
       " 'z',\n",
       " 'z',\n",
       " 'z',\n",
       " 'z',\n",
       " 'z',\n",
       " 'z',\n",
       " 'z',\n",
       " 'z',\n",
       " 'z',\n",
       " 'z',\n",
       " 'z',\n",
       " 'z',\n",
       " 'z',\n",
       " 'z',\n",
       " 'z',\n",
       " 'z',\n",
       " 'z',\n",
       " 'z',\n",
       " 'z',\n",
       " 'z',\n",
       " 'z',\n",
       " 'z',\n",
       " 'z',\n",
       " 'z',\n",
       " 'z',\n",
       " 'z',\n",
       " 'z',\n",
       " 'z',\n",
       " 'z',\n",
       " 'z',\n",
       " 'z',\n",
       " 'z',\n",
       " 'z',\n",
       " 'z',\n",
       " 'z',\n",
       " 'z',\n",
       " 'z',\n",
       " 'z',\n",
       " 'z',\n",
       " 'z',\n",
       " 'z',\n",
       " 'z',\n",
       " 'z',\n",
       " 'z',\n",
       " 'z',\n",
       " 'z',\n",
       " 'z',\n",
       " 'z',\n",
       " 'z',\n",
       " 'z',\n",
       " 'z',\n",
       " 'z',\n",
       " 'z',\n",
       " 'z',\n",
       " 'z',\n",
       " 'z',\n",
       " 'z',\n",
       " 'z',\n",
       " 'z',\n",
       " 'z',\n",
       " 'z',\n",
       " 'z',\n",
       " 'z',\n",
       " 'z',\n",
       " 'z',\n",
       " 'z',\n",
       " 'z',\n",
       " 'z',\n",
       " 'z',\n",
       " 'z',\n",
       " 'z',\n",
       " 'z',\n",
       " 'z',\n",
       " 'z',\n",
       " 'z',\n",
       " 'z',\n",
       " 'z',\n",
       " 'z',\n",
       " 'z',\n",
       " 'z',\n",
       " 'z',\n",
       " 'z',\n",
       " 'z',\n",
       " 'z',\n",
       " 'z',\n",
       " 'z',\n",
       " 'z',\n",
       " 'z',\n",
       " 'z',\n",
       " 'z',\n",
       " 'z',\n",
       " 'z',\n",
       " 'z',\n",
       " 'z',\n",
       " 'z',\n",
       " 'z',\n",
       " 'z',\n",
       " 'z',\n",
       " 'z',\n",
       " 'z',\n",
       " 'z',\n",
       " 'z',\n",
       " 'z',\n",
       " 'z',\n",
       " 'z',\n",
       " 'z',\n",
       " 'z',\n",
       " 'z',\n",
       " 'z',\n",
       " 'z',\n",
       " 'z',\n",
       " 'z',\n",
       " 'z',\n",
       " 'z',\n",
       " 'z',\n",
       " 'z',\n",
       " 'z',\n",
       " 'z',\n",
       " 'z',\n",
       " 'z',\n",
       " 'z',\n",
       " 'z',\n",
       " 'z',\n",
       " 'z',\n",
       " 'z',\n",
       " 'z',\n",
       " 'z',\n",
       " 'z',\n",
       " 'z',\n",
       " 'z',\n",
       " 'z',\n",
       " 'z',\n",
       " 'z',\n",
       " 'z',\n",
       " 'z',\n",
       " 'z',\n",
       " 'z',\n",
       " 'z',\n",
       " 'z',\n",
       " 'z',\n",
       " 'z',\n",
       " 'z',\n",
       " 'z',\n",
       " 'z',\n",
       " 'z',\n",
       " 'z',\n",
       " 'z',\n",
       " 'z',\n",
       " 'z',\n",
       " 'z',\n",
       " 'z',\n",
       " 'z',\n",
       " 'z',\n",
       " 'z',\n",
       " 'z',\n",
       " 'z',\n",
       " 'z',\n",
       " 'z',\n",
       " 'z',\n",
       " 'z',\n",
       " 'z',\n",
       " 'z',\n",
       " 'z',\n",
       " 'z',\n",
       " 'z',\n",
       " 'z',\n",
       " 'z',\n",
       " 'z',\n",
       " 'z',\n",
       " 'z',\n",
       " 'z',\n",
       " 'z',\n",
       " 'z',\n",
       " 'z',\n",
       " 'z',\n",
       " 'z',\n",
       " 'z',\n",
       " 'z',\n",
       " 'z',\n",
       " 'z',\n",
       " 'z',\n",
       " 'z',\n",
       " 'z',\n",
       " 'z',\n",
       " 'z',\n",
       " 'z',\n",
       " 'z',\n",
       " 'z',\n",
       " 'z',\n",
       " 'z',\n",
       " 'z',\n",
       " 'z',\n",
       " 'z',\n",
       " 'z',\n",
       " 'z',\n",
       " 'z',\n",
       " 'z',\n",
       " 'z',\n",
       " 'z',\n",
       " 'z',\n",
       " 'z',\n",
       " 'z',\n",
       " 'z',\n",
       " 'z',\n",
       " 'z',\n",
       " 'z',\n",
       " 'z',\n",
       " 'z',\n",
       " 'z',\n",
       " 'z',\n",
       " 'z',\n",
       " 'z',\n",
       " 'z',\n",
       " 'z',\n",
       " 'z',\n",
       " 'z',\n",
       " 'z',\n",
       " 'z',\n",
       " 'z',\n",
       " 'z',\n",
       " 'z',\n",
       " 'z',\n",
       " 'z',\n",
       " 'z',\n",
       " 'z',\n",
       " 'z',\n",
       " 'z',\n",
       " 'z',\n",
       " 'z',\n",
       " 'z',\n",
       " 'z',\n",
       " 'z',\n",
       " 'z',\n",
       " 'z',\n",
       " 'z',\n",
       " 'z',\n",
       " 'z',\n",
       " 'z',\n",
       " 'z',\n",
       " 'z',\n",
       " 'z',\n",
       " 'z',\n",
       " 'z',\n",
       " 'z',\n",
       " 'z',\n",
       " 'z',\n",
       " 'z',\n",
       " 'z',\n",
       " 'z',\n",
       " 'z',\n",
       " 'z',\n",
       " 'z',\n",
       " 'z',\n",
       " 'z',\n",
       " 'z',\n",
       " 'z',\n",
       " 'z',\n",
       " 'z',\n",
       " 'z',\n",
       " 'z',\n",
       " 'z',\n",
       " 'z',\n",
       " 'z',\n",
       " 'z',\n",
       " 'z',\n",
       " 'z',\n",
       " 'z',\n",
       " 'z',\n",
       " 'z',\n",
       " 'z',\n",
       " 'z',\n",
       " 'z',\n",
       " 'z',\n",
       " 'z',\n",
       " 'z',\n",
       " 'z',\n",
       " 'z',\n",
       " 'z',\n",
       " 'z',\n",
       " 'z',\n",
       " 'z',\n",
       " 'z',\n",
       " 'z',\n",
       " 'z',\n",
       " 'z',\n",
       " 'z',\n",
       " 'z',\n",
       " 'z',\n",
       " 'z',\n",
       " 'z',\n",
       " 'z',\n",
       " 'z',\n",
       " 'z',\n",
       " 'z',\n",
       " 'z',\n",
       " 'z',\n",
       " 'z',\n",
       " 'z',\n",
       " 'z',\n",
       " 'z',\n",
       " 'z',\n",
       " 'z',\n",
       " 'z',\n",
       " 'z',\n",
       " 'z',\n",
       " 'z',\n",
       " 'z',\n",
       " 'z',\n",
       " 'z',\n",
       " 'z',\n",
       " 'z',\n",
       " 'z',\n",
       " 'z',\n",
       " 'z',\n",
       " 'z',\n",
       " 'z',\n",
       " 'z',\n",
       " 'z',\n",
       " 'z',\n",
       " 'z',\n",
       " 'z',\n",
       " 'z',\n",
       " 'z',\n",
       " 'z',\n",
       " 'z',\n",
       " 'z',\n",
       " 'z',\n",
       " 'z',\n",
       " 'z',\n",
       " 'z',\n",
       " 'z',\n",
       " 'z',\n",
       " 'z',\n",
       " 'z',\n",
       " 'z',\n",
       " 'z',\n",
       " 'z',\n",
       " 'z',\n",
       " 'z',\n",
       " 'z',\n",
       " 'z',\n",
       " 'z',\n",
       " 'z',\n",
       " 'z',\n",
       " 'z',\n",
       " 'z',\n",
       " 'z',\n",
       " 'z',\n",
       " 'z',\n",
       " 'z',\n",
       " 'z',\n",
       " 'z',\n",
       " 'z',\n",
       " 'z',\n",
       " 'z',\n",
       " 'z',\n",
       " 'z',\n",
       " 'z',\n",
       " 'z',\n",
       " 'z',\n",
       " 'z',\n",
       " 'z',\n",
       " 'z',\n",
       " 'z',\n",
       " 'z',\n",
       " 'z',\n",
       " 'z',\n",
       " 'z',\n",
       " 'z',\n",
       " 'z',\n",
       " 'z',\n",
       " 'z',\n",
       " 'z',\n",
       " 'z',\n",
       " 'z',\n",
       " 'z',\n",
       " 'z',\n",
       " 'z',\n",
       " 'z',\n",
       " 'z',\n",
       " 'z',\n",
       " 'z',\n",
       " 'z',\n",
       " 'z',\n",
       " 'z',\n",
       " 'z',\n",
       " 'z',\n",
       " 'z',\n",
       " 'z',\n",
       " 'z',\n",
       " 'z',\n",
       " 'z',\n",
       " 'z',\n",
       " 'z',\n",
       " 'z',\n",
       " 'z',\n",
       " 'z',\n",
       " 'z',\n",
       " 'z',\n",
       " 'z',\n",
       " 'z',\n",
       " 'z',\n",
       " 'z',\n",
       " 'z',\n",
       " 'z',\n",
       " 'z',\n",
       " 'z',\n",
       " 'z',\n",
       " 'z',\n",
       " 'z',\n",
       " 'z',\n",
       " 'z',\n",
       " 'z',\n",
       " 'z',\n",
       " 'z',\n",
       " 'z',\n",
       " 'z',\n",
       " 'z',\n",
       " 'z',\n",
       " 'z',\n",
       " 'z',\n",
       " 'z',\n",
       " 'z',\n",
       " 'z',\n",
       " 'z',\n",
       " 'z',\n",
       " 'z',\n",
       " 'z',\n",
       " 'z',\n",
       " 'z',\n",
       " 'z',\n",
       " 'z',\n",
       " 'z',\n",
       " 'z',\n",
       " 'z',\n",
       " 'z',\n",
       " 'z',\n",
       " 'z',\n",
       " 'z',\n",
       " 'z',\n",
       " 'z',\n",
       " 'z',\n",
       " 'z',\n",
       " 'z',\n",
       " 'z',\n",
       " 'z',\n",
       " 'z',\n",
       " 'z',\n",
       " 'z',\n",
       " 'z',\n",
       " 'z',\n",
       " 'z',\n",
       " 'z',\n",
       " 'z',\n",
       " 'z',\n",
       " 'z',\n",
       " 'z',\n",
       " 'z',\n",
       " 'z',\n",
       " 'z',\n",
       " 'z',\n",
       " 'z',\n",
       " 'z',\n",
       " 'z',\n",
       " 'z',\n",
       " 'z',\n",
       " 'z',\n",
       " 'z',\n",
       " 'z',\n",
       " 'z',\n",
       " 'z',\n",
       " 'z',\n",
       " 'z',\n",
       " 'z',\n",
       " 'z',\n",
       " 'z',\n",
       " 'z',\n",
       " 'z',\n",
       " 'z',\n",
       " 'z',\n",
       " 'z',\n",
       " 'z',\n",
       " 'z',\n",
       " 'z',\n",
       " 'z',\n",
       " 'z',\n",
       " 'z',\n",
       " 'z',\n",
       " 'z',\n",
       " 'z',\n",
       " 'z',\n",
       " 'z',\n",
       " 'z',\n",
       " 'z',\n",
       " 'z',\n",
       " 'z',\n",
       " 'z',\n",
       " 'z',\n",
       " 'z',\n",
       " 'z',\n",
       " 'z',\n",
       " 'z',\n",
       " 'z',\n",
       " 'z',\n",
       " 'z',\n",
       " 'z',\n",
       " 'z',\n",
       " 'z',\n",
       " 'z',\n",
       " 'z',\n",
       " 'z',\n",
       " 'z',\n",
       " 'z',\n",
       " 'z',\n",
       " 'z',\n",
       " 'z',\n",
       " 'z',\n",
       " 'z',\n",
       " 'z',\n",
       " 'z',\n",
       " 'z',\n",
       " 'z',\n",
       " 'z',\n",
       " 'z',\n",
       " 'z',\n",
       " 'z',\n",
       " 'z',\n",
       " 'z',\n",
       " 'z',\n",
       " 'z',\n",
       " 'z',\n",
       " 'z',\n",
       " 'z',\n",
       " 'z',\n",
       " 'z',\n",
       " 'z',\n",
       " 'z',\n",
       " 'z',\n",
       " 'z',\n",
       " 'z',\n",
       " 'z',\n",
       " 'z',\n",
       " 'z',\n",
       " 'z',\n",
       " 'z',\n",
       " 'z',\n",
       " 'z',\n",
       " 'z',\n",
       " 'z',\n",
       " 'z',\n",
       " 'z',\n",
       " 'z',\n",
       " 'z',\n",
       " 'z',\n",
       " 'z',\n",
       " 'z',\n",
       " 'z',\n",
       " 'z',\n",
       " 'z',\n",
       " 'z',\n",
       " 'z',\n",
       " 'z',\n",
       " 'z',\n",
       " 'z',\n",
       " 'z',\n",
       " 'z',\n",
       " 'z',\n",
       " 'z',\n",
       " 'z',\n",
       " 'z',\n",
       " 'z',\n",
       " 'z',\n",
       " 'z',\n",
       " 'z',\n",
       " 'z',\n",
       " 'z',\n",
       " 'z',\n",
       " 'z',\n",
       " 'z',\n",
       " 'z',\n",
       " 'z',\n",
       " 'z',\n",
       " 'z',\n",
       " 'z',\n",
       " 'z',\n",
       " 'z',\n",
       " 'z',\n",
       " 'z',\n",
       " 'z',\n",
       " 'z',\n",
       " 'z',\n",
       " 'z',\n",
       " 'z',\n",
       " 'z',\n",
       " 'z',\n",
       " 'z',\n",
       " 'z',\n",
       " 'z',\n",
       " 'z',\n",
       " 'z',\n",
       " 'z',\n",
       " 'z',\n",
       " 'z',\n",
       " 'z',\n",
       " 'z',\n",
       " 'z',\n",
       " 'z',\n",
       " 'z',\n",
       " 'z',\n",
       " 'z',\n",
       " 'z',\n",
       " 'z',\n",
       " 'z',\n",
       " 'z',\n",
       " 'z',\n",
       " 'z',\n",
       " 'z',\n",
       " 'z',\n",
       " 'z',\n",
       " 'z',\n",
       " 'z',\n",
       " 'z',\n",
       " 'z',\n",
       " 'z',\n",
       " 'z',\n",
       " 'z',\n",
       " 'z',\n",
       " 'z',\n",
       " 'z',\n",
       " 'z',\n",
       " 'z',\n",
       " 'z',\n",
       " 'z',\n",
       " 'z',\n",
       " 'z',\n",
       " 'z',\n",
       " 'z',\n",
       " 'z',\n",
       " 'z',\n",
       " 'z',\n",
       " 'z',\n",
       " 'z',\n",
       " 'z',\n",
       " 'z',\n",
       " 'z',\n",
       " 'z',\n",
       " 'z',\n",
       " 'z',\n",
       " 'z',\n",
       " 'z',\n",
       " 'z',\n",
       " 'z',\n",
       " 'z',\n",
       " 'z',\n",
       " 'z',\n",
       " 'z',\n",
       " 'z',\n",
       " 'z',\n",
       " 'z',\n",
       " 'z',\n",
       " 'z',\n",
       " 'z',\n",
       " 'z',\n",
       " 'z',\n",
       " 'z',\n",
       " 'z',\n",
       " 'z',\n",
       " 'z',\n",
       " 'z',\n",
       " 'z',\n",
       " 'z',\n",
       " 'z',\n",
       " 'z',\n",
       " 'z',\n",
       " 'z',\n",
       " 'z',\n",
       " 'z',\n",
       " 'z',\n",
       " 'z',\n",
       " 'z',\n",
       " 'z',\n",
       " 'z',\n",
       " 'z',\n",
       " 'z',\n",
       " 'z',\n",
       " 'z',\n",
       " 'z',\n",
       " 'z',\n",
       " 'z',\n",
       " 'z',\n",
       " 'z',\n",
       " 'z',\n",
       " 'z',\n",
       " 'z',\n",
       " 'z',\n",
       " 'z',\n",
       " 'z',\n",
       " 'z',\n",
       " 'z',\n",
       " 'z',\n",
       " 'z',\n",
       " 'z',\n",
       " 'z',\n",
       " 'z',\n",
       " 'z',\n",
       " 'z',\n",
       " 'z',\n",
       " 'z',\n",
       " 'z',\n",
       " 'z',\n",
       " 'z',\n",
       " 'z',\n",
       " 'z',\n",
       " 'z',\n",
       " 'z',\n",
       " 'z',\n",
       " 'z',\n",
       " 'z',\n",
       " 'z',\n",
       " 'z',\n",
       " 'z',\n",
       " 'z',\n",
       " 'z',\n",
       " 'z',\n",
       " 'z',\n",
       " 'z',\n",
       " 'z',\n",
       " 'z',\n",
       " 'z',\n",
       " 'z',\n",
       " 'z',\n",
       " 'z',\n",
       " 'z',\n",
       " 'z',\n",
       " 'z',\n",
       " 'z',\n",
       " 'z',\n",
       " 'z',\n",
       " 'z',\n",
       " 'z',\n",
       " 'z',\n",
       " 'z',\n",
       " 'z',\n",
       " 'z',\n",
       " 'z',\n",
       " 'z',\n",
       " 'z',\n",
       " 'z',\n",
       " 'z',\n",
       " 'z',\n",
       " 'z',\n",
       " 'z',\n",
       " 'z',\n",
       " 'z',\n",
       " 'z',\n",
       " 'z',\n",
       " 'z',\n",
       " 'z',\n",
       " 'z',\n",
       " 'z',\n",
       " 'z',\n",
       " 'z',\n",
       " 'z',\n",
       " 'z',\n",
       " 'z',\n",
       " 'z',\n",
       " 'z',\n",
       " 'z',\n",
       " 'z',\n",
       " 'z',\n",
       " 'z',\n",
       " 'z',\n",
       " 'z',\n",
       " 'z',\n",
       " 'z',\n",
       " 'z',\n",
       " 'z',\n",
       " 'z',\n",
       " 'z',\n",
       " 'z',\n",
       " 'z',\n",
       " 'z',\n",
       " 'z',\n",
       " 'z',\n",
       " 'z',\n",
       " 'z',\n",
       " 'z',\n",
       " 'z',\n",
       " 'z',\n",
       " 'z',\n",
       " 'z',\n",
       " 'z',\n",
       " 'z',\n",
       " 'z',\n",
       " 'z',\n",
       " 'z',\n",
       " 'z',\n",
       " 'z',\n",
       " 'z',\n",
       " 'z',\n",
       " 'z',\n",
       " 'z',\n",
       " 'z',\n",
       " 'z',\n",
       " 'z',\n",
       " 'z',\n",
       " 'z',\n",
       " 'z',\n",
       " 'z',\n",
       " 'z',\n",
       " 'z',\n",
       " 'z',\n",
       " 'z',\n",
       " 'z',\n",
       " 'z',\n",
       " 'z',\n",
       " 'z',\n",
       " 'z',\n",
       " 'z',\n",
       " 'z',\n",
       " 'z',\n",
       " 'z',\n",
       " 'z',\n",
       " 'z',\n",
       " 'z',\n",
       " 'z',\n",
       " 'z',\n",
       " 'z',\n",
       " 'z',\n",
       " 'z',\n",
       " 'z',\n",
       " 'z',\n",
       " 'z',\n",
       " 'z',\n",
       " 'z',\n",
       " 'z',\n",
       " 'z',\n",
       " 'z',\n",
       " 'z',\n",
       " 'z',\n",
       " 'z',\n",
       " 'z',\n",
       " 'z',\n",
       " 'z',\n",
       " ...]"
      ]
     },
     "execution_count": 14,
     "metadata": {},
     "output_type": "execute_result"
    }
   ],
   "source": [
    "def big_list_b():\n",
    "    \"\"\"Prepends 'z' to a list\"\"\"\n",
    "    list_b = []\n",
    "    for count in range(0,100001):\n",
    "        list_b.insert(0,'z')\n",
    "    \n",
    "    return list_b\n",
    "\n",
    "    raise NotImplementedError()\n",
    "big_list_b()"
   ]
  },
  {
   "cell_type": "markdown",
   "metadata": {
    "deletable": false,
    "nbgrader": {
     "checksum": "872954e58c51275ec729593191bb7562",
     "grade": true,
     "grade_id": "cell-91f1edcf7c372b7c",
     "locked": false,
     "points": 1,
     "schema_version": 1,
     "solution": true
    }
   },
   "source": [
    "Perpending took 4s whereas appending was nearly instant. This is because with prepending all the positions of the characters currently held in the list need to be 'moved down' a spot to make room for the new character at position 0. With appending, the new character is simply placed at the end of the len(list_b)"
   ]
  },
  {
   "cell_type": "markdown",
   "metadata": {},
   "source": [
    "---"
   ]
  },
  {
   "cell_type": "markdown",
   "metadata": {},
   "source": [
    "**Q**: Create a function `get_lambda` that returns a `lambda` function that returns a tuple containing N instances of a given value.\n",
    "\n",
    "```python\n",
    ">>> f = get_lambda()\n",
    ">>> f(4, True)\n",
    "(True, True, True, True)\n",
    "```\n",
    "\n",
    "[1 point]"
   ]
  },
  {
   "cell_type": "code",
   "execution_count": 15,
   "metadata": {
    "deletable": false,
    "nbgrader": {
     "checksum": "ba04d3bc15ceab499469ea58fc288124",
     "grade": false,
     "grade_id": "cell-440167c0cf8ec924",
     "locked": false,
     "schema_version": 1,
     "solution": true
    }
   },
   "outputs": [
    {
     "data": {
      "text/plain": [
       "('vvvv',)"
      ]
     },
     "execution_count": 15,
     "metadata": {},
     "output_type": "execute_result"
    }
   ],
   "source": [
    "def get_lambda(instance, given):\n",
    "    \"\"\"Returns a tuple containing N instances of a given value\"\"\"\n",
    "    output = map(lambda given: given*instance,given)\n",
    "    \n",
    "    return tuple(output)\n",
    "                   \n",
    "    raise NotImplementedError()\n",
    "\n",
    "get_lambda(4,'v')"
   ]
  },
  {
   "cell_type": "code",
   "execution_count": 16,
   "metadata": {
    "deletable": false,
    "editable": false,
    "nbgrader": {
     "checksum": "4fb1927339df68bb0c5d82cd74940584",
     "grade": true,
     "grade_id": "cell-d1f15d8c975bef1e",
     "locked": true,
     "points": 1,
     "schema_version": 1,
     "solution": false
    }
   },
   "outputs": [
    {
     "ename": "TypeError",
     "evalue": "get_lambda() missing 2 required positional arguments: 'instance' and 'given'",
     "output_type": "error",
     "traceback": [
      "\u001b[1;31m---------------------------------------------------------------------------\u001b[0m",
      "\u001b[1;31mTypeError\u001b[0m                                 Traceback (most recent call last)",
      "\u001b[1;32m<ipython-input-16-c2305166e373>\u001b[0m in \u001b[0;36m<module>\u001b[1;34m()\u001b[0m\n\u001b[0;32m      1\u001b[0m \u001b[1;31m### BEGIN HIDDEN TESTS\u001b[0m\u001b[1;33m\u001b[0m\u001b[1;33m\u001b[0m\u001b[0m\n\u001b[1;32m----> 2\u001b[1;33m \u001b[1;32massert\u001b[0m \u001b[0mget_lambda\u001b[0m\u001b[1;33m(\u001b[0m\u001b[1;33m)\u001b[0m\u001b[1;33m.\u001b[0m\u001b[0m__code__\u001b[0m\u001b[1;33m.\u001b[0m\u001b[0mco_name\u001b[0m \u001b[1;33m==\u001b[0m \u001b[1;34m'<lambda>'\u001b[0m\u001b[1;33m\u001b[0m\u001b[0m\n\u001b[0m\u001b[0;32m      3\u001b[0m \u001b[1;32massert\u001b[0m \u001b[0mget_lambda\u001b[0m\u001b[1;33m(\u001b[0m\u001b[1;33m)\u001b[0m\u001b[1;33m(\u001b[0m\u001b[1;36m3\u001b[0m\u001b[1;33m,\u001b[0m \u001b[0mset\u001b[0m\u001b[1;33m(\u001b[0m\u001b[1;33m)\u001b[0m\u001b[1;33m)\u001b[0m \u001b[1;33m==\u001b[0m \u001b[1;33m(\u001b[0m\u001b[0mset\u001b[0m\u001b[1;33m(\u001b[0m\u001b[1;33m)\u001b[0m\u001b[1;33m,\u001b[0m \u001b[0mset\u001b[0m\u001b[1;33m(\u001b[0m\u001b[1;33m)\u001b[0m\u001b[1;33m,\u001b[0m \u001b[0mset\u001b[0m\u001b[1;33m(\u001b[0m\u001b[1;33m)\u001b[0m\u001b[1;33m)\u001b[0m\u001b[1;33m\u001b[0m\u001b[0m\n\u001b[0;32m      4\u001b[0m \u001b[1;31m### END HIDDEN TESTS\u001b[0m\u001b[1;33m\u001b[0m\u001b[1;33m\u001b[0m\u001b[0m\n",
      "\u001b[1;31mTypeError\u001b[0m: get_lambda() missing 2 required positional arguments: 'instance' and 'given'"
     ]
    }
   ],
   "source": [
    "### BEGIN HIDDEN TESTS\n",
    "assert get_lambda().__code__.co_name == '<lambda>'\n",
    "assert get_lambda()(3, set()) == (set(), set(), set())\n",
    "### END HIDDEN TESTS"
   ]
  },
  {
   "cell_type": "markdown",
   "metadata": {},
   "source": [
    "**Q**: Create a function `get_lambda` that returns a `lambda` function that takes a tuple and raises each element in the tuple to the second power.\n",
    "\n",
    "```python\n",
    ">>> f = get_lambda()\n",
    ">>> f((1, 2, 3, 4))\n",
    "(1, 4, 9, 16)\n",
    "```\n",
    "[1 point]"
   ]
  },
  {
   "cell_type": "code",
   "execution_count": 17,
   "metadata": {
    "deletable": false,
    "nbgrader": {
     "checksum": "4b6e08f4e3e4741c0c2186c34343b91e",
     "grade": false,
     "grade_id": "cell-70896f7d7cc69cde",
     "locked": false,
     "schema_version": 1,
     "solution": true
    }
   },
   "outputs": [],
   "source": [
    "def get_lambda(givens):\n",
    "    \"\"\"Raises each element in tuple to second power\"\"\"\n",
    "    return tuple(map(lambda x: x**2, givens))\n",
    "    \n",
    "    raise NotImplementedError()"
   ]
  },
  {
   "cell_type": "code",
   "execution_count": 18,
   "metadata": {
    "deletable": false,
    "editable": false,
    "nbgrader": {
     "checksum": "86c75df0e0cecfc26fabc77bb2bc993e",
     "grade": true,
     "grade_id": "cell-7b39c52cfbb8fe3a",
     "locked": true,
     "points": 1,
     "schema_version": 1,
     "solution": false
    }
   },
   "outputs": [
    {
     "ename": "TypeError",
     "evalue": "get_lambda() missing 1 required positional argument: 'givens'",
     "output_type": "error",
     "traceback": [
      "\u001b[1;31m---------------------------------------------------------------------------\u001b[0m",
      "\u001b[1;31mTypeError\u001b[0m                                 Traceback (most recent call last)",
      "\u001b[1;32m<ipython-input-18-ec10c91b9870>\u001b[0m in \u001b[0;36m<module>\u001b[1;34m()\u001b[0m\n\u001b[0;32m      1\u001b[0m \u001b[1;31m### BEGIN HIDDEN TESTS\u001b[0m\u001b[1;33m\u001b[0m\u001b[1;33m\u001b[0m\u001b[0m\n\u001b[1;32m----> 2\u001b[1;33m \u001b[1;32massert\u001b[0m \u001b[0mget_lambda\u001b[0m\u001b[1;33m(\u001b[0m\u001b[1;33m)\u001b[0m\u001b[1;33m.\u001b[0m\u001b[0m__code__\u001b[0m\u001b[1;33m.\u001b[0m\u001b[0mco_name\u001b[0m \u001b[1;33m==\u001b[0m \u001b[1;34m'<lambda>'\u001b[0m\u001b[1;33m\u001b[0m\u001b[0m\n\u001b[0m\u001b[0;32m      3\u001b[0m \u001b[1;32massert\u001b[0m \u001b[0mget_lambda\u001b[0m\u001b[1;33m(\u001b[0m\u001b[1;33m)\u001b[0m\u001b[1;33m(\u001b[0m\u001b[1;33m(\u001b[0m\u001b[1;36m1\u001b[0m\u001b[1;33m,\u001b[0m \u001b[1;36m2\u001b[0m\u001b[1;33m,\u001b[0m \u001b[1;36m3\u001b[0m\u001b[1;33m,\u001b[0m \u001b[1;36m4\u001b[0m\u001b[1;33m)\u001b[0m\u001b[1;33m)\u001b[0m \u001b[1;33m==\u001b[0m \u001b[1;33m(\u001b[0m\u001b[1;36m1\u001b[0m\u001b[1;33m,\u001b[0m \u001b[1;36m4\u001b[0m\u001b[1;33m,\u001b[0m \u001b[1;36m9\u001b[0m\u001b[1;33m,\u001b[0m \u001b[1;36m16\u001b[0m\u001b[1;33m)\u001b[0m\u001b[1;33m\u001b[0m\u001b[0m\n\u001b[0;32m      4\u001b[0m \u001b[1;31m### END HIDDEN TESTS\u001b[0m\u001b[1;33m\u001b[0m\u001b[1;33m\u001b[0m\u001b[0m\n",
      "\u001b[1;31mTypeError\u001b[0m: get_lambda() missing 1 required positional argument: 'givens'"
     ]
    }
   ],
   "source": [
    "### BEGIN HIDDEN TESTS\n",
    "assert get_lambda().__code__.co_name == '<lambda>'\n",
    "assert get_lambda()((1, 2, 3, 4)) == (1, 4, 9, 16)\n",
    "### END HIDDEN TESTS"
   ]
  },
  {
   "cell_type": "markdown",
   "metadata": {},
   "source": [
    "---"
   ]
  },
  {
   "cell_type": "markdown",
   "metadata": {},
   "source": [
    "**Q**: Write a function `get_cubes` that builds a new list via a list comprehension. The list comprehension should contain in sorted order, all cubes for numbers between 0 a given number `x` if the number is divisible by 3.\n",
    "\n",
    "```python\n",
    ">>> get_cubes(10)\n",
    "[0, 27, 216, 729]\n",
    "```\n",
    "\n",
    "[1 point]"
   ]
  },
  {
   "cell_type": "code",
   "execution_count": 3,
   "metadata": {
    "deletable": false,
    "nbgrader": {
     "checksum": "49dfba28a97039ff9749e439786a9af1",
     "grade": false,
     "grade_id": "cell-70c782eb764fa9f9",
     "locked": false,
     "schema_version": 1,
     "solution": true
    }
   },
   "outputs": [
    {
     "data": {
      "text/plain": [
       "[0, 27, 216, 729]"
      ]
     },
     "execution_count": 3,
     "metadata": {},
     "output_type": "execute_result"
    }
   ],
   "source": [
    "def get_cubes(x):\n",
    "    \"\"\"Returns list of cubes for numbers in range that are divisible by 3\"\"\"\n",
    "    output=[num**3 for num in range(0,x+1) if num%3==0]\n",
    "    \n",
    "    return output\n",
    "\n",
    "    raise NotImplementedError()\n",
    "get_cubes(10)"
   ]
  },
  {
   "cell_type": "code",
   "execution_count": 20,
   "metadata": {
    "deletable": false,
    "editable": false,
    "nbgrader": {
     "checksum": "2d89cebbb4dad7cad8e1525080964ecd",
     "grade": true,
     "grade_id": "cell-f25ee1a76203c90e",
     "locked": true,
     "points": 0,
     "schema_version": 1,
     "solution": false
    }
   },
   "outputs": [],
   "source": [
    "### BEGIN HIDDEN TESTS\n",
    "import sys\n",
    "import io\n",
    "import dis\n",
    "\n",
    "class IORedirect:\n",
    "    \"\"\"\n",
    "    For future tests\n",
    "    \"\"\"\n",
    "    def __init__(self):\n",
    "        self.old_stdout = sys.stdout\n",
    "        sys.stdout = self.stdout = io.StringIO()\n",
    "    def __enter__(self):\n",
    "        return self.stdout\n",
    "    def __exit__(self, *args, **kwargs):\n",
    "        sys.stdout = self.old_stdout\n",
    "        return\n",
    "### END HIDDEN TESTS "
   ]
  },
  {
   "cell_type": "code",
   "execution_count": 21,
   "metadata": {
    "deletable": false,
    "editable": false,
    "nbgrader": {
     "checksum": "64b1571cef74e3d8418ff231a3c6516b",
     "grade": true,
     "grade_id": "cell-7f2062eecdd55c4f",
     "locked": true,
     "points": 1,
     "schema_version": 1,
     "solution": false
    }
   },
   "outputs": [
    {
     "ename": "AssertionError",
     "evalue": "",
     "output_type": "error",
     "traceback": [
      "\u001b[1;31m---------------------------------------------------------------------------\u001b[0m",
      "\u001b[1;31mAssertionError\u001b[0m                            Traceback (most recent call last)",
      "\u001b[1;32m<ipython-input-21-b1a12da392c3>\u001b[0m in \u001b[0;36m<module>\u001b[1;34m()\u001b[0m\n\u001b[0;32m      5\u001b[0m \u001b[1;33m\u001b[0m\u001b[0m\n\u001b[0;32m      6\u001b[0m \u001b[1;32massert\u001b[0m \u001b[1;34m'<listcomp>'\u001b[0m \u001b[1;32min\u001b[0m \u001b[0mval\u001b[0m\u001b[1;33m.\u001b[0m\u001b[0mlower\u001b[0m\u001b[1;33m(\u001b[0m\u001b[1;33m)\u001b[0m  \u001b[1;31m# assert that function contains a list-comp\u001b[0m\u001b[1;33m\u001b[0m\u001b[0m\n\u001b[1;32m----> 7\u001b[1;33m \u001b[1;32massert\u001b[0m \u001b[0mget_cubes\u001b[0m\u001b[1;33m(\u001b[0m\u001b[1;36m30\u001b[0m\u001b[1;33m)\u001b[0m \u001b[1;33m==\u001b[0m \u001b[1;33m[\u001b[0m\u001b[1;36m0\u001b[0m\u001b[1;33m,\u001b[0m \u001b[1;36m27\u001b[0m\u001b[1;33m,\u001b[0m \u001b[1;36m216\u001b[0m\u001b[1;33m,\u001b[0m \u001b[1;36m729\u001b[0m\u001b[1;33m,\u001b[0m \u001b[1;36m1728\u001b[0m\u001b[1;33m,\u001b[0m \u001b[1;36m3375\u001b[0m\u001b[1;33m,\u001b[0m \u001b[1;36m5832\u001b[0m\u001b[1;33m,\u001b[0m \u001b[1;36m9261\u001b[0m\u001b[1;33m,\u001b[0m \u001b[1;36m13824\u001b[0m\u001b[1;33m,\u001b[0m \u001b[1;36m19683\u001b[0m\u001b[1;33m]\u001b[0m\u001b[1;33m\u001b[0m\u001b[0m\n\u001b[0m\u001b[0;32m      8\u001b[0m \u001b[1;31m### END HIDDEN TESTS\u001b[0m\u001b[1;33m\u001b[0m\u001b[1;33m\u001b[0m\u001b[0m\n",
      "\u001b[1;31mAssertionError\u001b[0m: "
     ]
    }
   ],
   "source": [
    "### BEGIN HIDDEN TESTS\n",
    "with IORedirect() as stdout:\n",
    "    dis.dis(get_cubes)\n",
    "    val = stdout.getvalue()\n",
    "\n",
    "assert '<listcomp>' in val.lower()  # assert that function contains a list-comp\n",
    "assert get_cubes(30) == [0, 27, 216, 729, 1728, 3375, 5832, 9261, 13824, 19683]\n",
    "### END HIDDEN TESTS"
   ]
  },
  {
   "cell_type": "markdown",
   "metadata": {},
   "source": [
    "---"
   ]
  },
  {
   "cell_type": "markdown",
   "metadata": {},
   "source": [
    "**Q**: The function calls `random.choice(string.ascii_lowercase)` return a random lowercased ASCII letter. Create a function `get_count` that returns the number of unique letters returned by `x` sequential calls to these functions. Your function should use a set comprehension.\n",
    "\n",
    "```python\n",
    ">>> get_count(10)\n",
    "8\n",
    ">>> get_count(10)\n",
    "7\n",
    ">>> get_count(10)\n",
    "9\n",
    ">>> get_count(7)\n",
    "5\n",
    "```\n",
    "\n",
    "[1 point]"
   ]
  },
  {
   "cell_type": "code",
   "execution_count": 22,
   "metadata": {
    "deletable": false,
    "nbgrader": {
     "checksum": "5c723850eebabcd9f5b6dfa78ca25c61",
     "grade": false,
     "grade_id": "cell-00e884959ab1fddd",
     "locked": false,
     "schema_version": 1,
     "solution": true
    }
   },
   "outputs": [
    {
     "data": {
      "text/plain": [
       "9"
      ]
     },
     "execution_count": 22,
     "metadata": {},
     "output_type": "execute_result"
    }
   ],
   "source": [
    "import string\n",
    "import random\n",
    "\n",
    "def get_count(x):\n",
    "    \"\"\"Returns the number of unique letters after calling function x times\"\"\"\n",
    "    letters_generated = ''\n",
    "    unique = []\n",
    "    \n",
    "    for i in range(x+1):\n",
    "        letter = random.choice(string.ascii_lowercase)\n",
    "        letters_generated+=letter\n",
    "      \n",
    "    for char in letters_generated:\n",
    "        if char not in unique:\n",
    "            unique.append(char)\n",
    "            \n",
    "    return len(unique)\n",
    "    \n",
    "    raise NotImplementedError()\n",
    "    \n",
    "get_count(10)"
   ]
  },
  {
   "cell_type": "code",
   "execution_count": 23,
   "metadata": {
    "deletable": false,
    "editable": false,
    "nbgrader": {
     "checksum": "ac8cdce464f700eac1b2ac945e15278f",
     "grade": true,
     "grade_id": "cell-06fffca9a7420049",
     "locked": true,
     "points": 1,
     "schema_version": 1,
     "solution": false
    }
   },
   "outputs": [
    {
     "ename": "AssertionError",
     "evalue": "",
     "output_type": "error",
     "traceback": [
      "\u001b[1;31m---------------------------------------------------------------------------\u001b[0m",
      "\u001b[1;31mAssertionError\u001b[0m                            Traceback (most recent call last)",
      "\u001b[1;32m<ipython-input-23-3c57d549ca8b>\u001b[0m in \u001b[0;36m<module>\u001b[1;34m()\u001b[0m\n\u001b[0;32m      4\u001b[0m     \u001b[0mval\u001b[0m \u001b[1;33m=\u001b[0m \u001b[0mstdout\u001b[0m\u001b[1;33m.\u001b[0m\u001b[0mgetvalue\u001b[0m\u001b[1;33m(\u001b[0m\u001b[1;33m)\u001b[0m\u001b[1;33m\u001b[0m\u001b[0m\n\u001b[0;32m      5\u001b[0m \u001b[1;33m\u001b[0m\u001b[0m\n\u001b[1;32m----> 6\u001b[1;33m \u001b[1;32massert\u001b[0m \u001b[1;34m'<setcomp>'\u001b[0m \u001b[1;32min\u001b[0m \u001b[0mval\u001b[0m\u001b[1;33m.\u001b[0m\u001b[0mlower\u001b[0m\u001b[1;33m(\u001b[0m\u001b[1;33m)\u001b[0m  \u001b[1;31m# assert that function contains a set-comp\u001b[0m\u001b[1;33m\u001b[0m\u001b[0m\n\u001b[0m\u001b[0;32m      7\u001b[0m \u001b[1;32mfor\u001b[0m \u001b[0mx\u001b[0m \u001b[1;32min\u001b[0m \u001b[0mrange\u001b[0m\u001b[1;33m(\u001b[0m\u001b[1;36m1\u001b[0m\u001b[1;33m,\u001b[0m \u001b[1;36m1000\u001b[0m\u001b[1;33m)\u001b[0m\u001b[1;33m:\u001b[0m\u001b[1;33m\u001b[0m\u001b[0m\n\u001b[0;32m      8\u001b[0m     \u001b[0mvalue\u001b[0m \u001b[1;33m=\u001b[0m \u001b[0mget_count\u001b[0m\u001b[1;33m(\u001b[0m\u001b[0mx\u001b[0m\u001b[1;33m)\u001b[0m\u001b[1;33m\u001b[0m\u001b[0m\n",
      "\u001b[1;31mAssertionError\u001b[0m: "
     ]
    }
   ],
   "source": [
    "### BEGIN HIDDEN TESTS\n",
    "with IORedirect() as stdout:\n",
    "    dis.dis(get_count)\n",
    "    val = stdout.getvalue()\n",
    "\n",
    "assert '<setcomp>' in val.lower()  # assert that function contains a set-comp\n",
    "for x in range(1, 1000):\n",
    "    value = get_count(x)\n",
    "    assert value <= x\n",
    "    assert 0 < value <= 26\n",
    "### END HIDDEN TESTS"
   ]
  },
  {
   "cell_type": "markdown",
   "metadata": {},
   "source": [
    "---"
   ]
  },
  {
   "cell_type": "markdown",
   "metadata": {},
   "source": [
    "**Q**: Create a function `get_debits` that takes a dictionary and returns a new dictionary were each key in the given dictionary is prefixed with \"debit\\_\" and each amount's value is multiplied by -1. The function should make use of a dictionary comprehension.\n",
    "\n",
    "\n",
    "```python\n",
    ">>> d = {'helicopter': 430, 'hanger': 75}\n",
    ">>> get_debits(d)\n",
    "{'debit_hanger': -75, 'debit_helicopter': -430}\n",
    "```\n",
    "\n",
    "[1 point]"
   ]
  },
  {
   "cell_type": "code",
   "execution_count": 24,
   "metadata": {
    "deletable": false,
    "nbgrader": {
     "checksum": "7aeffa7b872f7b0f04b9ab647650f744",
     "grade": false,
     "grade_id": "cell-225b03fcb668cf76",
     "locked": false,
     "schema_version": 1,
     "solution": true
    }
   },
   "outputs": [
    {
     "data": {
      "text/plain": [
       "{'debit_hanger': -75, 'debit_helicopter': -430}"
      ]
     },
     "execution_count": 24,
     "metadata": {},
     "output_type": "execute_result"
    }
   ],
   "source": [
    "def get_debits(d):\n",
    "    \"\"\"Returns dictionary of debits\"\"\"\n",
    "    output_dict={'debit_'+str(key):value*-1 for (key,value) in d.items()}\n",
    "    \n",
    "    return output_dict\n",
    "    \n",
    "    \n",
    "    raise NotImplementedError()\n",
    "\n",
    "d={'helicopter':430, 'hanger':75}\n",
    "get_debits(d)"
   ]
  },
  {
   "cell_type": "code",
   "execution_count": 25,
   "metadata": {
    "deletable": false,
    "editable": false,
    "nbgrader": {
     "checksum": "ea084d9329a76dab50aebb0d281e6a81",
     "grade": true,
     "grade_id": "cell-4ad3da6ea4b02b76",
     "locked": true,
     "points": 1,
     "schema_version": 1,
     "solution": false
    }
   },
   "outputs": [],
   "source": [
    "### BEGIN HIDDEN TESTS\n",
    "with IORedirect() as stdout:\n",
    "    dis.dis(get_debits)\n",
    "    val = stdout.getvalue()\n",
    "\n",
    "assert '<dictcomp>' in val.lower()  # assert that function contains a dict-comp\n",
    "assert get_debits({'jazz': 540}) == {'debit_jazz': -540}\n",
    "### END HIDDEN TESTS"
   ]
  },
  {
   "cell_type": "markdown",
   "metadata": {},
   "source": [
    "----"
   ]
  },
  {
   "cell_type": "markdown",
   "metadata": {},
   "source": [
    "**BONUS Q**: Create a function that returns a list that contains itself as its one and only element. [0 points]"
   ]
  },
  {
   "cell_type": "code",
   "execution_count": 26,
   "metadata": {
    "deletable": false,
    "nbgrader": {
     "checksum": "728769289933093a6b7b36c5d6ccdd47",
     "grade": false,
     "grade_id": "cell-3af2459c61b6c472",
     "locked": false,
     "schema_version": 1,
     "solution": true
    }
   },
   "outputs": [],
   "source": [
    "def itself():\n",
    "    # YOUR CODE HERE\n",
    "    raise NotImplementedError()"
   ]
  },
  {
   "cell_type": "code",
   "execution_count": 27,
   "metadata": {
    "deletable": false,
    "editable": false,
    "nbgrader": {
     "checksum": "86fa81c7417882c126e1b9d394373faf",
     "grade": true,
     "grade_id": "cell-6dbaa09e08641787",
     "locked": true,
     "points": 0,
     "schema_version": 1,
     "solution": false
    }
   },
   "outputs": [
    {
     "ename": "NotImplementedError",
     "evalue": "",
     "output_type": "error",
     "traceback": [
      "\u001b[1;31m---------------------------------------------------------------------------\u001b[0m",
      "\u001b[1;31mNotImplementedError\u001b[0m                       Traceback (most recent call last)",
      "\u001b[1;32m<ipython-input-27-e66084c87c51>\u001b[0m in \u001b[0;36m<module>\u001b[1;34m()\u001b[0m\n\u001b[1;32m----> 1\u001b[1;33m \u001b[0mlist_\u001b[0m \u001b[1;33m=\u001b[0m \u001b[0mitself\u001b[0m\u001b[1;33m(\u001b[0m\u001b[1;33m)\u001b[0m\u001b[1;33m\u001b[0m\u001b[0m\n\u001b[0m\u001b[0;32m      2\u001b[0m \u001b[1;32massert\u001b[0m \u001b[0mlist_\u001b[0m \u001b[1;32mis\u001b[0m \u001b[0mlist_\u001b[0m\u001b[1;33m[\u001b[0m\u001b[1;36m0\u001b[0m\u001b[1;33m]\u001b[0m\u001b[1;33m\u001b[0m\u001b[0m\n",
      "\u001b[1;32m<ipython-input-26-a99f93838142>\u001b[0m in \u001b[0;36mitself\u001b[1;34m()\u001b[0m\n\u001b[0;32m      1\u001b[0m \u001b[1;32mdef\u001b[0m \u001b[0mitself\u001b[0m\u001b[1;33m(\u001b[0m\u001b[1;33m)\u001b[0m\u001b[1;33m:\u001b[0m\u001b[1;33m\u001b[0m\u001b[0m\n\u001b[0;32m      2\u001b[0m     \u001b[1;31m# YOUR CODE HERE\u001b[0m\u001b[1;33m\u001b[0m\u001b[1;33m\u001b[0m\u001b[0m\n\u001b[1;32m----> 3\u001b[1;33m     \u001b[1;32mraise\u001b[0m \u001b[0mNotImplementedError\u001b[0m\u001b[1;33m(\u001b[0m\u001b[1;33m)\u001b[0m\u001b[1;33m\u001b[0m\u001b[0m\n\u001b[0m",
      "\u001b[1;31mNotImplementedError\u001b[0m: "
     ]
    }
   ],
   "source": [
    "list_ = itself()\n",
    "assert list_ is list_[0]"
   ]
  },
  {
   "cell_type": "markdown",
   "metadata": {},
   "source": [
    "---"
   ]
  },
  {
   "cell_type": "markdown",
   "metadata": {},
   "source": [
    "**BONUS Q**: Create a function that returns the first positive integer for which Python does not create a singleton. What about the negative integer closest to zero? [0 points]"
   ]
  },
  {
   "cell_type": "code",
   "execution_count": 28,
   "metadata": {
    "deletable": false,
    "nbgrader": {
     "checksum": "fb5e267fbb7efbd4f3f7c415c103c14b",
     "grade": false,
     "grade_id": "cell-6f599029a544dfcd",
     "locked": false,
     "schema_version": 1,
     "solution": true
    }
   },
   "outputs": [],
   "source": [
    "def first_non_singleton():\n",
    "    # YOUR CODE HERE\n",
    "    raise NotImplementedError()"
   ]
  },
  {
   "cell_type": "code",
   "execution_count": 29,
   "metadata": {
    "deletable": false,
    "editable": false,
    "nbgrader": {
     "checksum": "b73e3ff4558183701b2cf7a1c6bf7206",
     "grade": true,
     "grade_id": "cell-8a115bd7fb268cc5",
     "locked": true,
     "points": 0,
     "schema_version": 1,
     "solution": false
    }
   },
   "outputs": [
    {
     "ename": "NotImplementedError",
     "evalue": "",
     "output_type": "error",
     "traceback": [
      "\u001b[1;31m---------------------------------------------------------------------------\u001b[0m",
      "\u001b[1;31mNotImplementedError\u001b[0m                       Traceback (most recent call last)",
      "\u001b[1;32m<ipython-input-29-5c0a2d84cb65>\u001b[0m in \u001b[0;36m<module>\u001b[1;34m()\u001b[0m\n\u001b[0;32m      1\u001b[0m \u001b[1;31m### BEGIN HIDDEN TESTS\u001b[0m\u001b[1;33m\u001b[0m\u001b[1;33m\u001b[0m\u001b[0m\n\u001b[1;32m----> 2\u001b[1;33m \u001b[1;32massert\u001b[0m \u001b[0mfirst_non_singleton\u001b[0m\u001b[1;33m(\u001b[0m\u001b[1;33m)\u001b[0m \u001b[1;33m==\u001b[0m \u001b[1;36m257\u001b[0m\u001b[1;33m\u001b[0m\u001b[0m\n\u001b[0m\u001b[0;32m      3\u001b[0m \u001b[1;31m### END HIDDEN TESTS\u001b[0m\u001b[1;33m\u001b[0m\u001b[1;33m\u001b[0m\u001b[0m\n",
      "\u001b[1;32m<ipython-input-28-af63fa03ebd2>\u001b[0m in \u001b[0;36mfirst_non_singleton\u001b[1;34m()\u001b[0m\n\u001b[0;32m      1\u001b[0m \u001b[1;32mdef\u001b[0m \u001b[0mfirst_non_singleton\u001b[0m\u001b[1;33m(\u001b[0m\u001b[1;33m)\u001b[0m\u001b[1;33m:\u001b[0m\u001b[1;33m\u001b[0m\u001b[0m\n\u001b[0;32m      2\u001b[0m     \u001b[1;31m# YOUR CODE HERE\u001b[0m\u001b[1;33m\u001b[0m\u001b[1;33m\u001b[0m\u001b[0m\n\u001b[1;32m----> 3\u001b[1;33m     \u001b[1;32mraise\u001b[0m \u001b[0mNotImplementedError\u001b[0m\u001b[1;33m(\u001b[0m\u001b[1;33m)\u001b[0m\u001b[1;33m\u001b[0m\u001b[0m\n\u001b[0m",
      "\u001b[1;31mNotImplementedError\u001b[0m: "
     ]
    }
   ],
   "source": [
    "### BEGIN HIDDEN TESTS\n",
    "assert first_non_singleton() == 257\n",
    "### END HIDDEN TESTS"
   ]
  },
  {
   "cell_type": "code",
   "execution_count": 30,
   "metadata": {
    "deletable": false,
    "nbgrader": {
     "checksum": "9a706ab009e0d8ac2927270754f3310c",
     "grade": false,
     "grade_id": "cell-f5077f7c620f08cb",
     "locked": false,
     "schema_version": 1,
     "solution": true
    }
   },
   "outputs": [],
   "source": [
    "def last_negative_non_singleton():\n",
    "    # YOUR CODE HERE\n",
    "    raise NotImplementedError()"
   ]
  },
  {
   "cell_type": "code",
   "execution_count": 31,
   "metadata": {
    "deletable": false,
    "editable": false,
    "nbgrader": {
     "checksum": "c0a548c5808a417fc6459698a05f9eb7",
     "grade": true,
     "grade_id": "cell-4ea5e3cac5553b11",
     "locked": true,
     "points": 0,
     "schema_version": 1,
     "solution": false
    }
   },
   "outputs": [
    {
     "ename": "NotImplementedError",
     "evalue": "",
     "output_type": "error",
     "traceback": [
      "\u001b[1;31m---------------------------------------------------------------------------\u001b[0m",
      "\u001b[1;31mNotImplementedError\u001b[0m                       Traceback (most recent call last)",
      "\u001b[1;32m<ipython-input-31-66f741904835>\u001b[0m in \u001b[0;36m<module>\u001b[1;34m()\u001b[0m\n\u001b[0;32m      1\u001b[0m \u001b[1;31m### BEGIN HIDDEN TESTS\u001b[0m\u001b[1;33m\u001b[0m\u001b[1;33m\u001b[0m\u001b[0m\n\u001b[1;32m----> 2\u001b[1;33m \u001b[1;32massert\u001b[0m \u001b[0mlast_negative_non_singleton\u001b[0m\u001b[1;33m(\u001b[0m\u001b[1;33m)\u001b[0m \u001b[1;33m==\u001b[0m \u001b[1;33m-\u001b[0m\u001b[1;36m6\u001b[0m\u001b[1;33m\u001b[0m\u001b[0m\n\u001b[0m\u001b[0;32m      3\u001b[0m \u001b[1;31m### END HIDDEN TESTS\u001b[0m\u001b[1;33m\u001b[0m\u001b[1;33m\u001b[0m\u001b[0m\n",
      "\u001b[1;32m<ipython-input-30-f2b94c6cbc4a>\u001b[0m in \u001b[0;36mlast_negative_non_singleton\u001b[1;34m()\u001b[0m\n\u001b[0;32m      1\u001b[0m \u001b[1;32mdef\u001b[0m \u001b[0mlast_negative_non_singleton\u001b[0m\u001b[1;33m(\u001b[0m\u001b[1;33m)\u001b[0m\u001b[1;33m:\u001b[0m\u001b[1;33m\u001b[0m\u001b[0m\n\u001b[0;32m      2\u001b[0m     \u001b[1;31m# YOUR CODE HERE\u001b[0m\u001b[1;33m\u001b[0m\u001b[1;33m\u001b[0m\u001b[0m\n\u001b[1;32m----> 3\u001b[1;33m     \u001b[1;32mraise\u001b[0m \u001b[0mNotImplementedError\u001b[0m\u001b[1;33m(\u001b[0m\u001b[1;33m)\u001b[0m\u001b[1;33m\u001b[0m\u001b[0m\n\u001b[0m",
      "\u001b[1;31mNotImplementedError\u001b[0m: "
     ]
    }
   ],
   "source": [
    "### BEGIN HIDDEN TESTS\n",
    "assert last_negative_non_singleton() == -6\n",
    "### END HIDDEN TESTS"
   ]
  }
 ],
 "metadata": {
  "anaconda-cloud": {},
  "kernelspec": {
   "display_name": "Python 3",
   "language": "python",
   "name": "python3"
  },
  "language_info": {
   "codemirror_mode": {
    "name": "ipython",
    "version": 3
   },
   "file_extension": ".py",
   "mimetype": "text/x-python",
   "name": "python",
   "nbconvert_exporter": "python",
   "pygments_lexer": "ipython3",
   "version": "3.6.5"
  }
 },
 "nbformat": 4,
 "nbformat_minor": 2
}
