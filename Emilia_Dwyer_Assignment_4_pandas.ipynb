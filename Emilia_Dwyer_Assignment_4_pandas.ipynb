{
 "cells": [
  {
   "cell_type": "markdown",
   "metadata": {},
   "source": [
    "<h1>Numpy and Pandas Home Assignment</h1>\n",
    "In this assignment, we will use pandas and numpy to do some fairly basic analysis on equities."
   ]
  },
  {
   "cell_type": "markdown",
   "metadata": {},
   "source": [
    "<h3>Imports</h3>"
   ]
  },
  {
   "cell_type": "code",
   "execution_count": 1,
   "metadata": {},
   "outputs": [],
   "source": [
    "import datetime\n",
    "import numpy as np\n",
    "import pandas as pd\n",
    "%matplotlib inline\n",
    "from pandas_datareader import data as web\n",
    "import fix_yahoo_finance as yf"
   ]
  },
  {
   "cell_type": "markdown",
   "metadata": {},
   "source": [
    "<h3>Get data on the following four stocks from yahoo finance</h3>\n",
    "<li>MS, GS, JPM, C\n",
    "<li>Use the date range 2013/1/1/ to 2018/9/24"
   ]
  },
  {
   "cell_type": "code",
   "execution_count": 2,
   "metadata": {},
   "outputs": [
    {
     "data": {
      "text/html": [
       "<div>\n",
       "<style scoped>\n",
       "    .dataframe tbody tr th:only-of-type {\n",
       "        vertical-align: middle;\n",
       "    }\n",
       "\n",
       "    .dataframe tbody tr th {\n",
       "        vertical-align: top;\n",
       "    }\n",
       "\n",
       "    .dataframe thead th {\n",
       "        text-align: right;\n",
       "    }\n",
       "</style>\n",
       "<table border=\"1\" class=\"dataframe\">\n",
       "  <thead>\n",
       "    <tr style=\"text-align: right;\">\n",
       "      <th>Symbols</th>\n",
       "      <th>C</th>\n",
       "      <th>GS</th>\n",
       "      <th>JPM</th>\n",
       "      <th>MS</th>\n",
       "    </tr>\n",
       "    <tr>\n",
       "      <th>Date</th>\n",
       "      <th></th>\n",
       "      <th></th>\n",
       "      <th></th>\n",
       "      <th></th>\n",
       "    </tr>\n",
       "  </thead>\n",
       "  <tbody>\n",
       "    <tr>\n",
       "      <th>2013-01-02</th>\n",
       "      <td>41.250000</td>\n",
       "      <td>131.660004</td>\n",
       "      <td>44.660000</td>\n",
       "      <td>19.620001</td>\n",
       "    </tr>\n",
       "    <tr>\n",
       "      <th>2013-01-03</th>\n",
       "      <td>41.389999</td>\n",
       "      <td>130.940002</td>\n",
       "      <td>44.570000</td>\n",
       "      <td>19.580000</td>\n",
       "    </tr>\n",
       "    <tr>\n",
       "      <th>2013-01-04</th>\n",
       "      <td>42.430000</td>\n",
       "      <td>134.509995</td>\n",
       "      <td>45.360001</td>\n",
       "      <td>20.190001</td>\n",
       "    </tr>\n",
       "    <tr>\n",
       "      <th>2013-01-07</th>\n",
       "      <td>42.470001</td>\n",
       "      <td>134.259995</td>\n",
       "      <td>45.410000</td>\n",
       "      <td>19.799999</td>\n",
       "    </tr>\n",
       "    <tr>\n",
       "      <th>2013-01-08</th>\n",
       "      <td>42.459999</td>\n",
       "      <td>133.050003</td>\n",
       "      <td>45.500000</td>\n",
       "      <td>19.650000</td>\n",
       "    </tr>\n",
       "  </tbody>\n",
       "</table>\n",
       "</div>"
      ],
      "text/plain": [
       "Symbols             C          GS        JPM         MS\n",
       "Date                                                   \n",
       "2013-01-02  41.250000  131.660004  44.660000  19.620001\n",
       "2013-01-03  41.389999  130.940002  44.570000  19.580000\n",
       "2013-01-04  42.430000  134.509995  45.360001  20.190001\n",
       "2013-01-07  42.470001  134.259995  45.410000  19.799999\n",
       "2013-01-08  42.459999  133.050003  45.500000  19.650000"
      ]
     },
     "execution_count": 2,
     "metadata": {},
     "output_type": "execute_result"
    }
   ],
   "source": [
    "start = datetime.datetime(2013, 1, 1)\n",
    "end = datetime.datetime(2018,9,24)\n",
    "tickers_df = web.get_data_yahoo([\"MS\",\"GS\",\"JPM\",\"C\"],start,end)\n",
    "tickers_df = pd.DataFrame(tickers_df['Close'])\n",
    "tickers_df.head()"
   ]
  },
  {
   "cell_type": "markdown",
   "metadata": {},
   "source": [
    "<h3>Compute the cross correlation coefficients on the stocks</h3>\n",
    "<li>Create a df 'rets' with the one day percentage changes\n",
    "<li>Calculate cross correlations on the rets df"
   ]
  },
  {
   "cell_type": "code",
   "execution_count": 3,
   "metadata": {},
   "outputs": [
    {
     "data": {
      "text/html": [
       "<div>\n",
       "<style scoped>\n",
       "    .dataframe tbody tr th:only-of-type {\n",
       "        vertical-align: middle;\n",
       "    }\n",
       "\n",
       "    .dataframe tbody tr th {\n",
       "        vertical-align: top;\n",
       "    }\n",
       "\n",
       "    .dataframe thead th {\n",
       "        text-align: right;\n",
       "    }\n",
       "</style>\n",
       "<table border=\"1\" class=\"dataframe\">\n",
       "  <thead>\n",
       "    <tr style=\"text-align: right;\">\n",
       "      <th>Symbols</th>\n",
       "      <th>C</th>\n",
       "      <th>GS</th>\n",
       "      <th>JPM</th>\n",
       "      <th>MS</th>\n",
       "    </tr>\n",
       "    <tr>\n",
       "      <th>Symbols</th>\n",
       "      <th></th>\n",
       "      <th></th>\n",
       "      <th></th>\n",
       "      <th></th>\n",
       "    </tr>\n",
       "  </thead>\n",
       "  <tbody>\n",
       "    <tr>\n",
       "      <th>C</th>\n",
       "      <td>1.000000</td>\n",
       "      <td>0.792072</td>\n",
       "      <td>0.849616</td>\n",
       "      <td>0.809965</td>\n",
       "    </tr>\n",
       "    <tr>\n",
       "      <th>GS</th>\n",
       "      <td>0.792072</td>\n",
       "      <td>1.000000</td>\n",
       "      <td>0.813291</td>\n",
       "      <td>0.844330</td>\n",
       "    </tr>\n",
       "    <tr>\n",
       "      <th>JPM</th>\n",
       "      <td>0.849616</td>\n",
       "      <td>0.813291</td>\n",
       "      <td>1.000000</td>\n",
       "      <td>0.801243</td>\n",
       "    </tr>\n",
       "    <tr>\n",
       "      <th>MS</th>\n",
       "      <td>0.809965</td>\n",
       "      <td>0.844330</td>\n",
       "      <td>0.801243</td>\n",
       "      <td>1.000000</td>\n",
       "    </tr>\n",
       "  </tbody>\n",
       "</table>\n",
       "</div>"
      ],
      "text/plain": [
       "Symbols         C        GS       JPM        MS\n",
       "Symbols                                        \n",
       "C        1.000000  0.792072  0.849616  0.809965\n",
       "GS       0.792072  1.000000  0.813291  0.844330\n",
       "JPM      0.849616  0.813291  1.000000  0.801243\n",
       "MS       0.809965  0.844330  0.801243  1.000000"
      ]
     },
     "execution_count": 3,
     "metadata": {},
     "output_type": "execute_result"
    }
   ],
   "source": [
    "rets = tickers_df.pct_change()\n",
    "rets_corr = rets.corr()\n",
    "rets_corr.head()"
   ]
  },
  {
   "cell_type": "markdown",
   "metadata": {},
   "source": [
    "<h3>Select a pair of stocks to trade</h3>\n",
    "<li>Choose the pair with the highest correlation\n",
    "<li>You can just eyeball the result and pick the highest correlation pairs\n",
    "<li>Create a new df 'pairs' with the returns columns of the highest correlation pairs"
   ]
  },
  {
   "cell_type": "code",
   "execution_count": 4,
   "metadata": {},
   "outputs": [
    {
     "data": {
      "text/html": [
       "<div>\n",
       "<style scoped>\n",
       "    .dataframe tbody tr th:only-of-type {\n",
       "        vertical-align: middle;\n",
       "    }\n",
       "\n",
       "    .dataframe tbody tr th {\n",
       "        vertical-align: top;\n",
       "    }\n",
       "\n",
       "    .dataframe thead th {\n",
       "        text-align: right;\n",
       "    }\n",
       "</style>\n",
       "<table border=\"1\" class=\"dataframe\">\n",
       "  <thead>\n",
       "    <tr style=\"text-align: right;\">\n",
       "      <th>Symbols</th>\n",
       "      <th>JPM</th>\n",
       "      <th>C</th>\n",
       "    </tr>\n",
       "    <tr>\n",
       "      <th>Date</th>\n",
       "      <th></th>\n",
       "      <th></th>\n",
       "    </tr>\n",
       "  </thead>\n",
       "  <tbody>\n",
       "    <tr>\n",
       "      <th>2013-01-02</th>\n",
       "      <td>NaN</td>\n",
       "      <td>NaN</td>\n",
       "    </tr>\n",
       "    <tr>\n",
       "      <th>2013-01-03</th>\n",
       "      <td>-0.002015</td>\n",
       "      <td>0.003394</td>\n",
       "    </tr>\n",
       "    <tr>\n",
       "      <th>2013-01-04</th>\n",
       "      <td>0.017725</td>\n",
       "      <td>0.025127</td>\n",
       "    </tr>\n",
       "    <tr>\n",
       "      <th>2013-01-07</th>\n",
       "      <td>0.001102</td>\n",
       "      <td>0.000943</td>\n",
       "    </tr>\n",
       "    <tr>\n",
       "      <th>2013-01-08</th>\n",
       "      <td>0.001982</td>\n",
       "      <td>-0.000236</td>\n",
       "    </tr>\n",
       "  </tbody>\n",
       "</table>\n",
       "</div>"
      ],
      "text/plain": [
       "Symbols          JPM         C\n",
       "Date                          \n",
       "2013-01-02       NaN       NaN\n",
       "2013-01-03 -0.002015  0.003394\n",
       "2013-01-04  0.017725  0.025127\n",
       "2013-01-07  0.001102  0.000943\n",
       "2013-01-08  0.001982 -0.000236"
      ]
     },
     "execution_count": 4,
     "metadata": {},
     "output_type": "execute_result"
    }
   ],
   "source": [
    "pairs = rets[['JPM','C']]\n",
    "pairs.head()"
   ]
  },
  {
   "cell_type": "markdown",
   "metadata": {},
   "source": [
    "<h3>Calculate the mean and std dev of the columns (returns of the two stocks)</h3>\n",
    "<li>Note that line 1 contains a NaN. You'll have to get rid of this line\n",
    "<li>df.describe() returns summary stats for all cols in a dataframe. You can use this to extract means and standard deviations"
   ]
  },
  {
   "cell_type": "code",
   "execution_count": 5,
   "metadata": {},
   "outputs": [
    {
     "data": {
      "text/html": [
       "<div>\n",
       "<style scoped>\n",
       "    .dataframe tbody tr th:only-of-type {\n",
       "        vertical-align: middle;\n",
       "    }\n",
       "\n",
       "    .dataframe tbody tr th {\n",
       "        vertical-align: top;\n",
       "    }\n",
       "\n",
       "    .dataframe thead th {\n",
       "        text-align: right;\n",
       "    }\n",
       "</style>\n",
       "<table border=\"1\" class=\"dataframe\">\n",
       "  <thead>\n",
       "    <tr style=\"text-align: right;\">\n",
       "      <th>Symbols</th>\n",
       "      <th>C</th>\n",
       "      <th>JPM</th>\n",
       "    </tr>\n",
       "  </thead>\n",
       "  <tbody>\n",
       "    <tr>\n",
       "      <th>count</th>\n",
       "      <td>1442.000000</td>\n",
       "      <td>1442.000000</td>\n",
       "    </tr>\n",
       "    <tr>\n",
       "      <th>mean</th>\n",
       "      <td>0.000514</td>\n",
       "      <td>0.000749</td>\n",
       "    </tr>\n",
       "    <tr>\n",
       "      <th>std</th>\n",
       "      <td>0.014853</td>\n",
       "      <td>0.012829</td>\n",
       "    </tr>\n",
       "    <tr>\n",
       "      <th>min</th>\n",
       "      <td>-0.093567</td>\n",
       "      <td>-0.069477</td>\n",
       "    </tr>\n",
       "    <tr>\n",
       "      <th>25%</th>\n",
       "      <td>-0.007238</td>\n",
       "      <td>-0.005664</td>\n",
       "    </tr>\n",
       "    <tr>\n",
       "      <th>50%</th>\n",
       "      <td>0.000384</td>\n",
       "      <td>0.000488</td>\n",
       "    </tr>\n",
       "    <tr>\n",
       "      <th>75%</th>\n",
       "      <td>0.008250</td>\n",
       "      <td>0.007658</td>\n",
       "    </tr>\n",
       "    <tr>\n",
       "      <th>max</th>\n",
       "      <td>0.073185</td>\n",
       "      <td>0.083286</td>\n",
       "    </tr>\n",
       "  </tbody>\n",
       "</table>\n",
       "</div>"
      ],
      "text/plain": [
       "Symbols            C          JPM\n",
       "count    1442.000000  1442.000000\n",
       "mean        0.000514     0.000749\n",
       "std         0.014853     0.012829\n",
       "min        -0.093567    -0.069477\n",
       "25%        -0.007238    -0.005664\n",
       "50%         0.000384     0.000488\n",
       "75%         0.008250     0.007658\n",
       "max         0.073185     0.083286"
      ]
     },
     "execution_count": 5,
     "metadata": {},
     "output_type": "execute_result"
    }
   ],
   "source": [
    "new_df = rets[['C','JPM']].iloc[1:-1]\n",
    "c_std = new_df.describe()['C']['std']\n",
    "j_std = new_df.describe()['JPM']['std']\n",
    "c_mean = new_df.describe()['C']['mean']\n",
    "j_mean = new_df.describe()['JPM']['mean']\n",
    "new_df.describe()"
   ]
  },
  {
   "cell_type": "markdown",
   "metadata": {},
   "source": [
    "<h3>Create a new column \"Long_JPM_Short_C\"</h3>\n",
    "<li>If the return of C is greater than its mean + 0.25* std\n",
    "<li> AND\n",
    "<li>If the return of JPM is less than its mean - 0.25*std\n",
    "<li>The value in this col should be True or False"
   ]
  },
  {
   "cell_type": "code",
   "execution_count": 7,
   "metadata": {},
   "outputs": [
    {
     "data": {
      "text/html": [
       "<div>\n",
       "<style scoped>\n",
       "    .dataframe tbody tr th:only-of-type {\n",
       "        vertical-align: middle;\n",
       "    }\n",
       "\n",
       "    .dataframe tbody tr th {\n",
       "        vertical-align: top;\n",
       "    }\n",
       "\n",
       "    .dataframe thead th {\n",
       "        text-align: right;\n",
       "    }\n",
       "</style>\n",
       "<table border=\"1\" class=\"dataframe\">\n",
       "  <thead>\n",
       "    <tr style=\"text-align: right;\">\n",
       "      <th>Symbols</th>\n",
       "      <th>C</th>\n",
       "      <th>JPM</th>\n",
       "      <th>Long_JPM_Short_C</th>\n",
       "    </tr>\n",
       "    <tr>\n",
       "      <th>Date</th>\n",
       "      <th></th>\n",
       "      <th></th>\n",
       "      <th></th>\n",
       "    </tr>\n",
       "  </thead>\n",
       "  <tbody>\n",
       "    <tr>\n",
       "      <th>2013-01-03</th>\n",
       "      <td>0.003394</td>\n",
       "      <td>-0.002015</td>\n",
       "      <td>False</td>\n",
       "    </tr>\n",
       "    <tr>\n",
       "      <th>2013-01-04</th>\n",
       "      <td>0.025127</td>\n",
       "      <td>0.017725</td>\n",
       "      <td>False</td>\n",
       "    </tr>\n",
       "    <tr>\n",
       "      <th>2013-01-07</th>\n",
       "      <td>0.000943</td>\n",
       "      <td>0.001102</td>\n",
       "      <td>False</td>\n",
       "    </tr>\n",
       "    <tr>\n",
       "      <th>2013-01-08</th>\n",
       "      <td>-0.000236</td>\n",
       "      <td>0.001982</td>\n",
       "      <td>False</td>\n",
       "    </tr>\n",
       "    <tr>\n",
       "      <th>2013-01-09</th>\n",
       "      <td>-0.009892</td>\n",
       "      <td>-0.000659</td>\n",
       "      <td>False</td>\n",
       "    </tr>\n",
       "  </tbody>\n",
       "</table>\n",
       "</div>"
      ],
      "text/plain": [
       "Symbols            C       JPM  Long_JPM_Short_C\n",
       "Date                                            \n",
       "2013-01-03  0.003394 -0.002015             False\n",
       "2013-01-04  0.025127  0.017725             False\n",
       "2013-01-07  0.000943  0.001102             False\n",
       "2013-01-08 -0.000236  0.001982             False\n",
       "2013-01-09 -0.009892 -0.000659             False"
      ]
     },
     "execution_count": 7,
     "metadata": {},
     "output_type": "execute_result"
    }
   ],
   "source": [
    "a = c_mean+(c_std*0.25)\n",
    "b = j_mean-(j_std*0.25)\n",
    "new_df['Long_JPM_Short_C'] = np.where((new_df['C']>a) & (new_df['JPM']<b),True,False)\n",
    "new_df.head()"
   ]
  },
  {
   "cell_type": "markdown",
   "metadata": {},
   "source": [
    "<h3>Create a new column \"Long_C_Short_JPM\"</h3>\n",
    "<li>If the return of JPM is greater than its mean + 0.25* std\n",
    "<li> AND\n",
    "<li>If the return of C is less than its mean - 0.25*std\n",
    "<li>The value in this col should be True or False"
   ]
  },
  {
   "cell_type": "code",
   "execution_count": 8,
   "metadata": {},
   "outputs": [
    {
     "data": {
      "text/html": [
       "<div>\n",
       "<style scoped>\n",
       "    .dataframe tbody tr th:only-of-type {\n",
       "        vertical-align: middle;\n",
       "    }\n",
       "\n",
       "    .dataframe tbody tr th {\n",
       "        vertical-align: top;\n",
       "    }\n",
       "\n",
       "    .dataframe thead th {\n",
       "        text-align: right;\n",
       "    }\n",
       "</style>\n",
       "<table border=\"1\" class=\"dataframe\">\n",
       "  <thead>\n",
       "    <tr style=\"text-align: right;\">\n",
       "      <th>Symbols</th>\n",
       "      <th>C</th>\n",
       "      <th>JPM</th>\n",
       "      <th>Long_JPM_Short_C</th>\n",
       "      <th>Long_C_Short_JPM</th>\n",
       "    </tr>\n",
       "    <tr>\n",
       "      <th>Date</th>\n",
       "      <th></th>\n",
       "      <th></th>\n",
       "      <th></th>\n",
       "      <th></th>\n",
       "    </tr>\n",
       "  </thead>\n",
       "  <tbody>\n",
       "    <tr>\n",
       "      <th>2013-01-03</th>\n",
       "      <td>0.003394</td>\n",
       "      <td>-0.002015</td>\n",
       "      <td>False</td>\n",
       "      <td>False</td>\n",
       "    </tr>\n",
       "    <tr>\n",
       "      <th>2013-01-04</th>\n",
       "      <td>0.025127</td>\n",
       "      <td>0.017725</td>\n",
       "      <td>False</td>\n",
       "      <td>False</td>\n",
       "    </tr>\n",
       "    <tr>\n",
       "      <th>2013-01-07</th>\n",
       "      <td>0.000943</td>\n",
       "      <td>0.001102</td>\n",
       "      <td>False</td>\n",
       "      <td>False</td>\n",
       "    </tr>\n",
       "    <tr>\n",
       "      <th>2013-01-08</th>\n",
       "      <td>-0.000236</td>\n",
       "      <td>0.001982</td>\n",
       "      <td>False</td>\n",
       "      <td>False</td>\n",
       "    </tr>\n",
       "    <tr>\n",
       "      <th>2013-01-09</th>\n",
       "      <td>-0.009892</td>\n",
       "      <td>-0.000659</td>\n",
       "      <td>False</td>\n",
       "      <td>False</td>\n",
       "    </tr>\n",
       "  </tbody>\n",
       "</table>\n",
       "</div>"
      ],
      "text/plain": [
       "Symbols            C       JPM  Long_JPM_Short_C  Long_C_Short_JPM\n",
       "Date                                                              \n",
       "2013-01-03  0.003394 -0.002015             False             False\n",
       "2013-01-04  0.025127  0.017725             False             False\n",
       "2013-01-07  0.000943  0.001102             False             False\n",
       "2013-01-08 -0.000236  0.001982             False             False\n",
       "2013-01-09 -0.009892 -0.000659             False             False"
      ]
     },
     "execution_count": 8,
     "metadata": {},
     "output_type": "execute_result"
    }
   ],
   "source": [
    "x = j_mean+(0.25*j_std)\n",
    "z = c_mean-(0.25*c_std)\n",
    "new_df['Long_C_Short_JPM'] = np.where((new_df['JPM']>x)&(new_df['C']<z),True, False)\n",
    "new_df.head()"
   ]
  },
  {
   "cell_type": "markdown",
   "metadata": {},
   "source": [
    "<h3>Create a new column \"Trade_return\"</h3>\n",
    "<li>If Long_JPM_Short_C is True and Long_C_Short_JPM is False, the value of this column should be the return on JPM minus the return on C\n",
    "<li>If Long_JPM_Short_C is False and Long_C_Short_JPM is True, the value of this column should be the return on C minus the return on JPM\n",
    "<li>Otherwise the value should be zero"
   ]
  },
  {
   "cell_type": "code",
   "execution_count": 9,
   "metadata": {},
   "outputs": [
    {
     "data": {
      "text/html": [
       "<div>\n",
       "<style scoped>\n",
       "    .dataframe tbody tr th:only-of-type {\n",
       "        vertical-align: middle;\n",
       "    }\n",
       "\n",
       "    .dataframe tbody tr th {\n",
       "        vertical-align: top;\n",
       "    }\n",
       "\n",
       "    .dataframe thead th {\n",
       "        text-align: right;\n",
       "    }\n",
       "</style>\n",
       "<table border=\"1\" class=\"dataframe\">\n",
       "  <thead>\n",
       "    <tr style=\"text-align: right;\">\n",
       "      <th>Symbols</th>\n",
       "      <th>C</th>\n",
       "      <th>JPM</th>\n",
       "      <th>Trade_return</th>\n",
       "    </tr>\n",
       "  </thead>\n",
       "  <tbody>\n",
       "    <tr>\n",
       "      <th>count</th>\n",
       "      <td>1442.000000</td>\n",
       "      <td>1442.000000</td>\n",
       "      <td>1442.000000</td>\n",
       "    </tr>\n",
       "    <tr>\n",
       "      <th>mean</th>\n",
       "      <td>0.000514</td>\n",
       "      <td>0.000749</td>\n",
       "      <td>-0.000471</td>\n",
       "    </tr>\n",
       "    <tr>\n",
       "      <th>std</th>\n",
       "      <td>0.014853</td>\n",
       "      <td>0.012829</td>\n",
       "      <td>0.003246</td>\n",
       "    </tr>\n",
       "    <tr>\n",
       "      <th>min</th>\n",
       "      <td>-0.093567</td>\n",
       "      <td>-0.069477</td>\n",
       "      <td>-0.049712</td>\n",
       "    </tr>\n",
       "    <tr>\n",
       "      <th>25%</th>\n",
       "      <td>-0.007238</td>\n",
       "      <td>-0.005664</td>\n",
       "      <td>0.000000</td>\n",
       "    </tr>\n",
       "    <tr>\n",
       "      <th>50%</th>\n",
       "      <td>0.000384</td>\n",
       "      <td>0.000488</td>\n",
       "      <td>0.000000</td>\n",
       "    </tr>\n",
       "    <tr>\n",
       "      <th>75%</th>\n",
       "      <td>0.008250</td>\n",
       "      <td>0.007658</td>\n",
       "      <td>0.000000</td>\n",
       "    </tr>\n",
       "    <tr>\n",
       "      <th>max</th>\n",
       "      <td>0.073185</td>\n",
       "      <td>0.083286</td>\n",
       "      <td>0.000000</td>\n",
       "    </tr>\n",
       "  </tbody>\n",
       "</table>\n",
       "</div>"
      ],
      "text/plain": [
       "Symbols            C          JPM  Trade_return\n",
       "count    1442.000000  1442.000000   1442.000000\n",
       "mean        0.000514     0.000749     -0.000471\n",
       "std         0.014853     0.012829      0.003246\n",
       "min        -0.093567    -0.069477     -0.049712\n",
       "25%        -0.007238    -0.005664      0.000000\n",
       "50%         0.000384     0.000488      0.000000\n",
       "75%         0.008250     0.007658      0.000000\n",
       "max         0.073185     0.083286      0.000000"
      ]
     },
     "execution_count": 9,
     "metadata": {},
     "output_type": "execute_result"
    }
   ],
   "source": [
    "k = rets['JPM'].fillna(0)\n",
    "m = rets['C'].fillna(0)\n",
    "\n",
    "new_df['Trade_return'] = 0\n",
    "new_df.loc[((new_df['Long_JPM_Short_C']==True)&(new_df['Long_C_Short_JPM']==False)),'Trade_return']=k-m\n",
    "new_df.loc[((new_df['Long_JPM_Short_C']==False)&(new_df['Long_C_Short_JPM']==True)),'Trade_return']=m-k\n",
    "new_df.describe()"
   ]
  },
  {
   "cell_type": "markdown",
   "metadata": {},
   "source": [
    "<h3>Calculate the sum of this new column</h3>\n",
    "<li>Are you going to get rich?"
   ]
  },
  {
   "cell_type": "code",
   "execution_count": 10,
   "metadata": {},
   "outputs": [
    {
     "name": "stdout",
     "output_type": "stream",
     "text": [
      "-0.6793516982785628\n"
     ]
    }
   ],
   "source": [
    "Total = sum(new_df['Trade_return'])\n",
    "print(Total)"
   ]
  },
  {
   "cell_type": "markdown",
   "metadata": {},
   "source": [
    "Nope, no riches (negative return). I will stay in school."
   ]
  }
 ],
 "metadata": {
  "kernelspec": {
   "display_name": "Python 3",
   "language": "python",
   "name": "python3"
  },
  "language_info": {
   "codemirror_mode": {
    "name": "ipython",
    "version": 3
   },
   "file_extension": ".py",
   "mimetype": "text/x-python",
   "name": "python",
   "nbconvert_exporter": "python",
   "pygments_lexer": "ipython3",
   "version": "3.6.5"
  }
 },
 "nbformat": 4,
 "nbformat_minor": 2
}
