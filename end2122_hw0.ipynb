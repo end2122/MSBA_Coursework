{
 "cells": [
  {
   "cell_type": "markdown",
   "metadata": {
    "deletable": false,
    "editable": false,
    "nbgrader": {
     "checksum": "2a6f4b384205bf0ef6e4bb239e985bb2",
     "grade": false,
     "grade_id": "cell-21d541173a56afed",
     "locked": true,
     "schema_version": 1,
     "solution": false
    }
   },
   "source": [
    "# Problem Set for Python Videos\n",
    "\n",
    "Both video series should be viewed before starting this problem set.\n",
    "\n",
    "This problem set is meant to be rather challenging. This problem set is meant to stretch your skills so you are ready for the first day of class. Do not get discouraged if you can not complete all of the problem set, just do what you can and that will be sufficient. The assert cells after each problem can be used to test your solution.\n",
    "\n",
    "Although this problem set is ungraded, please submit it on courseworks as HW0 for our review. \n",
    "\n",
    "Finally, please complete the following short survey after you have completed this problem set: https://goo.gl/forms/Fi4QxauZU4RXVVX62"
   ]
  },
  {
   "cell_type": "markdown",
   "metadata": {},
   "source": [
    "---"
   ]
  },
  {
   "cell_type": "markdown",
   "metadata": {
    "deletable": false,
    "editable": false,
    "nbgrader": {
     "checksum": "f177e99f9b04bb7c06582663bd633398",
     "grade": false,
     "grade_id": "q1",
     "locked": true,
     "schema_version": 1,
     "solution": false
    }
   },
   "source": [
    "The integers above zero and below 10 that are multiples of 3 or 7 are 3, 6, 7, 9. The product of these numbers is 1134.\n",
    "\n",
    "Write a function named `sparse_factorial` to find the product of all integers above zero and below `x` that are multiples of 3 or 7."
   ]
  },
  {
   "cell_type": "code",
   "execution_count": null,
   "metadata": {
    "deletable": false,
    "nbgrader": {
     "checksum": "f7b8030d608765135ee00c86c2ae5303",
     "grade": false,
     "grade_id": "q1-solution",
     "locked": false,
     "schema_version": 1,
     "solution": true
    }
   },
   "outputs": [],
   "source": [
    "def sparse_factorial(x):\n",
    "    # YOUR CODE HERE\n",
    "    product = 1\n",
    "    for num in range(1,x+1):\n",
    "        if (num%3==0 or num%7==0):\n",
    "            product=product*num\n",
    "    return product\n",
    "    print(product)\n",
    "    # raise NotImplementedError()"
   ]
  },
  {
   "cell_type": "code",
   "execution_count": null,
   "metadata": {
    "deletable": false,
    "editable": false,
    "nbgrader": {
     "checksum": "936df4a3405814f10c19b7a47791d16a",
     "grade": true,
     "grade_id": "q1-tests",
     "locked": true,
     "points": 1,
     "schema_version": 1,
     "solution": false
    }
   },
   "outputs": [],
   "source": [
    "assert sparse_factorial(10) == 1134\n",
    "assert sparse_factorial(50) == 4238458163289827194798080000"
   ]
  },
  {
   "cell_type": "markdown",
   "metadata": {},
   "source": [
    "---"
   ]
  },
  {
   "cell_type": "markdown",
   "metadata": {
    "deletable": false,
    "editable": false,
    "nbgrader": {
     "checksum": "e583b863a67f8e7393dd0c0b584af5d3",
     "grade": false,
     "grade_id": "q2",
     "locked": true,
     "schema_version": 1,
     "solution": false
    }
   },
   "source": [
    "A palindromic number reads the same both ways. For example, 909 and 4321234. Write a function to determine if a number is palindromic. The function should be called `is_palindromic` and should return `True` or `False`."
   ]
  },
  {
   "cell_type": "code",
   "execution_count": null,
   "metadata": {
    "deletable": false,
    "nbgrader": {
     "checksum": "7eec81c219c7d36bad60a0aa54f99a00",
     "grade": false,
     "grade_id": "q2-solution",
     "locked": false,
     "schema_version": 1,
     "solution": true
    }
   },
   "outputs": [],
   "source": [
    "def is_palindromic(x):\n",
    "    # YOUR CODE HERE\n",
    "    if str(x) == str(x)[::-1]:\n",
    "        return True\n",
    "    else:\n",
    "        return False   \n",
    "    \n",
    "   # raise NotImplementedError()"
   ]
  },
  {
   "cell_type": "code",
   "execution_count": null,
   "metadata": {
    "deletable": false,
    "editable": false,
    "nbgrader": {
     "checksum": "fbf45335b324fe2545424427a434122d",
     "grade": true,
     "grade_id": "q2-tests",
     "locked": true,
     "points": 1,
     "schema_version": 1,
     "solution": false
    }
   },
   "outputs": [],
   "source": [
    "assert not is_palindromic(10003)\n",
    "assert is_palindromic(4321234)"
   ]
  },
  {
   "cell_type": "markdown",
   "metadata": {},
   "source": [
    "---"
   ]
  },
  {
   "cell_type": "markdown",
   "metadata": {
    "deletable": false,
    "editable": false,
    "nbgrader": {
     "checksum": "e3f2c11b2b2848d6a022e4fc17b14dbb",
     "grade": false,
     "grade_id": "q3",
     "locked": true,
     "schema_version": 1,
     "solution": false
    }
   },
   "source": [
    "Write a function named `is_sorted`. This function should take an iterable and should return True if all items in the iterable are sorted in order from smallest to largest. Hint: you can represent infinity with `float(\"inf\")` in Python."
   ]
  },
  {
   "cell_type": "code",
   "execution_count": null,
   "metadata": {
    "deletable": false,
    "nbgrader": {
     "checksum": "4c3a2d2e553817fd6573aa32f1d6ab5b",
     "grade": false,
     "grade_id": "cell-52b7096ac1df7300",
     "locked": false,
     "schema_version": 1,
     "solution": true
    }
   },
   "outputs": [],
   "source": [
    "def is_sorted(iterable):\n",
    "    # YOUR CODE HERE\n",
    "    m = iterable.sort()\n",
    "    if iterable == m:\n",
    "        return True\n",
    "    else:\n",
    "        return False\n",
    "    #raise NotImplementedError()"
   ]
  },
  {
   "cell_type": "code",
   "execution_count": null,
   "metadata": {
    "deletable": false,
    "editable": false,
    "nbgrader": {
     "checksum": "66438c4e8130b559b350a7cc939cdeb5",
     "grade": true,
     "grade_id": "cell-153652db4189a98e",
     "locked": true,
     "points": 1,
     "schema_version": 1,
     "solution": false
    }
   },
   "outputs": [],
   "source": [
    "assert is_sorted([1, 2, 3])\n",
    "assert not is_sorted([3, 2, 1])"
   ]
  },
  {
   "cell_type": "markdown",
   "metadata": {},
   "source": [
    "---"
   ]
  },
  {
   "cell_type": "markdown",
   "metadata": {
    "deletable": false,
    "editable": false,
    "nbgrader": {
     "checksum": "73a316cf4040f761c83e284edbcff37a",
     "grade": false,
     "grade_id": "q4",
     "locked": true,
     "schema_version": 1,
     "solution": false
    }
   },
   "source": [
    "Write a function named `phone_format` that receives a dictionary of phone number information and returns the formatted phone number as a string.\n",
    "\n",
    "```\n",
    "{\n",
    "    'area_code': 510,\n",
    "    'prefix': 347,\n",
    "    'line_number': 7446,\n",
    "}\n",
    "\n",
    "===> '(510) 347-7446'\n",
    "```"
   ]
  },
  {
   "cell_type": "code",
   "execution_count": null,
   "metadata": {
    "deletable": false,
    "nbgrader": {
     "checksum": "2c04dd59c513061d1b1ad71bd4791344",
     "grade": false,
     "grade_id": "cell-2da8f8025e4366b4",
     "locked": false,
     "schema_version": 1,
     "solution": true
    }
   },
   "outputs": [],
   "source": [
    "def phone_format(dict_):\n",
    "    # YOUR CODE HERE\n",
    "    #raise NotImplementedError()"
   ]
  },
  {
   "cell_type": "code",
   "execution_count": null,
   "metadata": {
    "deletable": false,
    "editable": false,
    "nbgrader": {
     "checksum": "ace5deda3fb3177901c71de258b2f887",
     "grade": true,
     "grade_id": "cell-99ace83e0a9237b2",
     "locked": true,
     "points": 1,
     "schema_version": 1,
     "solution": false
    }
   },
   "outputs": [],
   "source": [
    "assert phone_format({'area_code': 510, 'prefix': 347, 'line_number': 7446}) == '(510) 347-7446'\n",
    "assert phone_format({'area_code': 947, 'prefix': 746, 'line_number': 8664}) == '(947) 746-8664'"
   ]
  },
  {
   "cell_type": "markdown",
   "metadata": {},
   "source": [
    "---"
   ]
  },
  {
   "cell_type": "markdown",
   "metadata": {
    "deletable": false,
    "editable": false,
    "nbgrader": {
     "checksum": "8606dd85a6750532cda0706584cb4613",
     "grade": false,
     "grade_id": "q5",
     "locked": true,
     "schema_version": 1,
     "solution": false
    }
   },
   "source": [
    "Create a function named `cast`. This function should take a value and an optional type. If a type is not given, the value should be returned unchanged. If a type is given, the value should be cast to that type and returned."
   ]
  },
  {
   "cell_type": "code",
   "execution_count": null,
   "metadata": {
    "deletable": false,
    "nbgrader": {
     "checksum": "e80b8e9b1b9f8838aa78a0bf09f69291",
     "grade": false,
     "grade_id": "cell-2c7d16faf74a2acd",
     "locked": false,
     "schema_version": 1,
     "solution": true
    }
   },
   "outputs": [],
   "source": [
    "# YOUR CODE HERE\n",
    "def cast(val,type_=None):\n",
    "    if type_ == None:\n",
    "        return val\n",
    "    elif type_ == str:\n",
    "        return str(val)\n",
    "    else:\n",
    "        return complex(val)\n",
    "\n",
    "#raise NotImplementedError()"
   ]
  },
  {
   "cell_type": "code",
   "execution_count": null,
   "metadata": {
    "deletable": false,
    "editable": false,
    "nbgrader": {
     "checksum": "1b7beddbf04291831100a71883ba79d1",
     "grade": true,
     "grade_id": "cell-db52dc3294e9f6aa",
     "locked": true,
     "points": 1,
     "schema_version": 1,
     "solution": false
    }
   },
   "outputs": [],
   "source": [
    "assert cast(1) is 1\n",
    "assert cast(1, type_=complex) == (1+0j)\n",
    "assert cast(1, type_=str) == '1'"
   ]
  },
  {
   "cell_type": "markdown",
   "metadata": {},
   "source": [
    "---"
   ]
  },
  {
   "cell_type": "markdown",
   "metadata": {
    "deletable": false,
    "editable": false,
    "nbgrader": {
     "checksum": "75aee097cd35131146f50aac40587c4e",
     "grade": false,
     "grade_id": "q6",
     "locked": true,
     "schema_version": 1,
     "solution": false
    }
   },
   "source": [
    "The following number has a series of 5 consecutive digits for which the sum of those digits is greater than the sum of any other series of 5 consecutive digits in the number. \n",
    "\n",
    "    314159265358979323846264338327950288419716939937510\n",
    "\n",
    "    3141592653|58979|323846264338327950288419716939937510\n",
    "    \n",
    "    5 + 8 + 9 + 7 + 9 = 38\n",
    "\n",
    "Write a function `slice_search` to look for an abitrarily large series of digits with a maximum sum and find the 0-based index of the first of those digits. A 0-based index is one where the first item in the sequence has an index of 0. Ie. 3 would have the index of 0 in this number, 1 would have the index of 1, and 4 would have the index of 2:\n",
    "\n",
    "    314\n",
    "    \n",
    "If there are multiple series that share the same maximum sum, return the lowest index."
   ]
  },
  {
   "cell_type": "code",
   "execution_count": null,
   "metadata": {
    "deletable": false,
    "nbgrader": {
     "checksum": "f036b722e5d4406817e731742255f35b",
     "grade": false,
     "grade_id": "cell-2a90e68b8a21714b",
     "locked": false,
     "schema_version": 1,
     "solution": true
    }
   },
   "outputs": [],
   "source": [
    "def slice_search(number, digit_count):\n",
    "    # YOUR CODE HERE\n",
    "    raise NotImplementedError()"
   ]
  },
  {
   "cell_type": "code",
   "execution_count": null,
   "metadata": {
    "deletable": false,
    "editable": false,
    "nbgrader": {
     "checksum": "21eb4f85cdc4dd0507a268187e32dd9c",
     "grade": true,
     "grade_id": "cell-e756e300a04b91e1",
     "locked": true,
     "points": 1,
     "schema_version": 1,
     "solution": false
    }
   },
   "outputs": [],
   "source": [
    "assert slice_search(314, 1) == 2\n",
    "assert slice_search(314159265358979323846264338327950288419716939937510, 5) == 10\n",
    "assert slice_search(3728383, 2) == 3"
   ]
  },
  {
   "cell_type": "markdown",
   "metadata": {},
   "source": [
    "---"
   ]
  },
  {
   "cell_type": "markdown",
   "metadata": {
    "deletable": false,
    "editable": false,
    "nbgrader": {
     "checksum": "c57f36a0338df2521fba423452de93f3",
     "grade": false,
     "grade_id": "q7",
     "locked": true,
     "schema_version": 1,
     "solution": false
    }
   },
   "source": [
    "Write a function named `set_overlap_maximizer` that takes a list of lists. The function should find the overlap of all possible parings of lists and find the two lists that have the greatest overlap of values. The function should return a 2-tuple (a tuple with two items in it) with the indexes of the two lists in the outer list. The 2-tuple should be ordered in ascending order (ie. (1, 2), not (2, 1). If there are multiple pairs that share the same maximum overlap, return the tuple with the lowest indexes."
   ]
  },
  {
   "cell_type": "code",
   "execution_count": null,
   "metadata": {
    "deletable": false,
    "nbgrader": {
     "checksum": "37f6bf6f8d4a247c3118256d92ac54d4",
     "grade": false,
     "grade_id": "cell-ffed39796700ce8b",
     "locked": false,
     "schema_version": 1,
     "solution": true
    }
   },
   "outputs": [],
   "source": [
    "def set_overlap_maximizer(list_of_lists):\n",
    "    # YOUR CODE HERE\n",
    "    raise NotImplementedError()"
   ]
  },
  {
   "cell_type": "code",
   "execution_count": null,
   "metadata": {
    "deletable": false,
    "editable": false,
    "nbgrader": {
     "checksum": "4b8e963aa899e58fd0bce2980372c9c2",
     "grade": true,
     "grade_id": "cell-247b92d15cfda6bb",
     "locked": true,
     "points": 1,
     "schema_version": 1,
     "solution": false
    }
   },
   "outputs": [],
   "source": [
    "assert set_overlap_maximizer([[1, 2, 3], [3, 4, 5], [4, 5, 6]]) == (1, 2)\n",
    "assert set_overlap_maximizer([[True, False, None, 8, 4, 'a'], ['a', None, False], [8, 9, 2]]) == (0, 1)"
   ]
  },
  {
   "cell_type": "markdown",
   "metadata": {},
   "source": [
    "---"
   ]
  },
  {
   "cell_type": "markdown",
   "metadata": {
    "deletable": false,
    "editable": false,
    "nbgrader": {
     "checksum": "f8ba627f371a22aa012d99d66a83cf59",
     "grade": false,
     "grade_id": "q8",
     "locked": true,
     "schema_version": 1,
     "solution": false
    }
   },
   "source": [
    "A leap year occurs on any year evenly divisible by 4, but not on a century unless it is divisible by 400.\n",
    "Write a function named `is_leap_year` which takes a year greater than 0 and returns True if a that year is a leap year. For fun, find the percentage of years between 0 and 2018 (inclusive of 2018) that are leap years. "
   ]
  },
  {
   "cell_type": "code",
   "execution_count": null,
   "metadata": {
    "deletable": false,
    "nbgrader": {
     "checksum": "12d3e33f8e127d11d51a86de92926409",
     "grade": false,
     "grade_id": "cell-28812396fce16207",
     "locked": false,
     "schema_version": 1,
     "solution": true
    }
   },
   "outputs": [],
   "source": [
    "def is_leap_year(year):\n",
    "    # YOUR CODE HERE\n",
    "    if year%400==0 or year%4==0:\n",
    "        return True\n",
    "    else:\n",
    "        return False\n",
    "    \n",
    "def print_leap_percent(year):\n",
    "    count_leaps = 0\n",
    "    for num in range(0,year+1):\n",
    "        if is_leap_year(num)==True:\n",
    "            count_leaps+=1\n",
    "        else:\n",
    "            count_leaps=count_leaps\n",
    "    print(\"For years between 0 and \"+str(year)+\", \"+str(round((100*count_leaps/year),2))+\"% are leap years\")\n",
    "    #raise NotImplementedError()"
   ]
  },
  {
   "cell_type": "code",
   "execution_count": null,
   "metadata": {},
   "outputs": [],
   "source": [
    "print_leap_percent(2018)"
   ]
  },
  {
   "cell_type": "code",
   "execution_count": null,
   "metadata": {},
   "outputs": [],
   "source": [
    "assert not is_leap_year(1900)"
   ]
  },
  {
   "cell_type": "code",
   "execution_count": null,
   "metadata": {
    "deletable": false,
    "editable": false,
    "nbgrader": {
     "checksum": "1a825e4acb6ef818f309ea06cd96ccf0",
     "grade": true,
     "grade_id": "cell-28876b241a449a1b",
     "locked": true,
     "points": 1,
     "schema_version": 1,
     "solution": false
    }
   },
   "outputs": [],
   "source": [
    "assert is_leap_year(2000)\n",
    "assert is_leap_year(2004)\n",
    "assert not is_leap_year(1900)\n",
    "assert not is_leap_year(2003)"
   ]
  },
  {
   "cell_type": "markdown",
   "metadata": {},
   "source": [
    "---"
   ]
  },
  {
   "cell_type": "markdown",
   "metadata": {
    "deletable": false,
    "editable": false,
    "nbgrader": {
     "checksum": "e67fc6e8a5962803452788dbfd38c9ab",
     "grade": false,
     "grade_id": "q9",
     "locked": true,
     "schema_version": 1,
     "solution": false
    }
   },
   "source": [
    "You are delievered a file that has several hundered lines of text. Lines are separated by a single new line character while paragraphs are separated by two new line characters. For example\n",
    "\n",
    "    This is one line.\n",
    "    This is another line in the same paragraph.\n",
    "    \n",
    "    This is a new line in a new paragraph.\n",
    "    \n",
    "Write a function named `paragrapher` that takes a single blob of text and returns a tuple of paragraphs of text. The paragraphs should not contain new line characters and the text should be in the same order as it is received. "
   ]
  },
  {
   "cell_type": "code",
   "execution_count": null,
   "metadata": {
    "deletable": false,
    "nbgrader": {
     "checksum": "c68f76afcc5459383329bc8bc2485d61",
     "grade": false,
     "grade_id": "cell-a03e58f0329956ec",
     "locked": false,
     "schema_version": 1,
     "solution": true
    }
   },
   "outputs": [],
   "source": [
    "def paragrapher(text):\n",
    "    # YOUR CODE HERE\n",
    "    raise NotImplementedError()"
   ]
  },
  {
   "cell_type": "code",
   "execution_count": null,
   "metadata": {
    "deletable": false,
    "editable": false,
    "nbgrader": {
     "checksum": "3da92c94efbabd167ad6e1dc57dfb21c",
     "grade": true,
     "grade_id": "cell-6e1b32344496a47f",
     "locked": true,
     "points": 1,
     "schema_version": 1,
     "solution": false
    }
   },
   "outputs": [],
   "source": [
    "text = \"\"\"\n",
    "This is one line.\n",
    "This is another line in the same paragraph.\n",
    "\n",
    "This is a new line in a new paragraph.\n",
    "\"\"\"\n",
    "expected_result = (\n",
    "    'This is one line. This is another line in the same paragraph.',\n",
    "    'This is a new line in a new paragraph.'\n",
    ")\n",
    "assert paragrapher(text) == expected_result"
   ]
  },
  {
   "cell_type": "markdown",
   "metadata": {},
   "source": [
    "---"
   ]
  },
  {
   "cell_type": "markdown",
   "metadata": {
    "deletable": false,
    "editable": false,
    "nbgrader": {
     "checksum": "2fbacca887d99447bcf6429a03ee9005",
     "grade": false,
     "grade_id": "q10",
     "locked": true,
     "schema_version": 1,
     "solution": false
    }
   },
   "source": [
    "Write a function named `identity` that produces identity matrices of size N by N. The matrices should be made of tuples within tuples. The function should have a docstring that states \"Return an identity matrix of n by n size.\""
   ]
  },
  {
   "cell_type": "code",
   "execution_count": null,
   "metadata": {
    "deletable": false,
    "nbgrader": {
     "checksum": "3e5373dbd243109c4db68562be3d8fcd",
     "grade": false,
     "grade_id": "cell-b1d2aa9d5c36ec74",
     "locked": false,
     "schema_version": 1,
     "solution": true
    }
   },
   "outputs": [],
   "source": [
    "def identity(n):\n",
    "    # YOUR CODE HERE\n",
    "    \"\"\"Return an identity matrix of n by n size.\"\"\"\n",
    "\n",
    "    raise NotImplementedError()"
   ]
  },
  {
   "cell_type": "code",
   "execution_count": null,
   "metadata": {
    "deletable": false,
    "editable": false,
    "nbgrader": {
     "checksum": "2b6403160ad45911de788f8bc900929f",
     "grade": true,
     "grade_id": "cell-1602d23627688ffc",
     "locked": true,
     "points": 1,
     "schema_version": 1,
     "solution": false
    }
   },
   "outputs": [],
   "source": [
    "assert identity(2) == ((1, 0), (0, 1))\n",
    "assert identity(3) == ((1, 0, 0), (0, 1, 0), (0, 0, 1))\n",
    "assert identity.__doc__.strip() == 'Return an identity matrix of n by n size.'"
   ]
  },
  {
   "cell_type": "markdown",
   "metadata": {},
   "source": [
    "---"
   ]
  },
  {
   "cell_type": "markdown",
   "metadata": {
    "deletable": false,
    "editable": false,
    "nbgrader": {
     "checksum": "ca463b1e361a8ec30e7d87990b17a71c",
     "grade": false,
     "grade_id": "q11",
     "locked": true,
     "schema_version": 1,
     "solution": false
    }
   },
   "source": [
    "The `random` library has several functions generating random values. Write a function named `count_attempts` that takes a number `x` between 0 and 1 and returns the number of times `random.random` had to be called before it produced a number within 0.01 of `x`."
   ]
  },
  {
   "cell_type": "code",
   "execution_count": null,
   "metadata": {
    "deletable": false,
    "nbgrader": {
     "checksum": "3a2f9ce7a75ed34cbf0a0307df81df82",
     "grade": false,
     "grade_id": "cell-6178408758bd9ac6",
     "locked": false,
     "schema_version": 1,
     "solution": true
    }
   },
   "outputs": [],
   "source": [
    "import random\n",
    "\n",
    "def count_attempts(x):\n",
    "    # YOUR CODE HERE\n",
    "    count_times = 0\n",
    "    num = random.random()\n",
    "    \n",
    "    while abs(x-num) > 0.01:\n",
    "        count_times +=1\n",
    "    print(count_times+1)\n",
    "    \n",
    "    #raise NotImplementedError()"
   ]
  },
  {
   "cell_type": "code",
   "execution_count": null,
   "metadata": {
    "deletable": false,
    "editable": false,
    "nbgrader": {
     "checksum": "140d96b080043765919687cd96525e22",
     "grade": true,
     "grade_id": "cell-92634588c49be1bf",
     "locked": true,
     "points": 1,
     "schema_version": 1,
     "solution": false
    }
   },
   "outputs": [],
   "source": [
    "random.seed(42)\n",
    "\n",
    "assert count_attempts(0.6) == 30\n",
    "assert count_attempts(0.93) == 24"
   ]
  },
  {
   "cell_type": "markdown",
   "metadata": {},
   "source": [
    "---"
   ]
  },
  {
   "cell_type": "markdown",
   "metadata": {
    "deletable": false,
    "editable": false,
    "nbgrader": {
     "checksum": "8fd146ef1cfd5cef5500ce2c9c535cf5",
     "grade": false,
     "grade_id": "q12",
     "locked": true,
     "schema_version": 1,
     "solution": false
    }
   },
   "source": [
    "Create a Ceaser cipher. Implement a function `ceaser_encrypt` that takes some text (`plaintext`) and returns ciphertext. To compute the ciphertext, iterate through each letter in the plain text and replace it with the letter that is 13 characters forward in the ASCII alphabet. For letters that are too far towards the end of the alphabet, start back at the beginning of the alphabet and continue counting up to 13. The function should convert `plaintext` to lower case before operating on the text. All punctuation should be ignored by the cipher.\n",
    "\n",
    "For example:\n",
    "\n",
    "```python\n",
    ">>> def ceaser_encrypt(plaintext):\n",
    "...     # implement me\n",
    "...     pass\n",
    "... \n",
    ">>> ceaser_encrypt('You rock!')\n",
    "'lbh ebpx!'\n",
    "```\n",
    "\n",
    "Finally, what is the result if you pass text encrypted by `ceaser_encrypt` back into `ceaser_encrypt`?"
   ]
  },
  {
   "cell_type": "code",
   "execution_count": null,
   "metadata": {
    "deletable": false,
    "nbgrader": {
     "checksum": "7daba0bdeac9ef69621d0c1e4b1085a5",
     "grade": false,
     "grade_id": "cell-ef3a757c826739d5",
     "locked": false,
     "schema_version": 1,
     "solution": true
    }
   },
   "outputs": [],
   "source": [
    "from string import ascii_letters\n",
    "\n",
    "def ceaser_encrypt(plaintext):\n",
    "    # YOUR CODE HERE\n",
    "    plaintext=plaintext.lower()\n",
    "    output_string = ''\n",
    "    for character in plaintext:\n",
    "        if character in ascii_letters:\n",
    "            output_string = output_string + ascii_letters[ascii_letters.index(character)+13]\n",
    "        else:\n",
    "            output_string +=character\n",
    "    print(output_string.lower())\n",
    "            \n",
    "        \n",
    "    #raise NotImplementedError()"
   ]
  },
  {
   "cell_type": "code",
   "execution_count": null,
   "metadata": {
    "deletable": false,
    "editable": false,
    "nbgrader": {
     "checksum": "016c672797d26c8786ec40a5d8efc0f9",
     "grade": true,
     "grade_id": "cell-5bf52ef2852c8eb2",
     "locked": true,
     "points": 1,
     "schema_version": 1,
     "solution": false
    }
   },
   "outputs": [],
   "source": [
    "text = 'Secrets secrets!'\n",
    "assert ceaser_encrypt(text) == 'frpergf frpergf!'\n",
    "assert ceaser_encrypt(ceaser_encrypt(text)) == text.lower()"
   ]
  },
  {
   "cell_type": "markdown",
   "metadata": {},
   "source": [
    "---"
   ]
  },
  {
   "cell_type": "markdown",
   "metadata": {
    "deletable": false,
    "editable": false,
    "nbgrader": {
     "checksum": "cf94cb988c201a9132f1474933d2940b",
     "grade": false,
     "grade_id": "q13",
     "locked": true,
     "schema_version": 1,
     "solution": false
    }
   },
   "source": [
    "Write a function named `factorial` to find the factorial for a given number.\n",
    "\n",
    "```\n",
    ">>> factorial(3)\n",
    "6\n",
    "```"
   ]
  },
  {
   "cell_type": "code",
   "execution_count": 2,
   "metadata": {
    "deletable": false,
    "nbgrader": {
     "checksum": "02c2223807f0980f7f8484dd7bfded4e",
     "grade": false,
     "grade_id": "cell-3296fbc3c20c379d",
     "locked": false,
     "schema_version": 1,
     "solution": true
    }
   },
   "outputs": [
    {
     "data": {
      "text/plain": [
       "30414093201713378043612608166064768844377641568960512000000000000"
      ]
     },
     "execution_count": 2,
     "metadata": {},
     "output_type": "execute_result"
    }
   ],
   "source": [
    "def factorial(n):\n",
    "    # YOUR CODE HERE\n",
    "    if n<0:\n",
    "        print(\"No factorial for negatives\")\n",
    "    elif n==0:\n",
    "        print(1)\n",
    "    else:\n",
    "        factorial = 1\n",
    "        for num in range(1,n+1):\n",
    "            factorial = factorial*num\n",
    "        return(factorial)\n",
    "    #raise NotImplementedError()\n",
    "factorial(50)"
   ]
  },
  {
   "cell_type": "code",
   "execution_count": null,
   "metadata": {
    "deletable": false,
    "editable": false,
    "nbgrader": {
     "checksum": "eca65aa81b4a1ccfbd7f60ef58d4bd48",
     "grade": true,
     "grade_id": "cell-67af2acae157a971",
     "locked": true,
     "points": 1,
     "schema_version": 1,
     "solution": false
    }
   },
   "outputs": [],
   "source": [
    "assert factorial(3) == 6\n",
    "assert factorial(50) == 30414093201713378043612608166064768844377641568960512000000000000"
   ]
  },
  {
   "cell_type": "markdown",
   "metadata": {},
   "source": [
    "---"
   ]
  },
  {
   "cell_type": "markdown",
   "metadata": {
    "deletable": false,
    "editable": false,
    "nbgrader": {
     "checksum": "b6fcb68b5d87a08ee20d1e08f741d12f",
     "grade": false,
     "grade_id": "q14",
     "locked": true,
     "schema_version": 1,
     "solution": false
    }
   },
   "source": [
    "Create a function named `change` that returns a `dict` containing the number of dollars, quarters, dimes, nickels, and pennies required for a given amount of change. Bigger denominations should be use before smaller ones are used. You can assume you are in a utopia were you can treat rounding errors in pennies by rounding up to the nearest penny. \n",
    "\n",
    "An example of the function:\n",
    "\n",
    "```\n",
    ">>> get_change_count(0.92)\n",
    "{\n",
    "    'quarter': 3,\n",
    "    'dime': 1,\n",
    "    'nickel': 1,\n",
    "    'penny': 2,\n",
    "}\n",
    "```"
   ]
  },
  {
   "cell_type": "code",
   "execution_count": 3,
   "metadata": {
    "deletable": false,
    "nbgrader": {
     "checksum": "b66bbaaf1c73fcb1c7bb75140767fe38",
     "grade": false,
     "grade_id": "cell-bdfb5e93ff922394",
     "locked": false,
     "schema_version": 1,
     "solution": true
    }
   },
   "outputs": [
    {
     "name": "stdout",
     "output_type": "stream",
     "text": [
      "[1, 0.75, 0.1, 0.05, 0.01]\n",
      "None\n"
     ]
    }
   ],
   "source": [
    "def change(amount):\n",
    "    # YOUR CODE HERE - as far as i got but i know not correct\n",
    "    dollar, quarter, dime, nickel, penny = 1, .75, .1, .05, .01\n",
    "    coins = (dollar, quarter, dime, nickel, penny)\n",
    "    change_count = []\n",
    "    for i in coins:\n",
    "        while amount >= i:\n",
    "            change_count.append(i)\n",
    "            amount=amount-i\n",
    "    print(change_count)\n",
    "print(change(1.92))   \n",
    "    #raise NotImplementedError()"
   ]
  },
  {
   "cell_type": "code",
   "execution_count": null,
   "metadata": {
    "deletable": false,
    "editable": false,
    "nbgrader": {
     "checksum": "2328668f4e8c027d03a8c854d092ff42",
     "grade": true,
     "grade_id": "cell-5f73a8f88bc021f9",
     "locked": true,
     "points": 1,
     "schema_version": 1,
     "solution": false
    }
   },
   "outputs": [],
   "source": [
    "assert change(1.92) == {'dime': 1, 'dollar': 1, 'nickel': 1, 'penny': 2, 'quarter': 3}\n",
    "assert change(0.13) == {'dime': 1, 'dollar': 0, 'nickel': 0, 'penny': 3, 'quarter': 0}"
   ]
  },
  {
   "cell_type": "markdown",
   "metadata": {},
   "source": [
    "---"
   ]
  },
  {
   "cell_type": "markdown",
   "metadata": {
    "deletable": false,
    "editable": false,
    "nbgrader": {
     "checksum": "4e9b8ce6f6f720121bf10dfd729f8fa9",
     "grade": false,
     "grade_id": "q15",
     "locked": true,
     "schema_version": 1,
     "solution": false
    }
   },
   "source": [
    "Create a function named `count` that takes a string of characters, counts each occurrence of each character, and produces a compressed string with each character and its count. For example:\n",
    "\n",
    "`'aabbccababcc'` would compress to `'a4b4c4'`\n",
    "\n",
    "The result string should be sorted."
   ]
  },
  {
   "cell_type": "code",
   "execution_count": null,
   "metadata": {
    "deletable": false,
    "nbgrader": {
     "checksum": "00c24dcd50cd3ff9f110e5909dc771b0",
     "grade": false,
     "grade_id": "cell-3137e1898c9f948c",
     "locked": false,
     "schema_version": 1,
     "solution": true
    }
   },
   "outputs": [],
   "source": [
    "import collections\n",
    "\n",
    "def count(string):\n",
    "    output = ''\n",
    "    for char in string:\n",
    "        if char in output:\n",
    "            \n",
    "\n",
    "        \n",
    "    raise NotImplementedError()"
   ]
  },
  {
   "cell_type": "code",
   "execution_count": null,
   "metadata": {
    "deletable": false,
    "editable": false,
    "nbgrader": {
     "checksum": "0bb5507bb62897a7594f2946b88c5fed",
     "grade": true,
     "grade_id": "cell-b127e8ae57db64cc",
     "locked": true,
     "points": 1,
     "schema_version": 1,
     "solution": false
    }
   },
   "outputs": [],
   "source": [
    "assert count('aabbccababcc') == 'a4b4c4'\n",
    "assert count(reversed('aabbccababcc')) == 'a4b4c4'"
   ]
  },
  {
   "cell_type": "code",
   "execution_count": null,
   "metadata": {},
   "outputs": [],
   "source": []
  }
 ],
 "metadata": {
  "kernelspec": {
   "display_name": "Python 3",
   "language": "python",
   "name": "python3"
  },
  "language_info": {
   "codemirror_mode": {
    "name": "ipython",
    "version": 3
   },
   "file_extension": ".py",
   "mimetype": "text/x-python",
   "name": "python",
   "nbconvert_exporter": "python",
   "pygments_lexer": "ipython3",
   "version": "3.6.5"
  }
 },
 "nbformat": 4,
 "nbformat_minor": 2
}
