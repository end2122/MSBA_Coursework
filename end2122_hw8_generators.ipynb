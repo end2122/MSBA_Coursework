{
 "cells": [
  {
   "cell_type": "markdown",
   "metadata": {},
   "source": [
    "**Q**: Create a generator function `fibonacci` that returns a generator object that can be used to produce the Fibonacci sequence. Your function should be able to generate the 10,000th Fibonacci number in under a few seconds. [2 points]\n",
    "\n",
    "Please note that the Fibonacci sequence in this problem starts with 0.\n",
    "\n",
    "```python\n",
    ">>> fib = fibonacci()\n",
    ">>> [next(fib) for _ in range(5)]\n",
    "[0, 1, 1, 2, 3]\n",
    "```\n",
    "[2 points]"
   ]
  },
  {
   "cell_type": "code",
   "execution_count": null,
   "metadata": {
    "deletable": false,
    "nbgrader": {
     "checksum": "3c07c1255ca11840bb6b2f082eba94ff",
     "grade": false,
     "grade_id": "cell-32574a3fb8ed5982",
     "locked": false,
     "schema_version": 1,
     "solution": true
    }
   },
   "outputs": [],
   "source": [
    "def fibonacci():\n",
    "    a = 0\n",
    "    b = 1\n",
    "    while 1:\n",
    "        yield a\n",
    "        a,b = b,a+b"
   ]
  },
  {
   "cell_type": "code",
   "execution_count": null,
   "metadata": {
    "deletable": false,
    "editable": false,
    "nbgrader": {
     "checksum": "56d407f1487344a3c28f0dfda30e9af0",
     "grade": true,
     "grade_id": "cell-2970ff4efe5245f7",
     "locked": true,
     "points": 0.5,
     "schema_version": 1,
     "solution": false
    }
   },
   "outputs": [],
   "source": [
    "### BEGIN TESTS\n",
    "fib = fibonacci()\n",
    "assert [next(fib) for _ in range(5)] == [0, 1, 1, 2, 3]\n",
    "### END TESTS"
   ]
  },
  {
   "cell_type": "code",
   "execution_count": null,
   "metadata": {
    "deletable": false,
    "editable": false,
    "nbgrader": {
     "checksum": "fcb67459b2c270260c10d29040cf78d4",
     "grade": true,
     "grade_id": "cell-447405b27b670689",
     "locked": true,
     "points": 0.5,
     "schema_version": 1,
     "solution": false
    }
   },
   "outputs": [],
   "source": []
  },
  {
   "cell_type": "code",
   "execution_count": null,
   "metadata": {
    "deletable": false,
    "editable": false,
    "nbgrader": {
     "checksum": "058f166f1c3496527c4caa97d7ee006d",
     "grade": true,
     "grade_id": "cell-c4da759e55299384",
     "locked": true,
     "points": 1,
     "schema_version": 1,
     "solution": false
    }
   },
   "outputs": [],
   "source": [
    "### BEGIN TESTS\n",
    "import inspect\n",
    "\n",
    "assert inspect.isgeneratorfunction(fibonacci)\n",
    "### END TESTS"
   ]
  },
  {
   "cell_type": "markdown",
   "metadata": {
    "collapsed": true
   },
   "source": [
    "---"
   ]
  },
  {
   "cell_type": "markdown",
   "metadata": {},
   "source": [
    "**Q**: Create a Markov chain generator function named `markov`. The generator should take a starting point (an integer). With each pass of the resultant generator object to `next`, a random step from the last point returned (or the starting point if no point has yet been returned) should be performed. The result of this step should be returned after the step is taken. The steps can be -1, 0, or 1 unit from the last point returned (or the starting point if no point has yet been returned).\n",
    "\n",
    "[2 points]"
   ]
  },
  {
   "cell_type": "code",
   "execution_count": null,
   "metadata": {
    "deletable": false,
    "nbgrader": {
     "checksum": "4e0766ed3de708531ade39e0c3f340b0",
     "grade": false,
     "grade_id": "cell-e8a9dfd93b0e0309",
     "locked": false,
     "schema_version": 1,
     "solution": true
    }
   },
   "outputs": [],
   "source": [
    "import random\n",
    "\n",
    "def markov(start: int):\n",
    "    m = start\n",
    "    count = 0\n",
    "    yield start\n",
    "    count+=1\n",
    "    while count >0:\n",
    "        m += random.randint(-1,1)\n",
    "        yield m"
   ]
  },
  {
   "cell_type": "code",
   "execution_count": null,
   "metadata": {
    "deletable": false,
    "editable": false,
    "nbgrader": {
     "checksum": "9507db637372edead5e67d3aca29178e",
     "grade": true,
     "grade_id": "cell-59f5d59626ff94cd",
     "locked": true,
     "points": 1,
     "schema_version": 1,
     "solution": false
    }
   },
   "outputs": [],
   "source": [
    "### BEGIN TESTS\n",
    "import inspect\n",
    "\n",
    "assert inspect.isgeneratorfunction(markov)\n",
    "### END TESTS"
   ]
  },
  {
   "cell_type": "code",
   "execution_count": null,
   "metadata": {
    "deletable": false,
    "editable": false,
    "nbgrader": {
     "checksum": "0f174bbc72454b8c05f1afbea13c47fd",
     "grade": true,
     "grade_id": "cell-c8b67e7d41fc06c4",
     "locked": true,
     "points": 0.5,
     "schema_version": 1,
     "solution": false
    }
   },
   "outputs": [],
   "source": [
    "### BEGIN TESTS\n",
    "position = 0\n",
    "gen = markov(position)\n",
    " \n",
    "for _ in range(1000):\n",
    "    new_position = next(gen)\n",
    "    assert abs(new_position - position) <= 1, f'{new_position} and {position} are not within 1 unit of each other'\n",
    "    position = new_position\n",
    "### END TESTS"
   ]
  },
  {
   "cell_type": "code",
   "execution_count": null,
   "metadata": {
    "deletable": false,
    "editable": false,
    "nbgrader": {
     "checksum": "73f56df3e1124000f09a1df083502b60",
     "grade": true,
     "grade_id": "cell-6cb1eeb3900e89eb",
     "locked": true,
     "points": 0.5,
     "schema_version": 1,
     "solution": false
    }
   },
   "outputs": [],
   "source": []
  }
 ],
 "metadata": {
  "kernelspec": {
   "display_name": "Python 3",
   "language": "python",
   "name": "python3"
  },
  "language_info": {
   "codemirror_mode": {
    "name": "ipython",
    "version": 3
   },
   "file_extension": ".py",
   "mimetype": "text/x-python",
   "name": "python",
   "nbconvert_exporter": "python",
   "pygments_lexer": "ipython3",
   "version": "3.6.5"
  }
 },
 "nbformat": 4,
 "nbformat_minor": 2
}
