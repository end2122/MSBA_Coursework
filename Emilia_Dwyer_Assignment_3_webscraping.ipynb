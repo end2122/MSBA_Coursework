{
 "cells": [
  {
   "cell_type": "markdown",
   "metadata": {},
   "source": [
    "<h1>Scraping Fidelity.com</h1>\n",
    "In this assignment, you will scrape data from fidelity.com. The goal of the exercise is to get the latest sector performance data from the US markets, and to get the total market capitalization for each sector. \n",
    "\n",
    "The end result is to write a function: <i>get_us_sector_performance()</i> that will return a list of tuples. Each tuple should correspond to a sector and should contain the following data:\n",
    "<li>the sector name\n",
    "<li>the amount the sector has moved\n",
    "<li>the market capitalization of the sector\n",
    "<li>the market weight of the sector\n",
    "<li>a link to the fidelity page for that sector\n",
    "\n",
    "<p>\n",
    "The data should be sorted by decreasing order of market weight. I.e., the sector with the highest weight should be in the first tuple, etc."
   ]
  },
  {
   "cell_type": "markdown",
   "metadata": {},
   "source": [
    "<h3>Process</h3>\n",
    "<li>Get a list of sectors and the links to the sector detail pages from the url (see function)\n",
    "<li>Loop through the list and call the function <i>get_sector_change_and_market_cap(sector_page_link)</i> for each sector\n",
    "<li>Accumulate the name, the change, the capitalization, the weight and the link for each sector in output_list (see function)\n",
    "<li>Sort the list by market weight"
   ]
  },
  {
   "cell_type": "markdown",
   "metadata": {},
   "source": [
    "<b>Notes:</b>\n",
    "<li>Note that the market weight is a string with a % sign at the back. You will need to get rid of the % and convert the string into a float before you can sort it\n",
    "<li>Your starting data is the url listed below. You need to extract all data, including links to the sector pages, from the page at this url\n",
    "<li>To sort a list of tuples by an arbitrary element, use the example at the bottom of this notebook"
   ]
  },
  {
   "cell_type": "code",
   "execution_count": 1,
   "metadata": {},
   "outputs": [],
   "source": [
    "def get_sector_change_and_market_cap(sector_page_link):\n",
    "    \n",
    "    import requests as req\n",
    "    from bs4 import BeautifulSoup as bs\n",
    "\n",
    "    response = req.get(sector_page_link)\n",
    "    results_page = bs(response.content,'lxml')\n",
    "\n",
    "    data = []\n",
    "    tags_sector_nums = results_page.find_all('table',class_='snapshot-data-tbl')\n",
    "    \n",
    "    for item in tags_sector_nums:\n",
    "        try:\n",
    "            sector_change = item.find('td').find('span',class_='negative').get_text()[1:-1]\n",
    "            sector_change = float(sector_change)\n",
    "        except:\n",
    "            sector_change = item.find('td').find('span',class_='positive').get_text()[1:-1]\n",
    "            sector_change = float(sector_change)\n",
    "        sector_market_cap = item.find('tbody').find('tr').find_all('td')[1].find('span').get_text()\n",
    "        sector_market_weight = item.find('td',class_='left-spcng').find('span').get_text()[:-1]        \n",
    "        if sector_market_weight == '-':\n",
    "            sector_market_weight = 0.0\n",
    "        else:\n",
    "            sector_market_weight = float(sector_market_weight)\n",
    "        \n",
    "        \n",
    "    return sector_change,sector_market_cap,sector_market_weight"
   ]
  },
  {
   "cell_type": "code",
   "execution_count": 2,
   "metadata": {},
   "outputs": [
    {
     "data": {
      "text/plain": [
       "[('Communication Services',\n",
       "  0.1,\n",
       "  '$4.79T',\n",
       "  0.0,\n",
       "  'http://eresearch.fidelity.com/eresearch/markets_sectors/sectors/sectors_in_market.jhtml?tab=learn&sector=50'),\n",
       " ('Materials',\n",
       "  1.04,\n",
       "  '$1.96T',\n",
       "  2.43,\n",
       "  'http://eresearch.fidelity.com/eresearch/markets_sectors/sectors/sectors_in_market.jhtml?tab=learn&sector=15'),\n",
       " ('Real Estate',\n",
       "  0.85,\n",
       "  '$1.19T',\n",
       "  2.65,\n",
       "  'http://eresearch.fidelity.com/eresearch/markets_sectors/sectors/sectors_in_market.jhtml?tab=learn&sector=60'),\n",
       " ('Utilities',\n",
       "  0.3,\n",
       "  '$1.22T',\n",
       "  2.83,\n",
       "  'http://eresearch.fidelity.com/eresearch/markets_sectors/sectors/sectors_in_market.jhtml?tab=learn&sector=55'),\n",
       " ('Energy',\n",
       "  1.47,\n",
       "  '$4.07T',\n",
       "  6.0,\n",
       "  'http://eresearch.fidelity.com/eresearch/markets_sectors/sectors/sectors_in_market.jhtml?tab=learn&sector=10'),\n",
       " ('Consumer Staples',\n",
       "  0.06,\n",
       "  '$3.55T',\n",
       "  6.71,\n",
       "  'http://eresearch.fidelity.com/eresearch/markets_sectors/sectors/sectors_in_market.jhtml?tab=learn&sector=30'),\n",
       " ('Industrials',\n",
       "  0.9,\n",
       "  '$4.29T',\n",
       "  9.7,\n",
       "  'http://eresearch.fidelity.com/eresearch/markets_sectors/sectors/sectors_in_market.jhtml?tab=learn&sector=20'),\n",
       " ('Consumer Discretionary',\n",
       "  0.2,\n",
       "  '$5.17T',\n",
       "  10.3,\n",
       "  'http://eresearch.fidelity.com/eresearch/markets_sectors/sectors/sectors_in_market.jhtml?tab=learn&sector=25'),\n",
       " ('Financials',\n",
       "  0.35,\n",
       "  '$7.40T',\n",
       "  13.31,\n",
       "  'http://eresearch.fidelity.com/eresearch/markets_sectors/sectors/sectors_in_market.jhtml?tab=learn&sector=40'),\n",
       " ('Health Care',\n",
       "  0.54,\n",
       "  '$5.84T',\n",
       "  15.05,\n",
       "  'http://eresearch.fidelity.com/eresearch/markets_sectors/sectors/sectors_in_market.jhtml?tab=learn&sector=35'),\n",
       " ('Information Technology',\n",
       "  0.49,\n",
       "  '$7.69T',\n",
       "  20.99,\n",
       "  'http://eresearch.fidelity.com/eresearch/markets_sectors/sectors/sectors_in_market.jhtml?tab=learn&sector=45')]"
      ]
     },
     "execution_count": 2,
     "metadata": {},
     "output_type": "execute_result"
    }
   ],
   "source": [
    "def get_us_sector_performance():\n",
    "    \"\"\"Returns US Sector Performance\"\"\"\n",
    "    \n",
    "    import requests as req\n",
    "    from bs4 import BeautifulSoup as bs\n",
    "    import itertools as IT\n",
    "\n",
    "    output = list()\n",
    "    url = \"https://eresearch.fidelity.com/eresearch/goto/markets_sectors/landing.jhtml\"\n",
    "    response = req.get(url)\n",
    "\n",
    "    results_page = bs(response.content,'lxml')\n",
    "    tags_sector_name_link = results_page.find_all('a',class_='heading1')\n",
    "    \n",
    "    for sector in tags_sector_name_link:\n",
    "        sector_link = \"http://eresearch.fidelity.com\" + sector.get('href')\n",
    "        sector_name = sector.get_text()        \n",
    "        data_spl_change = get_sector_change_and_market_cap(sector_link)[0]\n",
    "        data_spl_market = get_sector_change_and_market_cap(sector_link)[1]\n",
    "        data_spl_weight = get_sector_change_and_market_cap(sector_link)[2]\n",
    "        \n",
    "        output.append((sector_name, data_spl_change, data_spl_market,data_spl_weight,sector_link))\n",
    "    \n",
    "    output.sort(key=lambda z:z[-2])\n",
    "    \n",
    "    return output\n",
    "\n",
    "get_us_sector_performance()"
   ]
  },
  {
   "cell_type": "code",
   "execution_count": null,
   "metadata": {},
   "outputs": [],
   "source": []
  },
  {
   "cell_type": "code",
   "execution_count": null,
   "metadata": {},
   "outputs": [],
   "source": [
    "#Test get_sector_change_and_market_cap()\n",
    "link = \"https://eresearch.fidelity.com/eresearch/markets_sectors/sectors/sectors_in_market.jhtml?tab=learn&sector=25\"\n",
    "get_sector_change_and_market_cap(link)\n",
    "#Should return (-0.40, $3.58T, 6.80)\n",
    "#Note that neither the -0.40, nor the 6.80, end with a %sign"
   ]
  },
  {
   "cell_type": "code",
   "execution_count": null,
   "metadata": {},
   "outputs": [],
   "source": [
    "#Test get_us_sector_performance()\n",
    "get_us_sector_performance()\n",
    "#Should return (example: obviously the results will vary over time!)\n",
    "\"\"\"\n",
    "[('Telecommunication Services',\n",
    "  0.21,\n",
    "  '$1.74T',\n",
    "  2.0,\n",
    "  'https://eresearch.fidelity.com/eresearch/markets_sectors/sectors/sectors_in_market.jhtml?tab=learn&sector=50'),\n",
    " ('Materials',\n",
    "  0.22,\n",
    "  '$1.95T',\n",
    "  2.49,\n",
    "  'https://eresearch.fidelity.com/eresearch/markets_sectors/sectors/sectors_in_market.jhtml?tab=learn&sector=15'),\n",
    " ('Real Estate',\n",
    "  -0.45,\n",
    "  '$1.22T',\n",
    "  2.7,\n",
    "  'https://eresearch.fidelity.com/eresearch/markets_sectors/sectors/sectors_in_market.jhtml?tab=learn&sector=60'),\n",
    " ('Utilities',\n",
    "  -0.33,\n",
    "  '$1.25T',\n",
    "  2.86,\n",
    "  'https://eresearch.fidelity.com/eresearch/markets_sectors/sectors/sectors_in_market.jhtml?tab=learn&sector=55'),\n",
    " ('Energy',\n",
    "  0.76,\n",
    "  '$3.90T',\n",
    "  5.83,\n",
    "  'https://eresearch.fidelity.com/eresearch/markets_sectors/sectors/sectors_in_market.jhtml?tab=learn&sector=10'),\n",
    " ('Consumer Staples',\n",
    "  -0.32,\n",
    "  '$3.58T',\n",
    "  6.8,\n",
    "  'https://eresearch.fidelity.com/eresearch/markets_sectors/sectors/sectors_in_market.jhtml?tab=learn&sector=30'),\n",
    " ('Industrials',\n",
    "  0.72,\n",
    "  '$4.31T',\n",
    "  9.83,\n",
    "  'https://eresearch.fidelity.com/eresearch/markets_sectors/sectors/sectors_in_market.jhtml?tab=learn&sector=20'),\n",
    " ('Consumer Discretionary',\n",
    "  1.03,\n",
    "  '$5.76T',\n",
    "  12.9,\n",
    "  'https://eresearch.fidelity.com/eresearch/markets_sectors/sectors/sectors_in_market.jhtml?tab=learn&sector=25'),\n",
    " ('Financials',\n",
    "  0.39,\n",
    "  '$7.45T',\n",
    "  13.71,\n",
    "  'https://eresearch.fidelity.com/eresearch/markets_sectors/sectors/sectors_in_market.jhtml?tab=learn&sector=40'),\n",
    " ('Health Care',\n",
    "  0.76,\n",
    "  '$5.70T',\n",
    "  14.71,\n",
    "  'https://eresearch.fidelity.com/eresearch/markets_sectors/sectors/sectors_in_market.jhtml?tab=learn&sector=35'),\n",
    " ('Information Technology',\n",
    "  0.81,\n",
    "  '$9.84T',\n",
    "  26.17,\n",
    "  'https://eresearch.fidelity.com/eresearch/markets_sectors/sectors/sectors_in_market.jhtml?tab=learn&sector=45')]\n",
    "  \n",
    "\"\"\""
   ]
  },
  {
   "cell_type": "markdown",
   "metadata": {},
   "source": [
    "<h3>Sorting</h3>"
   ]
  },
  {
   "cell_type": "code",
   "execution_count": null,
   "metadata": {},
   "outputs": [],
   "source": [
    "x = [('a',23.2,'b'),('c',17.4,'f'),('d',29.2,'z'),('e',1.74,'bb')]\n",
    "x.sort() #Sorts by the first element of the tuple\n",
    "x"
   ]
  },
  {
   "cell_type": "code",
   "execution_count": null,
   "metadata": {},
   "outputs": [],
   "source": [
    "x = [('a',23.2,'b'),('c',17.4,'f'),('d',29.2,'z'),('e',1.74,'bb')]\n",
    "x.sort(key=lambda k: k[1]) #Sorts by the element at position 1\n",
    "x"
   ]
  },
  {
   "cell_type": "code",
   "execution_count": null,
   "metadata": {},
   "outputs": [],
   "source": []
  }
 ],
 "metadata": {
  "kernelspec": {
   "display_name": "Python 3",
   "language": "python",
   "name": "python3"
  },
  "language_info": {
   "codemirror_mode": {
    "name": "ipython",
    "version": 3
   },
   "file_extension": ".py",
   "mimetype": "text/x-python",
   "name": "python",
   "nbconvert_exporter": "python",
   "pygments_lexer": "ipython3",
   "version": "3.6.5"
  }
 },
 "nbformat": 4,
 "nbformat_minor": 2
}
