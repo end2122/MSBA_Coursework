{
 "cells": [
  {
   "cell_type": "markdown",
   "metadata": {},
   "source": [
    "<subject>\n",
    "Homework How-To\n",
    "</subject>\n",
    "\n",
    "<details>\n",
    "\n",
    "**Naming Conventions**\n",
    "\n",
    "When naming your files for upload, you must follow the format below:\n",
    "\n",
    "    <uni>_<assignment>_<details [optional]>.<extension>\n",
    "\n",
    "For example, if I needed to hand in HW 0, any of the below formats would be sufficient for a file name:\n",
    "\n",
    "- pl2648_hw0.txt\n",
    "- pl2648_hw0.sh\n",
    "- pl2648_hw0_all_in_one.txt\n",
    "- Pl2648_hw0_bash_program.sh\n",
    "\n",
    "This naming format allows for autograding of all assignments. If your files are not named with this format, you should expect a grade of zero for the assignment.\n",
    "\n",
    "**Grading**\n",
    "\n",
    "Possible points on late homeworks are deducted by 50% for each day they are late. For example, if you get 80% of the total possible credits on a homework but hand in that homework a day late, you would get 40%. Assignments two days late get zero points.\n",
    "\n",
    "Once solutions are posted and graded assignments are handed back, students have 1 week to bring their grading discrepancies to a CA for consideration of possible grading errors. \n",
    "\n",
    "**Getting Help**\n",
    "\n",
    "Asking for help is a great way to increase your chance of success. However there are some rules. When asking for help (especially from a fellow student), *you can show your helper your code but you can not view theirs*. You work needs to be your own. \n",
    "\n",
    "If you need to reach out to a CA or the Professor for help, please do so via Piazza and not via email. Answers given via Piazza will help you as well as other students. Thus, emails will always have a lower priority for response than Piazza questions. If you do email the professor or TA, please make a note of what section you are in. This helps us identify you in courseworks faster.\n",
    "</details>"
   ]
  },
  {
   "cell_type": "markdown",
   "metadata": {
    "deletable": false,
    "editable": false,
    "nbgrader": {
     "checksum": "66c561dcb9833e3d955ca5066fdb49b2",
     "grade": false,
     "grade_id": "cell-46cac205dc6fd4f5",
     "locked": true,
     "schema_version": 1,
     "solution": false
    }
   },
   "source": [
    "For the following questions, assume you have the following tables of information in the database `nmh`. \n",
    "\n",
    "- table name: `exhibits`\n",
    "\n",
    "id (INT) | name (VARCHAR) | start_date (DATE) | end_date (DATE) | curator_id (INT) [FK to curator.id]\n",
    "-|-|-|-|-\n",
    "3| Free The Fishes | 2018-01-01 | 2018-06-30 | 5\n",
    "17| Space, What Lies Above | 2018-02-01 | 2018-05-30 | 11\n",
    "23| Bears Bears Bears | 2018-02-14 | 2018-02-24 | 5\n",
    "46| Humans? Aliens? | 2019-03-14 | 2019-10-21 | 11\n",
    "\n",
    "\n",
    "- table name: `curators`\n",
    "\n",
    "id (INT) | name (VARCHAR) | bio (TEXT)\n",
    "-|-|-\n",
    "5| Rebecca Votea | Esteemed naturalist\n",
    "11| Simon Strauss | Space man\n",
    "71| Rick Sanchez | Grandfather\n",
    "\n",
    "\n",
    "SQL solutions will be graded on their simplicity as well as on whether or not they would return the correct answer from the database."
   ]
  },
  {
   "cell_type": "markdown",
   "metadata": {},
   "source": [
    "**Q**: Write a function that returns a string containing the SQL necessary to create two tables above.\n",
    "\n",
    "These tables are necessary for future problems.\n",
    "\n",
    "[0 points]"
   ]
  },
  {
   "cell_type": "code",
   "execution_count": null,
   "metadata": {
    "deletable": false,
    "nbgrader": {
     "checksum": "2ea40782dbc2501a135c73cf5dc5b36c",
     "grade": false,
     "grade_id": "cell-518e4070a5c1b4d1",
     "locked": false,
     "schema_version": 1,
     "solution": true
    }
   },
   "outputs": [],
   "source": [
    "def create_tables_sql() -> str:\n",
    "    return 'CREATE TABLE exhibits (id INTEGER PRIMARY KEY, name VARCHAR(255), start_date DATE, end_date DATE, curator_id INTEGER); CREATE TABLE curators (id INTEGER PRIMARY KEY, name VARCHAR(255), bio TEXT);'"
   ]
  },
  {
   "cell_type": "code",
   "execution_count": null,
   "metadata": {
    "deletable": false,
    "editable": false,
    "nbgrader": {
     "checksum": "c7fc4e59fc371d3c6943ceb096dc8fda",
     "grade": true,
     "grade_id": "cell-f0b2a4f52364ca3e",
     "locked": true,
     "points": 0,
     "schema_version": 1,
     "solution": false
    }
   },
   "outputs": [],
   "source": [
    "### BEGIN TESTS\n",
    "import sqlite3\n",
    "conn = sqlite3.connect(':memory:')\n",
    "\n",
    "c = conn.cursor()\n",
    "\n",
    "c.executescript(create_tables_sql())\n",
    "\n",
    "conn.commit()\n",
    "### END TESTS"
   ]
  },
  {
   "cell_type": "markdown",
   "metadata": {},
   "source": [
    "**Q**: Write a function that returns a string containing the SQL necessary to add the data from the two tables above.\n",
    "\n",
    "This data is necessary for future problems.\n",
    "\n",
    "[0 points]"
   ]
  },
  {
   "cell_type": "code",
   "execution_count": null,
   "metadata": {
    "deletable": false,
    "nbgrader": {
     "checksum": "02f703f690afdc0f0a973d8a92def5f0",
     "grade": false,
     "grade_id": "cell-dd95d3a6b4b0d7dd",
     "locked": false,
     "schema_version": 1,
     "solution": true
    }
   },
   "outputs": [],
   "source": [
    "def insert_data_sql() -> str:\n",
    "    return \"INSERT INTO exhibits VALUES (3, 'Free The Fishes', '2018-01-01', '2018-06-30',5),(17, 'Space, What Lies Above','2018-02-01','2018-05-30',11),(23, 'Bears Bears Bears','2018-02-14','2018-02-24',5),(46,'Humans? Aliens?','2019-03-14','2019-10-21',11); INSERT INTO curators VALUES (5,'Rebecca Votea','Esteemed naturalist'),(11,'Simon Strauss','Space man'),(71,'Rick Sanchez','Grandfather');\""
   ]
  },
  {
   "cell_type": "code",
   "execution_count": null,
   "metadata": {
    "deletable": false,
    "editable": false,
    "nbgrader": {
     "checksum": "828b08dd44a334c07e4e3fbf76cffab3",
     "grade": true,
     "grade_id": "cell-3de325c72a925e5e",
     "locked": true,
     "points": 0,
     "schema_version": 1,
     "solution": false
    }
   },
   "outputs": [],
   "source": [
    "### BEGIN TESTS\n",
    "c.executescript(insert_data_sql())\n",
    "conn.commit()\n",
    "### END TESTS"
   ]
  },
  {
   "cell_type": "markdown",
   "metadata": {
    "deletable": false,
    "editable": false,
    "nbgrader": {
     "checksum": "6cb29b24c5022f9e72f251110f4696c6",
     "grade": false,
     "grade_id": "cell-1632186623d6d781",
     "locked": true,
     "schema_version": 1,
     "solution": false
    }
   },
   "source": [
    "**Q**: Create a function that will return the SQL to find all the names of all the curators ordered by their id. IDs should be in descending order. Do not use an alias for the table name.\n",
    "\n",
    "[1 point]"
   ]
  },
  {
   "cell_type": "code",
   "execution_count": null,
   "metadata": {
    "deletable": false,
    "nbgrader": {
     "checksum": "3bb41969f3fe89401270479a33cf78a8",
     "grade": false,
     "grade_id": "cell-47e83ca712cccece",
     "locked": false,
     "schema_version": 1,
     "solution": true
    }
   },
   "outputs": [],
   "source": [
    "def get_sql():\n",
    "    return 'SELECT name FROM curators ORDER BY id DESC'"
   ]
  },
  {
   "cell_type": "code",
   "execution_count": null,
   "metadata": {
    "deletable": false,
    "editable": false,
    "nbgrader": {
     "checksum": "9dbbb05924ed70e3a3149d192c28aaf1",
     "grade": true,
     "grade_id": "cell-8c584e66fca1031f",
     "locked": true,
     "points": 1,
     "schema_version": 1,
     "solution": false
    }
   },
   "outputs": [],
   "source": [
    "### BEGIN TESTS\n",
    "c.execute(get_sql())\n",
    "result = c.fetchall()\n",
    "assert result == [('Rick Sanchez',), ('Simon Strauss',), ('Rebecca Votea',)]\n",
    "### BEGIN TESTS"
   ]
  },
  {
   "cell_type": "markdown",
   "metadata": {
    "deletable": false,
    "editable": false,
    "nbgrader": {
     "checksum": "b974f150738b55545557cef24d85eca6",
     "grade": false,
     "grade_id": "cell-e9e5d7ae96965671",
     "locked": true,
     "schema_version": 1,
     "solution": false
    }
   },
   "source": [
    "**Q**: Create a function that will return the SQL to find all the names of all exhibts and the names of their associated curators. If an exhibit does not have a curator, the exhibit should not be in the result. Even if a curator does not have an exhibit, the curator should be present in the final result. The first letter of the table name should be used as its alias.\n",
    "\n",
    "For example,\n",
    "\n",
    "```\n",
    "Rebecca Votea, Free The Fishes\n",
    "Rebecca Votea, Bears Bears Bears\n",
    "Rick Sanchez, \n",
    "...\n",
    "```\n",
    "\n",
    "[1 point]"
   ]
  },
  {
   "cell_type": "code",
   "execution_count": null,
   "metadata": {
    "deletable": false,
    "nbgrader": {
     "checksum": "dd3d7bc8bfaf025343ccf59b86983cb9",
     "grade": false,
     "grade_id": "cell-dd55b2d154d1f0b8",
     "locked": false,
     "schema_version": 1,
     "solution": true
    }
   },
   "outputs": [],
   "source": [
    "def get_sql():\n",
    "    return \"SELECT c.name, e.name FROM curators c LEFT JOIN exhibits e ON e.curator_id=c.id;\""
   ]
  },
  {
   "cell_type": "code",
   "execution_count": null,
   "metadata": {
    "deletable": false,
    "editable": false,
    "nbgrader": {
     "checksum": "d70784da2e0bc560e3d73434ff5d7d53",
     "grade": true,
     "grade_id": "cell-2ebddb0b10914442",
     "locked": true,
     "points": 1,
     "schema_version": 1,
     "solution": false
    }
   },
   "outputs": [],
   "source": [
    "### BEGIN TESTS\n",
    "c.execute(get_sql())\n",
    "result = set(c.fetchall())\n",
    "expected = {\n",
    "    ('Rebecca Votea', 'Bears Bears Bears'),\n",
    "    ('Rebecca Votea', 'Free The Fishes'),\n",
    "    ('Rick Sanchez', None),\n",
    "    ('Simon Strauss', 'Humans? Aliens?'),\n",
    "    ('Simon Strauss', 'Space, What Lies Above')\n",
    "}\n",
    "assert result == expected\n",
    "### BEGIN TESTS"
   ]
  },
  {
   "cell_type": "markdown",
   "metadata": {
    "deletable": false,
    "editable": false,
    "nbgrader": {
     "checksum": "0419d4c89ca73494b66d2f6ec35fbc0f",
     "grade": false,
     "grade_id": "cell-7d8c0872cb5f80fa",
     "locked": true,
     "schema_version": 1,
     "solution": false
    }
   },
   "source": [
    "**Q**: Create a function that will return the SQL to find the number of exhibits for all curators with a name that starts with \"R\" (case-insensitive). The output of running the SQL should be two fields (name, count). \n",
    "\n",
    "Even if a curator does not have an exhibit, the curator should be present in the final result. The first letter of the table name should be used as its alias. You can not assume curators names are distinct.\n",
    "\n",
    "[1 point]"
   ]
  },
  {
   "cell_type": "code",
   "execution_count": null,
   "metadata": {
    "deletable": false,
    "nbgrader": {
     "checksum": "7ebba975c54048b4921218efdff452c9",
     "grade": false,
     "grade_id": "cell-0381ce7f2909db88",
     "locked": false,
     "schema_version": 1,
     "solution": true
    }
   },
   "outputs": [],
   "source": [
    "def get_sql():\n",
    "    return \"SELECT c.name, COUNT(e.name) FROM curators c LEFT JOIN exhibits e ON e.curator_id=c.id WHERE c.name LIKE 'R%' GROUP BY c.id;\""
   ]
  },
  {
   "cell_type": "code",
   "execution_count": null,
   "metadata": {
    "deletable": false,
    "editable": false,
    "nbgrader": {
     "checksum": "dac29a96ada0fc7bfed2ba212eacd8b6",
     "grade": true,
     "grade_id": "cell-156cced94b512b38",
     "locked": true,
     "points": 1,
     "schema_version": 1,
     "solution": false
    }
   },
   "outputs": [],
   "source": [
    "### BEGIN TESTS\n",
    "c.execute(get_sql())\n",
    "result = set(c.fetchall())\n",
    "expected = {\n",
    "    ('Rebecca Votea', 2), \n",
    "    ('Rick Sanchez', 0),\n",
    "}\n",
    "assert result == expected\n",
    "### BEGIN TESTS"
   ]
  },
  {
   "cell_type": "markdown",
   "metadata": {
    "deletable": false,
    "editable": false,
    "nbgrader": {
     "checksum": "a54fb4de0b761de708add1e630558074",
     "grade": false,
     "grade_id": "cell-23b2138e4594ec8a",
     "locked": true,
     "schema_version": 1,
     "solution": false
    }
   },
   "source": [
    "**Q**: Create a function that will return the SQL to find the exhibits with overlapping runs (overlapping intervals of time bound by start date and end date (inclusive)). The result should include only one instance of each overlapping pair. The exhibit with the lower valued ID should be listed as `exhibit1` in the result and the other with `exhibit2`.\n",
    "\n",
    "The result should be:\n",
    "\n",
    "```\n",
    "        exhibit1        |        exhibit2        \n",
    "------------------------+------------------------\n",
    " Free The Fishes        | Space, What Lies Above\n",
    " Free The Fishes        | Bears Bears Bears\n",
    " Space, What Lies Above | Bears Bears Bears\n",
    "```\n",
    "\n",
    "The first letter of the table name should be used as its alias. If multiple instances of the same table are necessary, append a number to the end of the alias. The number sequence appended to the alias should start at 1.\n",
    "\n",
    "[1 point]"
   ]
  },
  {
   "cell_type": "code",
   "execution_count": null,
   "metadata": {
    "deletable": false,
    "nbgrader": {
     "checksum": "a5b05ac842d2506bdd1afbd0a8a6246e",
     "grade": false,
     "grade_id": "cell-31cbf33af0444f1a",
     "locked": false,
     "schema_version": 1,
     "solution": true
    }
   },
   "outputs": [],
   "source": [
    "def get_sql():\n",
    "    return \"SELECT e1.name as exhibit1,e2.name as exhibit2 FROM exhibits e1,exhibits e2 WHERE e1.id <> e2.id AND (e2.start_date>=e1.start_date AND e2.end_date<=e1.end_date);\""
   ]
  },
  {
   "cell_type": "code",
   "execution_count": null,
   "metadata": {
    "deletable": false,
    "editable": false,
    "nbgrader": {
     "checksum": "63820c2604f419f0c03118b2304508f8",
     "grade": true,
     "grade_id": "cell-068a6237adc2e06c",
     "locked": true,
     "points": 1,
     "schema_version": 1,
     "solution": false
    }
   },
   "outputs": [],
   "source": [
    "### BEGIN TESTS\n",
    "c.execute(get_sql())\n",
    "result = set(c.fetchall())\n",
    "result = tuple(map(set, result))\n",
    "\n",
    "expected = (\n",
    "    {'Bears Bears Bears', 'Space, What Lies Above'},\n",
    "    {'Bears Bears Bears', 'Free The Fishes'}, \n",
    "    {'Free The Fishes', 'Space, What Lies Above'}\n",
    ")\n",
    "\n",
    "for set_ in expected:\n",
    "    assert set_ in result\n",
    "\n",
    "assert len(result) == 3\n",
    "### BEGIN TESTS"
   ]
  },
  {
   "cell_type": "code",
   "execution_count": null,
   "metadata": {
    "deletable": false,
    "editable": false,
    "nbgrader": {
     "checksum": "2d8cf27f2944c114eca396a81f2ce3d3",
     "grade": true,
     "grade_id": "cell-1249017f35452bbc",
     "locked": true,
     "points": 0,
     "schema_version": 1,
     "solution": false
    }
   },
   "outputs": [],
   "source": []
  }
 ],
 "metadata": {
  "kernelspec": {
   "display_name": "Python 3",
   "language": "python",
   "name": "python3"
  },
  "language_info": {
   "codemirror_mode": {
    "name": "ipython",
    "version": 3
   },
   "file_extension": ".py",
   "mimetype": "text/x-python",
   "name": "python",
   "nbconvert_exporter": "python",
   "pygments_lexer": "ipython3",
   "version": "3.7.0"
  }
 },
 "nbformat": 4,
 "nbformat_minor": 2
}
