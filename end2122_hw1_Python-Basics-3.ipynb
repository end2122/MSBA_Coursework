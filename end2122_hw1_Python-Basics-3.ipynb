{
 "cells": [
  {
   "cell_type": "markdown",
   "metadata": {},
   "source": [
    "**BONUS Q**: Write a script that acts like a stopwatch. You should be prompted to press enter to start the watch. Once the watch is running, you can create a lap by pressing enter again. Every time \"ENTER\" is pressed, the current lap time should be printed. Lap time is time that has elapsed since the last press of the \"ENTER\" button.\n",
    "\n",
    "```python\n",
    ">>> def timer():\n",
    "...     # implement me\n",
    "...     pass\n",
    ">>> timer()\n",
    "PRESS ENTER >\n",
    "LAP: 0.0\n",
    "PRESS ENTER >\n",
    "LAP: 2.182952880859375\n",
    "PRESS ENTER >\n",
    "LAP: 2.125649929046631\n",
    "PRESS ENTER >\n",
    "```\n",
    "\n",
    "[0 points]"
   ]
  },
  {
   "cell_type": "code",
   "execution_count": null,
   "metadata": {
    "deletable": false,
    "nbgrader": {
     "checksum": "6cbe23fdc75ab5b33410abe394977d3c",
     "grade": false,
     "grade_id": "cell-b29f023d4c702a2f",
     "locked": false,
     "schema_version": 1,
     "solution": true
    }
   },
   "outputs": [],
   "source": [
    "import time\n",
    "\n",
    "def timer():\n",
    "    # YOUR CODE HERE\n",
    "    raise NotImplementedError()\n",
    "    \n",
    "# timer()  # uncomment me to test me out"
   ]
  },
  {
   "cell_type": "markdown",
   "metadata": {},
   "source": [
    "---"
   ]
  },
  {
   "cell_type": "markdown",
   "metadata": {},
   "source": [
    "**Q**: Create a Ceaser cipher. Implement a function `ceaser_encrypt` that takes some text (`plaintext`) and returns ciphertext. To compute the ciphertext, iterate through each letter in the plain text and replace it with the letter that is 13 characters forward in the ASCII alphabet. For letters that are too far towards the end of the alphabet, start back at the beginning of the alphabet and continue counting up to 13. The function should convert `plaintext` to lower case before operating on the text. All punctuation should be ignored by the cipher.\n",
    "\n",
    "For example:\n",
    "\n",
    "```python\n",
    ">>> def ceaser_encrypt(plaintext):\n",
    "...     # implement me\n",
    "...     pass\n",
    "... \n",
    ">>> ceaser_encrypt('You rock!')\n",
    "'lbh ebpx!'\n",
    "```\n",
    "[1 point]\n",
    "\n",
    "For fun, see what the result is if you pass text encrypted by `ceaser_encrypt` back into `ceaser_encrypt`."
   ]
  },
  {
   "cell_type": "code",
   "execution_count": null,
   "metadata": {
    "deletable": false,
    "nbgrader": {
     "checksum": "0db3c75eea6e0cf5f2d708f757b22bd1",
     "grade": false,
     "grade_id": "cell-aad5279e1353f544",
     "locked": false,
     "schema_version": 1,
     "solution": true
    }
   },
   "outputs": [],
   "source": [
    "import string\n",
    "\n",
    "def ceaser_encrypt(plaintext):\n",
    "    \"\"\"Performs +13 cesar encryption with loop around alphabet\"\"\"\n",
    "    \n",
    "    plaintext=plaintext.lower()\n",
    "    letter_min = ord('a')\n",
    "    letter_max = ord('z')\n",
    "    output = ''\n",
    "    \n",
    "    for char in plaintext:\n",
    "        if ord(char)<ord('a') or ord(char)>ord('z'):\n",
    "            output=output+char\n",
    "        else:\n",
    "            if ord(char)+13>letter_max:\n",
    "                new_char_ord = ((ord(char)+13)-letter_max)+letter_min-1\n",
    "                new_char = chr(new_char_ord)\n",
    "                output = output+new_char\n",
    "            else:\n",
    "                output = output+chr(ord(char)+13)\n",
    "                \n",
    "    return output\n",
    "    \n",
    "    raise NotImplementedError()"
   ]
  },
  {
   "cell_type": "code",
   "execution_count": null,
   "metadata": {
    "deletable": false,
    "editable": false,
    "nbgrader": {
     "checksum": "f57b98e6509f12bf0f19f2e77a256b3a",
     "grade": true,
     "grade_id": "cell-e0ac874facd027c9",
     "locked": true,
     "points": 1,
     "schema_version": 1,
     "solution": false
    }
   },
   "outputs": [],
   "source": []
  },
  {
   "cell_type": "markdown",
   "metadata": {},
   "source": [
    "---"
   ]
  },
  {
   "cell_type": "markdown",
   "metadata": {},
   "source": [
    "**Q**: Write a function named `factorial` to find the factorial for a given number.\n",
    "\n",
    "```\n",
    ">>> factorial(3)\n",
    "6\n",
    "```\n",
    "\n",
    "[1 point]"
   ]
  },
  {
   "cell_type": "code",
   "execution_count": null,
   "metadata": {
    "deletable": false,
    "nbgrader": {
     "checksum": "9d43655bc26e30366717575fc58ef97c",
     "grade": false,
     "grade_id": "cell-e103feeaf57201f9",
     "locked": false,
     "schema_version": 1,
     "solution": true
    }
   },
   "outputs": [],
   "source": [
    "def factorial(n):\n",
    "    \"\"\"Returns factorial of a given number\"\"\"\n",
    "    output = 1\n",
    "    \n",
    "    for i in range(1,n+1):\n",
    "        output*=i\n",
    "    \n",
    "    return output\n",
    "    raise NotImplementedError()"
   ]
  },
  {
   "cell_type": "code",
   "execution_count": null,
   "metadata": {
    "deletable": false,
    "editable": false,
    "nbgrader": {
     "checksum": "5be1e1852bf6115578c2809188167231",
     "grade": true,
     "grade_id": "cell-84c815a70530d4da",
     "locked": true,
     "points": 1,
     "schema_version": 1,
     "solution": false
    }
   },
   "outputs": [],
   "source": []
  },
  {
   "cell_type": "code",
   "execution_count": null,
   "metadata": {},
   "outputs": [],
   "source": []
  }
 ],
 "metadata": {
  "anaconda-cloud": {},
  "kernelspec": {
   "display_name": "Python 3",
   "language": "python",
   "name": "python3"
  },
  "language_info": {
   "codemirror_mode": {
    "name": "ipython",
    "version": 3
   },
   "file_extension": ".py",
   "mimetype": "text/x-python",
   "name": "python",
   "nbconvert_exporter": "python",
   "pygments_lexer": "ipython3",
   "version": "3.6.5"
  }
 },
 "nbformat": 4,
 "nbformat_minor": 1
}
