{
 "cells": [
  {
   "cell_type": "code",
   "execution_count": null,
   "metadata": {
    "deletable": false,
    "editable": false,
    "nbgrader": {
     "checksum": "464f2e4caf203b3cb70cdc317810dd02",
     "grade": true,
     "grade_id": "cell-e5713946811b5d52",
     "locked": true,
     "points": 0,
     "schema_version": 1,
     "solution": false
    }
   },
   "outputs": [],
   "source": [
    "### BEGIN TESTS\n",
    "import subprocess\n",
    "import tempfile\n",
    "import os\n",
    "\n",
    "\n",
    "def clean_bash_function(text):\n",
    "    if 'rm' in text:\n",
    "        raise ValueError('rm found in text of script. No points.')\n",
    "    \n",
    "    text = text.strip()\n",
    "    # Get first \\n\n",
    "    lines = text.split('\\n')\n",
    "\n",
    "    return '\\n'.join(line.lstrip() for line in lines)\n",
    "\n",
    "\n",
    "def run_script(text, args=None, timeout=None):\n",
    "    args = args or []\n",
    "    text = clean_bash_function(text)\n",
    "    with tempfile.NamedTemporaryFile() as file:\n",
    "        file.write(text.encode())\n",
    "        file.flush()\n",
    "        os.chmod(file.name, 0o777)    \n",
    "        response = subprocess.run(\n",
    "            ['/bin/bash', file.name] + args, \n",
    "            timeout=timeout, \n",
    "            stdout=subprocess.PIPE, \n",
    "            stderr=subprocess.PIPE,\n",
    "        )\n",
    "        return response\n",
    "### END TESTS"
   ]
  },
  {
   "cell_type": "markdown",
   "metadata": {},
   "source": [
    "**DO NOT INCLUDE THE STRING  `rm`  ANYWHERE IN YOUR SCRIPTS OR YOU COULD GET ZERO POINTS FOR THE QUESTION.**"
   ]
  },
  {
   "cell_type": "markdown",
   "metadata": {},
   "source": [
    "**Q**: Write a function `get_bash_function` that returns the text of a bash script. For example:\n",
    "\n",
    "```python\n",
    "def get_bash_function():\n",
    "    return \"\"\"\n",
    "    #!/bin/bash\n",
    "    echo Hello!\n",
    "    \"\"\"\n",
    "```\n",
    "\n",
    "The bash script should not return \"hello\" but should count down from 5 to 1 (inclusive), printing each number as it goes and should print \"GO!\" after printing 1. All values should be printed to their own line. All values should be printed to standard out. The script should pause for one second in between printing each line. A `for` loop should be used in the count down. If you script were run at the command line, output would be this:\n",
    "\n",
    "```bash\n",
    "$ /bin/bash your-script.sh\n",
    "5\n",
    "4\n",
    "3\n",
    "2\n",
    "1\n",
    "GO!\n",
    "```\n",
    "\n",
    "[2 points]"
   ]
  },
  {
   "cell_type": "code",
   "execution_count": null,
   "metadata": {
    "deletable": false,
    "nbgrader": {
     "checksum": "2839bd20ed6c93cc75f15a43ad6c8bc5",
     "grade": false,
     "grade_id": "cell-40a07e3e81c26639",
     "locked": false,
     "schema_version": 1,
     "solution": true
    }
   },
   "outputs": [],
   "source": [
    "def get_bash_function():\n",
    "    return \"\"\"\n",
    "    #!/bin/bash\n",
    "    i=5\n",
    "    while (( i >= 1 ))\n",
    "    do\n",
    "        echo $(( i-- ))\n",
    "        sleep 1s\n",
    "    done\n",
    "    echo \"GO!\"\n",
    "    \"\"\""
   ]
  },
  {
   "cell_type": "code",
   "execution_count": null,
   "metadata": {
    "deletable": false,
    "editable": false,
    "nbgrader": {
     "checksum": "86cfc0830436a216f8703ac24cc5f604",
     "grade": true,
     "grade_id": "cell-ae95381e40692307",
     "locked": true,
     "points": 0.5,
     "schema_version": 1,
     "solution": false
    }
   },
   "outputs": [],
   "source": [
    "### BEGIN TESTS\n",
    "text = get_bash_function()\n",
    "response = run_script(text, timeout=10)\n",
    "assert response.stdout.decode().strip().split() == ['5', '4', '3', '2', '1', 'GO!']\n",
    "### END TESTS"
   ]
  },
  {
   "cell_type": "code",
   "execution_count": null,
   "metadata": {
    "deletable": false,
    "editable": false,
    "nbgrader": {
     "checksum": "f2faef631a4ab4030a153b024d18bff4",
     "grade": true,
     "grade_id": "cell-de51c6a3de2b41e7",
     "locked": true,
     "points": 0.5,
     "schema_version": 1,
     "solution": false
    }
   },
   "outputs": [],
   "source": []
  },
  {
   "cell_type": "code",
   "execution_count": null,
   "metadata": {
    "deletable": false,
    "editable": false,
    "nbgrader": {
     "checksum": "b9d36c9e270db7e17f243739581ba559",
     "grade": true,
     "grade_id": "cell-396d56170dc6809e",
     "locked": true,
     "points": 0.5,
     "schema_version": 1,
     "solution": false
    }
   },
   "outputs": [],
   "source": []
  },
  {
   "cell_type": "code",
   "execution_count": null,
   "metadata": {
    "deletable": false,
    "editable": false,
    "nbgrader": {
     "checksum": "bd4cc50d10aa2558a6ee2f7df3270c97",
     "grade": true,
     "grade_id": "cell-e562b568261ce8ae",
     "locked": true,
     "points": 0.5,
     "schema_version": 1,
     "solution": false
    }
   },
   "outputs": [],
   "source": []
  },
  {
   "cell_type": "markdown",
   "metadata": {},
   "source": [
    "---"
   ]
  },
  {
   "cell_type": "markdown",
   "metadata": {},
   "source": [
    "**Q**: Write a function `get_bash_function` that returns the text of a bash script. For example:\n",
    "\n",
    "```python\n",
    "def get_bash_function():\n",
    "    return \"\"\"\n",
    "    #!/bin/bash\n",
    "    echo Hello!\n",
    "    \"\"\"\n",
    "```\n",
    "\n",
    "The bash script should not return \"hello\" but should take one argument and use it within a greeting. Please use the greeting seen in the example. All output should be printed to standard out. If you script were run at the command line, output would be this:\n",
    "\n",
    "```bash\n",
    "$ /bin/bash your-script.sh Paul\n",
    "Well, hello Paul! Nice to meet you today :)\n",
    "```\n",
    "[1 point]"
   ]
  },
  {
   "cell_type": "code",
   "execution_count": null,
   "metadata": {
    "deletable": false,
    "nbgrader": {
     "checksum": "123d03295ca028a0564029653c0cd9d5",
     "grade": false,
     "grade_id": "cell-0ae8eeb9e364516c",
     "locked": false,
     "schema_version": 1,
     "solution": true
    }
   },
   "outputs": [],
   "source": [
    "def get_bash_function():\n",
    "    return \"\"\"\n",
    "    #!/bin/bash\n",
    "    echo Well, hello $@! Nice to meet you today :)\n",
    "    \"\"\""
   ]
  },
  {
   "cell_type": "code",
   "execution_count": null,
   "metadata": {
    "deletable": false,
    "editable": false,
    "nbgrader": {
     "checksum": "0b652b4091dab8f8b172d1b5434fcd00",
     "grade": true,
     "grade_id": "cell-2af32a0dc3f329d1",
     "locked": true,
     "points": 1,
     "schema_version": 1,
     "solution": false
    }
   },
   "outputs": [],
   "source": []
  },
  {
   "cell_type": "markdown",
   "metadata": {},
   "source": [
    "---"
   ]
  },
  {
   "cell_type": "markdown",
   "metadata": {},
   "source": [
    "**Q**: Write a function `get_bash_function` that returns the text of a bash script. For example:\n",
    "\n",
    "```python\n",
    "def get_bash_function():\n",
    "    return \"\"\"\n",
    "    #!/bin/bash\n",
    "    echo Hello!\n",
    "    \"\"\"\n",
    "```\n",
    "\n",
    "The bash script should not return \"hello\" but should take one argument and find that argument's factorial. All output should be printed to standard out. If you script were run at the command line, output would be this:\n",
    "\n",
    "```bash\n",
    "$ /bin/bash your-script.sh 5\n",
    "120\n",
    "```\n",
    "[2 points]"
   ]
  },
  {
   "cell_type": "code",
   "execution_count": null,
   "metadata": {
    "deletable": false,
    "nbgrader": {
     "checksum": "60b936af1b84526eb16fe56f9016f497",
     "grade": false,
     "grade_id": "cell-fd417f3e5c08b2a1",
     "locked": false,
     "schema_version": 1,
     "solution": true
    }
   },
   "outputs": [],
   "source": [
    "def get_bash_function():\n",
    "    return \"\"\"\n",
    "    #!/bin/bash\n",
    "    output=1\n",
    "    for num in $(seq $@)\n",
    "    do\n",
    "        output=$((output*num))\n",
    "    done\n",
    "    echo $output\n",
    "    \"\"\""
   ]
  },
  {
   "cell_type": "code",
   "execution_count": null,
   "metadata": {
    "deletable": false,
    "editable": false,
    "nbgrader": {
     "checksum": "aa406083d2529fa6bac6b2ddbf8b3937",
     "grade": true,
     "grade_id": "cell-3b22872326e5c128",
     "locked": true,
     "points": 1,
     "schema_version": 1,
     "solution": false
    }
   },
   "outputs": [],
   "source": [
    "### BEGIN TESTS\n",
    "text = get_bash_function()\n",
    "\n",
    "response = run_script(text, args=['5'], timeout=2)\n",
    "\n",
    "assert response.stdout.decode().strip() == '120'\n",
    "### END TESTS"
   ]
  },
  {
   "cell_type": "code",
   "execution_count": null,
   "metadata": {
    "deletable": false,
    "editable": false,
    "nbgrader": {
     "checksum": "5ece23018c4803ff76593d88b3df7616",
     "grade": true,
     "grade_id": "cell-7528b05a98e71db9",
     "locked": true,
     "points": 1,
     "schema_version": 1,
     "solution": false
    }
   },
   "outputs": [],
   "source": []
  }
 ],
 "metadata": {
  "kernelspec": {
   "display_name": "Python 3",
   "language": "python",
   "name": "python3"
  },
  "language_info": {
   "codemirror_mode": {
    "name": "ipython",
    "version": 3
   },
   "file_extension": ".py",
   "mimetype": "text/x-python",
   "name": "python",
   "nbconvert_exporter": "python",
   "pygments_lexer": "ipython3",
   "version": "3.6.5"
  }
 },
 "nbformat": 4,
 "nbformat_minor": 2
}
